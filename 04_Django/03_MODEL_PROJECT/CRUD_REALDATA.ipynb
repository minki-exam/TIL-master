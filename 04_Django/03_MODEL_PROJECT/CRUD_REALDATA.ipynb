{
 "cells": [
  {
   "cell_type": "code",
   "execution_count": 14,
   "metadata": {},
   "outputs": [],
   "source": [
    "from real_data.models import HotIssue\n",
    "import requests\n",
    "from bs4 import BeautifulSoup\n"
   ]
  },
  {
   "cell_type": "code",
   "execution_count": 12,
   "metadata": {},
   "outputs": [],
   "source": [
    "def get_hot_issue():\n",
    "\n",
    "    url = 'https://datalab.naver.com/keyword/realtimeList.naver'\n",
    "    headers = {'user-agent': ':)'}\n",
    "\n",
    "\n",
    "    res = requests.get(url, headers = headers).text\n",
    "    soup = BeautifulSoup(res, 'html.parser')\n",
    "\n",
    "    time_sel = '#content > div > div.section_serch_area > div > div.time_indo > a.time_box._time_trigger > span.time_txt._title_hms'\n",
    "    date_sel = '#content > div > div.section_serch_area > div > div.date_indo > a.date_box._date_trigger > span.date_txt._title_ymd'\n",
    "    rank_sel = '#content > div > div.keyword_carousel > div > div > div:nth-child(1) > div > div > ul > li:nth-child(1) > a > em'\n",
    "    keyword_sel = '#content > div > div.keyword_carousel > div > div > div:nth-child(1) > div > div > ul > li:nth-child(1) > a > span'\n",
    "\n",
    "    date = soup.select_one(date_sel).text\n",
    "    time = soup.select_one(time_sel).text\n",
    "    rank = soup.select_one(rank_sel).text\n",
    "    keyword = soup.select_one(keyword_sel).text\n",
    "    \n",
    "    return {'time' : time, 'date' : date, 'rank' : rank, 'keyword' : keyword}\n",
    "\n"
   ]
  },
  {
   "cell_type": "code",
   "execution_count": 15,
   "metadata": {},
   "outputs": [],
   "source": [
    "def get_hot_issue(n):\n",
    "    url = 'https://datalab.naver.com/keyword/realtimeList.naver'\n",
    "    headers = {'user-agent': ':)'}\n",
    "    res = requests.get(url, headers=headers).text\n",
    "\n",
    "    soup = BeautifulSoup(res, 'html.parser')\n",
    "\n",
    "    time_sel ='#content > div > div.section_serch_area > div > div.time_indo > a.time_box._time_trigger > span.time_txt._title_hms'\n",
    "    date_sel = '#content > div > div.section_serch_area > div > div.date_indo > a.date_box._date_trigger > span.date_txt._title_ymd'\n",
    "    rank_sel = f'#content > div > div.keyword_carousel > div > div > div:nth-child(1) > div > div > ul > li:nth-child({n}) > a > em'\n",
    "    keyword_sel = f'#content > div > div.keyword_carousel > div > div > div:nth-child(1) > div > div > ul > li:nth-child({n}) > a > span'\n",
    "\n",
    "    time = soup.select_one(time_sel).text\n",
    "    date = soup.select_one(date_sel).text\n",
    "    rank = soup.select_one(rank_sel).text\n",
    "    keyword = soup.select_one(keyword_sel).text\n",
    "    \n",
    "    return {'time': time, 'date': date, 'rank': rank, 'keyword': keyword}"
   ]
  },
  {
   "cell_type": "code",
   "execution_count": 13,
   "metadata": {},
   "outputs": [
    {
     "ename": "NameError",
     "evalue": "name 'date' is not defined",
     "output_type": "error",
     "traceback": [
      "\u001b[1;31m------------------------------------------------------------------\u001b[0m",
      "\u001b[1;31mNameError\u001b[0m                        Traceback (most recent call last)",
      "\u001b[1;32m<ipython-input-13-ed51f2909f92>\u001b[0m in \u001b[0;36m<module>\u001b[1;34m\u001b[0m\n\u001b[0;32m      4\u001b[0m \u001b[1;33m\u001b[0m\u001b[0m\n\u001b[0;32m      5\u001b[0m \u001b[0mhi\u001b[0m\u001b[1;33m.\u001b[0m\u001b[0mtime\u001b[0m \u001b[1;33m=\u001b[0m \u001b[0mdata1\u001b[0m\u001b[1;33m.\u001b[0m\u001b[0mget\u001b[0m\u001b[1;33m(\u001b[0m\u001b[0mtime\u001b[0m\u001b[1;33m)\u001b[0m\u001b[1;33m\u001b[0m\u001b[1;33m\u001b[0m\u001b[0m\n\u001b[1;32m----> 6\u001b[1;33m \u001b[0mhi\u001b[0m\u001b[1;33m.\u001b[0m\u001b[0mdate\u001b[0m \u001b[1;33m=\u001b[0m \u001b[0mdata1\u001b[0m\u001b[1;33m.\u001b[0m\u001b[0mget\u001b[0m\u001b[1;33m(\u001b[0m\u001b[0mdate\u001b[0m\u001b[1;33m)\u001b[0m\u001b[1;33m\u001b[0m\u001b[1;33m\u001b[0m\u001b[0m\n\u001b[0m\u001b[0;32m      7\u001b[0m \u001b[0mhi\u001b[0m\u001b[1;33m.\u001b[0m\u001b[0mrank\u001b[0m \u001b[1;33m=\u001b[0m \u001b[0mdata1\u001b[0m\u001b[1;33m.\u001b[0m\u001b[0mget\u001b[0m\u001b[1;33m(\u001b[0m\u001b[0mrank\u001b[0m\u001b[1;33m)\u001b[0m\u001b[1;33m\u001b[0m\u001b[1;33m\u001b[0m\u001b[0m\n\u001b[0;32m      8\u001b[0m \u001b[0mhi\u001b[0m\u001b[1;33m.\u001b[0m\u001b[0mkeyword\u001b[0m \u001b[1;33m=\u001b[0m \u001b[0mdata1\u001b[0m\u001b[1;33m.\u001b[0m\u001b[0mget\u001b[0m\u001b[1;33m(\u001b[0m\u001b[0mkeyword\u001b[0m\u001b[1;33m)\u001b[0m\u001b[1;33m\u001b[0m\u001b[1;33m\u001b[0m\u001b[0m\n",
      "\u001b[1;31mNameError\u001b[0m: name 'date' is not defined"
     ]
    }
   ],
   "source": [
    "data1 = get_hot_issue()\n",
    "\n",
    "hi = HotIssue()\n",
    "\n",
    "hi.time = data1.get(time)\n",
    "hi.date = data1.get(date)\n",
    "hi.rank = data1.get(rank)\n",
    "hi.keyword = data1.get(keyword)\n",
    "hi.save()\n",
    "print(hi.data)"
   ]
  },
  {
   "cell_type": "code",
   "execution_count": 16,
   "metadata": {},
   "outputs": [],
   "source": [
    "for i in range(1, 10):\n",
    "    HotIssue.objects.create(\n",
    "        time=get_hot_issue(i).get('time'),\n",
    "        date=get_hot_issue(i).get('date'),\n",
    "        rank=get_hot_issue(i).get('rank'),\n",
    "        keyword=get_hot_issue(i).get('keyword')\n",
    "    )"
   ]
  },
  {
   "cell_type": "code",
   "execution_count": 6,
   "metadata": {},
   "outputs": [
    {
     "name": "stdout",
     "output_type": "stream",
     "text": [
      "#content > div > div.section_serch_area > div > div.time_indo > a.time_box._time_trigger > span.time_txt._title_hms\n",
      "16:38\n"
     ]
    }
   ],
   "source": [
    "url = 'https://datalab.naver.com/keyword/realtimeList.naver'\n",
    "headers = {'user-agent': ':)'}\n",
    "res = requests.get(url, headers = headers).text #여기서 그 사이트의 HTML형태를 텍스트로 뽑아온다.\n",
    "soup = BeautifulSoup(res, 'html.parser')\n",
    "time_sel = '#content > div > div.section_serch_area > div > div.time_indo > a.time_box._time_trigger > span.time_txt._title_hms'\n",
    "print(time_sel)\n",
    "time = soup.select_one(time_sel).text\n",
    "print(time)"
   ]
  },
  {
   "cell_type": "code",
   "execution_count": 9,
   "metadata": {},
   "outputs": [
    {
     "name": "stdout",
     "output_type": "stream",
     "text": [
      "<Response [200]>\n"
     ]
    }
   ],
   "source": [
    "import requests\n",
    "\n",
    "response = requests.get('https://www.naver.com')\n",
    "print(response)"
   ]
  },
  {
   "cell_type": "code",
   "execution_count": null,
   "metadata": {},
   "outputs": [],
   "source": []
  }
 ],
 "metadata": {
  "kernelspec": {
   "display_name": "Django Shell-Plus",
   "language": "python",
   "name": "django_extensions"
  },
  "language_info": {
   "codemirror_mode": {
    "name": "ipython",
    "version": 3
   },
   "file_extension": ".py",
   "mimetype": "text/x-python",
   "name": "python",
   "nbconvert_exporter": "python",
   "pygments_lexer": "ipython3",
   "version": "3.7.3"
  }
 },
 "nbformat": 4,
 "nbformat_minor": 2
}
