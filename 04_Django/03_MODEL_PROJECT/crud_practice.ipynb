{
 "cells": [
  {
   "cell_type": "code",
   "execution_count": null,
   "metadata": {},
   "outputs": [],
   "source": [
    "from students.models import Student\n",
    "#Student()를 통해 접근 가능"
   ]
  },
  {
   "cell_type": "markdown",
   "metadata": {},
   "source": [
    "Student\n",
    "* 'name = models.CharField(max_length=10)'\n",
    "* 'email = models.CharField(max_length = 50)'\n",
    "* 'github_id = models.CharField(max_length = 50)'\n",
    "* 'age = models.IntegerField()'"
   ]
  },
  {
   "cell_type": "markdown",
   "metadata": {},
   "source": [
    "# Create\n"
   ]
  },
  {
   "cell_type": "code",
   "execution_count": null,
   "metadata": {},
   "outputs": [],
   "source": [
    "#1\n",
    "student = Student() #row 한줄 추가하기\n",
    "student.name = '진태영'\n",
    "student.email = 'jnow123@naver.com'\n",
    "student.github_id = 'jnow1'\n",
    "student.age = 29\n",
    "student.save()\n",
    "\n",
    "\n"
   ]
  },
  {
   "cell_type": "code",
   "execution_count": null,
   "metadata": {},
   "outputs": [],
   "source": [
    "#2\n",
    "\n",
    "student = Student(name= '니나노', email = 'pji328@naver.net', github_id = 'pji328', age = '29').save()\n",
    "\n",
    "\n"
   ]
  },
  {
   "cell_type": "code",
   "execution_count": null,
   "metadata": {},
   "outputs": [],
   "source": []
  },
  {
   "cell_type": "code",
   "execution_count": null,
   "metadata": {},
   "outputs": [],
   "source": [
    "student  =Student.objects.create(name= '홍길동', email= 'idontknow', age = 29,github_id = 'Whoknows' )"
   ]
  },
  {
   "cell_type": "markdown",
   "metadata": {},
   "source": [
    "# Read!\n"
   ]
  },
  {
   "cell_type": "code",
   "execution_count": null,
   "metadata": {},
   "outputs": [],
   "source": [
    "#1. ID로 조회하기\n",
    "s1 = Student.objects.get(id = 1) \n",
    "s2 = Student.objects.get(id = 3) # 없는 ID를 달라고 하면 에러난다.\n",
    "print(s1.name, s2.age)\n",
    "\n"
   ]
  },
  {
   "cell_type": "code",
   "execution_count": null,
   "metadata": {},
   "outputs": [],
   "source": [
    "#update (하나를 잡아서 특정값을 수정하고 저장한다.)\n",
    "s3 = Student.objects.get(id = 3)\n",
    "s3.name = '히하호'\n",
    "s3.save()"
   ]
  },
  {
   "cell_type": "code",
   "execution_count": null,
   "metadata": {},
   "outputs": [],
   "source": [
    "#delete  ==> 행을 삭제하는 것을 의미한다.\n",
    "\n",
    "s6 = Student.objects.get(id = 6)\n",
    "s6.delete()\n",
    "\n"
   ]
  },
  {
   "cell_type": "code",
   "execution_count": null,
   "metadata": {},
   "outputs": [],
   "source": [
    "Student.objects.get(id = 3).delete() # 이런식으로도 된다. \n"
   ]
  },
  {
   "cell_type": "code",
   "execution_count": 15,
   "metadata": {},
   "outputs": [],
   "source": [
    "from students.models import Menus\n",
    "\n",
    "menu = Menus(name = '커어피이', price = 2000, category = '매우 좋아함').save()"
   ]
  },
  {
   "cell_type": "code",
   "execution_count": 18,
   "metadata": {},
   "outputs": [
    {
     "data": {
      "text/plain": [
       "40000"
      ]
     },
     "execution_count": 18,
     "metadata": {},
     "output_type": "execute_result"
    }
   ],
   "source": [
    "ls = []\n",
    "for i in range(1,5):\n",
    "    a = Menus.objects.get(id = i )\n",
    "    a.price = 10000\n",
    "    ls.append(a.price)\n",
    "sum(ls)\n"
   ]
  },
  {
   "cell_type": "code",
   "execution_count": 20,
   "metadata": {},
   "outputs": [
    {
     "data": {
      "text/plain": [
       "8000.0"
      ]
     },
     "execution_count": 20,
     "metadata": {},
     "output_type": "execute_result"
    }
   ],
   "source": [
    "a = Menus.objects.get(id = 1)\n",
    "a.price"
   ]
  },
  {
   "cell_type": "code",
   "execution_count": 12,
   "metadata": {},
   "outputs": [
    {
     "data": {
      "text/plain": [
       "<django.db.models.manager.Manager at 0x20e18b97080>"
      ]
     },
     "execution_count": 12,
     "metadata": {},
     "output_type": "execute_result"
    }
   ],
   "source": [
    "a"
   ]
  },
  {
   "cell_type": "code",
   "execution_count": null,
   "metadata": {},
   "outputs": [],
   "source": [
    ">"
   ]
  }
 ],
 "metadata": {
  "kernelspec": {
   "display_name": "Django Shell-Plus",
   "language": "python",
   "name": "django_extensions"
  },
  "language_info": {
   "codemirror_mode": {
    "name": "ipython",
    "version": 3
   },
   "file_extension": ".py",
   "mimetype": "text/x-python",
   "name": "python",
   "nbconvert_exporter": "python",
   "pygments_lexer": "ipython3",
   "version": "3.7.3"
  }
 },
 "nbformat": 4,
 "nbformat_minor": 2
}
