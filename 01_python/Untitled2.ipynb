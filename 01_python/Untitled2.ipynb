{
 "cells": [
  {
   "cell_type": "code",
   "execution_count": 8,
   "metadata": {},
   "outputs": [
    {
     "data": {
      "text/plain": [
       "3"
      ]
     },
     "execution_count": 8,
     "metadata": {},
     "output_type": "execute_result"
    }
   ],
   "source": [
    "def fibo_recursion(n):\n",
    "    if n<2:\n",
    "        return n\n",
    "    else:\n",
    "        return fibo_recursion(n-1) + fibo_recursion(n-2)\n",
    "from fibo import fibo_recursion as recursion\n",
    "recursion(4)\n"
   ]
  },
  {
   "cell_type": "code",
   "execution_count": 14,
   "metadata": {},
   "outputs": [
    {
     "name": "stdout",
     "output_type": "stream",
     "text": [
      "문자 입력 : 1,2,3\n",
      "['1', '2', '3']\n",
      "[1, 2, 3]\n"
     ]
    },
    {
     "data": {
      "text/plain": [
       "6"
      ]
     },
     "execution_count": 14,
     "metadata": {},
     "output_type": "execute_result"
    }
   ],
   "source": [
    "ls = []\n",
    "ls = input('문자 입력 : ').split(',')\n",
    "\n",
    "print(ls)\n",
    "ls1 = []\n",
    "for i in ls:\n",
    "    i = int(i)\n",
    "    ls1.append(i)\n",
    "print(ls1)\n",
    "\n",
    "sum(ls1)"
   ]
  },
  {
   "cell_type": "code",
   "execution_count": 1,
   "metadata": {},
   "outputs": [
    {
     "name": "stdout",
     "output_type": "stream",
     "text": [
      "[['계시다', '가지다', '그', '개'], ['놀이'], ['들다', '뒤', '듣다', '데리다'], [], ['막', '무척', '마리'], ['부모님', '비용', '비행기', '보이다'], ['싶다', '수출'], ['원래', '아이', '옳다'], ['좀', '자르다', '정도'], ['처리', '최초'], [], [], [], ['함께']]\n"
     ]
    }
   ],
   "source": [
    "dicBase = (('가', '깋'), ('나', '닣'), ('다', '딯'), ('라', '맇'), ('마', '밓'), ('바', '빟'), ('사', '싷'),('아', '잏'), ('자', '짛'), ('차', '칳'), ('카', '킿'), ('타', '팋'), ('파', '핗'), ('하', '힣')) \n",
    "inputWord = ['막', '부모님', '비용', '비행기', '원래', '처리', '최초', '꼴', '좀', '들다', '싶다','수출', '계시다', '다', '뒤', '듣다', '함께', '아이', '무척', '보이다', '가지다', '그','자르다', '데리다', '마리', '개', '정도', '옳다', '놀이', '뜨겁다'] \n",
    "dic_list1=[] \n",
    "for i in range(0,14): \n",
    "    dic_list=[inputWord[k]for k in range(0,30) if dicBase[i][0]< inputWord[k] < dicBase[i][1]] \n",
    "    dic_list1.append(dic_list) \n",
    "print(dic_list1) "
   ]
  },
  {
   "cell_type": "code",
   "execution_count": null,
   "metadata": {},
   "outputs": [],
   "source": []
  }
 ],
 "metadata": {
  "kernelspec": {
   "display_name": "Python 3",
   "language": "python",
   "name": "python3"
  },
  "language_info": {
   "codemirror_mode": {
    "name": "ipython",
    "version": 3
   },
   "file_extension": ".py",
   "mimetype": "text/x-python",
   "name": "python",
   "nbconvert_exporter": "python",
   "pygments_lexer": "ipython3",
   "version": "3.7.3"
  }
 },
 "nbformat": 4,
 "nbformat_minor": 2
}
