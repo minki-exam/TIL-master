{
 "cells": [
  {
   "cell_type": "markdown",
   "metadata": {},
   "source": [
    "# 문자열 메소드 활용하기"
   ]
  },
  {
   "cell_type": "markdown",
   "metadata": {},
   "source": [
    "## 변형\n",
    "\n",
    "### `.capitalize()`, `.title()`, `.upper()`\n",
    "\n",
    "`.capitalize()` : 앞글자를 대문자로 만들어 반환합니다. + 나머지는 모두 소문자\n",
    "\n",
    "`.title()` : 어포스트로피나 공백을 이후를 대문자로 만들어 반환합니다.\n",
    "\n",
    "`.upper()` : 모두 대문자로 만들어 반환합니다."
   ]
  },
  {
   "cell_type": "code",
   "execution_count": 6,
   "metadata": {},
   "outputs": [],
   "source": [
    "words = \"hI! evEryone, I'm kim\"\n",
    "# 아래에 코드를 작성하세요."
   ]
  },
  {
   "cell_type": "code",
   "execution_count": 8,
   "metadata": {},
   "outputs": [
    {
     "name": "stdout",
     "output_type": "stream",
     "text": [
      "HI! EVERYONE, I'M KIM\n"
     ]
    }
   ],
   "source": [
    "# cap = words.capitalize()\n",
    "# title = words.title()\n",
    "# title\n",
    "upper = words.upper()\n",
    "print(upper)\n",
    "# lower = upper.lower()\n",
    "# lower\n"
   ]
  },
  {
   "cell_type": "markdown",
   "metadata": {},
   "source": [
    "### `.lower()`, `.swapcase()`\n",
    "\n",
    "`lower()` : 모두 소문자로 만들어 반환합니다.\n",
    "\n",
    "`swapcase()` : 대<->소문자로 변경하여 반환합니다."
   ]
  },
  {
   "cell_type": "code",
   "execution_count": null,
   "metadata": {},
   "outputs": [],
   "source": [
    "words = \"hI! Everyone, I'm kim\"\n",
    "\n",
    "swapcase = words.swapcase()\n",
    "swapcase\n",
    "\n",
    "words\n",
    "# 아래에 코드를 작성하세요."
   ]
  },
  {
   "cell_type": "markdown",
   "metadata": {},
   "source": [
    "### `.join(iterable)`\n",
    "\n",
    "특정한 문자열로 만들어 반환합니다. ==> 문자 사이사이에 자주 사용 됨"
   ]
  },
  {
   "cell_type": "code",
   "execution_count": 4,
   "metadata": {},
   "outputs": [
    {
     "data": {
      "text/plain": [
       "'월요일#졸리다#python#ssafy'"
      ]
     },
     "execution_count": 4,
     "metadata": {},
     "output_type": "execute_result"
    }
   ],
   "source": [
    "# 아래에 코드를 작성하세요.\n",
    "exc = '!'\n",
    "'!'.join('배고파')\n",
    "\n",
    "'-'.join(['hi', 'Hello'])\n",
    "'#'.join(['월요일', '졸리다', 'python', 'ssafy'])"
   ]
  },
  {
   "cell_type": "markdown",
   "metadata": {},
   "source": [
    "### `.replace(old, new[, count])` 대괄호 안에 있는 것은 옵션(없는 것은 필수요소)\n",
    "\n",
    "바꿀 대상 글자를 새로운 글자로 바꿔서 반환합니다. \n",
    "\n",
    "count를 지정하면 해당 갯수만큼만 시행합니다."
   ]
  },
  {
   "cell_type": "code",
   "execution_count": 2,
   "metadata": {},
   "outputs": [
    {
     "name": "stdout",
     "output_type": "stream",
     "text": [
      "y_y_y_y_y_y_!\n"
     ]
    },
    {
     "data": {
      "text/plain": [
       "'wwoooo'"
      ]
     },
     "execution_count": 2,
     "metadata": {},
     "output_type": "execute_result"
    }
   ],
   "source": [
    "# 아래에 코드를 작성하세요.\n",
    "a = 'yayayayayaya!'.replace('a','_')\n",
    "\n",
    "print(a)\n",
    "'wwoooooooooooo'.replace('o','',8)\n"
   ]
  },
  {
   "cell_type": "markdown",
   "metadata": {},
   "source": [
    "### 글씨 제거 (`.strip([chars])`)\n",
    "\n",
    "특정한 문자들을 지정하면,  양쪽을 제거하거나 왼쪽을 제거하거나(lstrip) 오른쪽을 제거합니다(rstrip)\n",
    "\n",
    "지정하지 않으면 공백을 제거합니다."
   ]
  },
  {
   "cell_type": "code",
   "execution_count": null,
   "metadata": {},
   "outputs": [],
   "source": [
    "# 아래에 코드를 작성하세요.\n",
    "'                 oh!\\n'.strip()\n"
   ]
  },
  {
   "cell_type": "code",
   "execution_count": null,
   "metadata": {},
   "outputs": [],
   "source": [
    "'        oh!       '.lstrip()"
   ]
  },
  {
   "cell_type": "code",
   "execution_count": null,
   "metadata": {},
   "outputs": [],
   "source": [
    "'        oh!       '.rstrip()"
   ]
  },
  {
   "cell_type": "code",
   "execution_count": null,
   "metadata": {},
   "outputs": [],
   "source": [
    "'        oh!       '.lstrip()"
   ]
  },
  {
   "cell_type": "code",
   "execution_count": null,
   "metadata": {},
   "outputs": [],
   "source": [
    "print('hehehehehihihihi'.rstrip('hi'))\n",
    "print('hehehehehihihihi'.lstrip('he'))\n"
   ]
  },
  {
   "cell_type": "markdown",
   "metadata": {},
   "source": [
    "## 탐색 및 검증\n",
    "\n",
    "### `.find(x)` : x의 첫 번째 위치를 반환합니다. 없으면, -1을 반환합니다."
   ]
  },
  {
   "cell_type": "code",
   "execution_count": null,
   "metadata": {},
   "outputs": [],
   "source": [
    "# 아래에 코드를 작성하세요.\n",
    "'apple'.find('p')"
   ]
  },
  {
   "cell_type": "markdown",
   "metadata": {},
   "source": [
    "### `.index(x)` : x의 첫번째 위치를 반환합니다. 없으면, 오류가 뜹니다."
   ]
  },
  {
   "cell_type": "code",
   "execution_count": null,
   "metadata": {},
   "outputs": [],
   "source": [
    "'apple'.index('p')\n",
    "\n",
    "# 아래에 코드를 작성하세요."
   ]
  },
  {
   "cell_type": "markdown",
   "metadata": {},
   "source": [
    "## `split()`\n",
    "\n",
    "'문자열을 특정한 단위로 나누어 리스트로 반환합니다."
   ]
  },
  {
   "cell_type": "code",
   "execution_count": 4,
   "metadata": {},
   "outputs": [
    {
     "name": "stdout",
     "output_type": "stream",
     "text": [
      "월\n",
      "밥\n",
      "미\n",
      "아\n",
      "늘\n",
      "['월요일', '밥시간', '미세먼지', '아아아']\n"
     ]
    }
   ],
   "source": [
    "'a b c'.split()\n",
    "'a-b-c'.split('-')\n",
    "\n",
    "insta = '#월요일 #밥시간 #미세먼지 #아아아 오늘은!'\n",
    "words = insta.split()\n",
    "hashtag = []\n",
    "for word in words:\n",
    "    print(word[1])\n",
    "    if word[0] == '#':\n",
    "        hashtag.append(word[1:])\n",
    "print(hashtag)"
   ]
  },
  {
   "cell_type": "markdown",
   "metadata": {},
   "source": [
    "### 다양한 확인 메소드 : 참/거짓 반환\n",
    "```\n",
    ".isalpha(), .isdecimal(), .isdigit(), .isnumeric(), .isspace(), .issuper(), .istitle(), .islower()\n",
    "```\n",
    "\n",
    "```python\n",
    "dir('string')\n",
    "```"
   ]
  },
  {
   "cell_type": "code",
   "execution_count": null,
   "metadata": {},
   "outputs": [],
   "source": [
    "dir(1) # 자료형이 중요"
   ]
  },
  {
   "cell_type": "markdown",
   "metadata": {},
   "source": [
    "---"
   ]
  },
  {
   "cell_type": "markdown",
   "metadata": {},
   "source": [
    "# 리스트 메소드 활용하기\n",
    "\n",
    "## 값 추가 및 삭제\n",
    "\n",
    "### `.append(x)`\n",
    "\n",
    "리스트에 값을 추가할 수 있습니다."
   ]
  },
  {
   "cell_type": "code",
   "execution_count": null,
   "metadata": {},
   "outputs": [],
   "source": [
    "# 카페 리스트를 만들어봅시다.\n",
    "caffe = ['starbucks', 'tomntoms', 'hollys']\n",
    "print(caffe)"
   ]
  },
  {
   "cell_type": "code",
   "execution_count": null,
   "metadata": {},
   "outputs": [],
   "source": [
    "caffe.append('ediya')\n",
    "caffe\n",
    "# 값을 추가해봅시다."
   ]
  },
  {
   "cell_type": "code",
   "execution_count": null,
   "metadata": {},
   "outputs": [],
   "source": [
    "# 어렵게 넣어보도록 해봅시다.\n",
    "\n"
   ]
  },
  {
   "cell_type": "markdown",
   "metadata": {},
   "source": [
    "### `.extend(iterable)`\n",
    "\n",
    "리스트에 iterable(list, range, tuple, string*유의*) 값을 붙일 수가 있습니다."
   ]
  },
  {
   "cell_type": "code",
   "execution_count": null,
   "metadata": {},
   "outputs": [],
   "source": [
    "# 앞서 만든 리스트에 추가해봅시다.\n",
    "caffe.extend(['droptop', 'baek'])\n",
    "caffe\n"
   ]
  },
  {
   "cell_type": "code",
   "execution_count": null,
   "metadata": {},
   "outputs": [],
   "source": [
    "# 앞서 배운 list concatenate와 동일합니다."
   ]
  },
  {
   "cell_type": "code",
   "execution_count": null,
   "metadata": {},
   "outputs": [],
   "source": [
    "# append와 비교해봅시다.\n",
    "l1 = []\n",
    "l2 = []\n",
    "l1.append(['a','b'])\n",
    "l2.extend(['a','b'])\n",
    "print(l1)\n",
    "print(l2)\n",
    "l1[0][1]"
   ]
  },
  {
   "cell_type": "code",
   "execution_count": null,
   "metadata": {},
   "outputs": [],
   "source": [
    "l1.append(['coffeenie']) # append는 무조건 하나로 취급한다.\n",
    "print(l1)\n",
    "l2.extend('coffeegurunaru') # 주의할것!!!! extend는 안에 것을 분리해서 하나하나 추가한다.\n",
    "print(l2)"
   ]
  },
  {
   "cell_type": "markdown",
   "metadata": {},
   "source": [
    "### `insert(i, x)`\n",
    "\n",
    "정해진 위치 `i`에 값을 추가합니다. "
   ]
  },
  {
   "cell_type": "code",
   "execution_count": 1,
   "metadata": {},
   "outputs": [],
   "source": [
    "lunches = ['돈까스', '매운닭볶음']"
   ]
  },
  {
   "cell_type": "code",
   "execution_count": 2,
   "metadata": {},
   "outputs": [
    {
     "data": {
      "text/plain": [
       "['pasta', '돈까스', '매운닭볶음']"
      ]
     },
     "execution_count": 2,
     "metadata": {},
     "output_type": "execute_result"
    }
   ],
   "source": [
    "lunches.insert(0, 'pasta')\n",
    "lunches\n",
    "# 앞서 만든 리스트의 가장 앞에 'hi'를 넣어봅시다."
   ]
  },
  {
   "cell_type": "code",
   "execution_count": null,
   "metadata": {},
   "outputs": [],
   "source": [
    "lunches.insert(len(lunches), 'salad')\n",
    "lunches\n",
    "\n",
    "# 앞서 만든 리스트의 가장 뒤에 'bye'를 넣어봅시다"
   ]
  },
  {
   "cell_type": "code",
   "execution_count": null,
   "metadata": {},
   "outputs": [],
   "source": [
    "lunches.insert(len(lunches)+100,'배고파')\n",
    "lunches\n",
    "# 길이를 넘어서는 인덱스는 무조건 마지막에 하나만 붙습니다."
   ]
  },
  {
   "cell_type": "markdown",
   "metadata": {},
   "source": [
    "### `remove(x)`  return 값 없음\n",
    "\n",
    "리스트에서 값이 x인 것을 삭제합니다. "
   ]
  },
  {
   "cell_type": "code",
   "execution_count": 3,
   "metadata": {},
   "outputs": [
    {
     "name": "stdout",
     "output_type": "stream",
     "text": [
      "[2, 3, 1, 2]\n",
      "[2, 3, 2]\n"
     ]
    }
   ],
   "source": [
    "# remove를 사용해봅시다.\n",
    "numbers = [1, 2, 3, 1, 2]\n",
    "numbers.remove(numbers[0])\n",
    "print(numbers)\n",
    "numbers.remove(1)\n",
    "print(numbers)"
   ]
  },
  {
   "cell_type": "code",
   "execution_count": null,
   "metadata": {},
   "outputs": [],
   "source": [
    "# 중복된 값 1을 삭제 해봅시다.\n",
    "\n"
   ]
  },
  {
   "cell_type": "code",
   "execution_count": null,
   "metadata": {},
   "outputs": [],
   "source": [
    "# 한번 더 삭제해봅시다."
   ]
  },
  {
   "cell_type": "code",
   "execution_count": null,
   "metadata": {},
   "outputs": [],
   "source": [
    "# remove는 값이 없으면 오류가 발생합니다. 확인해봅시다."
   ]
  },
  {
   "cell_type": "markdown",
   "metadata": {},
   "source": [
    "### `.pop(i)`\n",
    "\n",
    "정해진 위치 `i`에 있는 값을 삭제하며, 그 항목을 반환합니다.\n",
    "\n",
    "`i`가 지정되지 않으면 마지막 항목을 삭제하고 되돌려줍니다."
   ]
  },
  {
   "cell_type": "code",
   "execution_count": 51,
   "metadata": {},
   "outputs": [],
   "source": [
    "# pop을 사용해봅시다.\n",
    "numbers = [1, 2, 3, 4, 5, 6, 1, 1]\n"
   ]
  },
  {
   "cell_type": "code",
   "execution_count": 54,
   "metadata": {},
   "outputs": [
    {
     "data": {
      "text/plain": [
       "1"
      ]
     },
     "execution_count": 54,
     "metadata": {},
     "output_type": "execute_result"
    }
   ],
   "source": [
    "# 가장 앞에 있는 것을 삭제해봅시다. return도 확인해보세요.\n",
    "\n",
    "numbers.pop(0)\n"
   ]
  },
  {
   "cell_type": "code",
   "execution_count": 55,
   "metadata": {},
   "outputs": [
    {
     "data": {
      "text/plain": [
       "[2, 3, 4, 5, 6, 1]"
      ]
     },
     "execution_count": 55,
     "metadata": {},
     "output_type": "execute_result"
    }
   ],
   "source": [
    "numbers\n",
    "\n",
    "# 값이 return이 된다는 것은 별도의 변수에 저장할 수 있다는 것입니다. "
   ]
  },
  {
   "cell_type": "code",
   "execution_count": null,
   "metadata": {},
   "outputs": [],
   "source": [
    "numbers = [1, 2, 3, 4, 5, 6, 1, 1]\n",
    "\n",
    "print(numbers)\n",
    "\n",
    "pop_value = numbers.pop()\n",
    "print(f'{pop_value}가 삭제되어 {numbers}가 남았습니다.')"
   ]
  },
  {
   "cell_type": "markdown",
   "metadata": {},
   "source": [
    "## 탐색 및 정렬"
   ]
  },
  {
   "cell_type": "markdown",
   "metadata": {},
   "source": [
    "### `.index(x)`\n",
    "\n",
    "원하는 값을 찾아 index 값을 반환합니다."
   ]
  },
  {
   "cell_type": "code",
   "execution_count": 9,
   "metadata": {},
   "outputs": [
    {
     "ename": "ValueError",
     "evalue": "100 is not in list",
     "output_type": "error",
     "traceback": [
      "\u001b[1;31m---------------------------------------------------------------------------\u001b[0m",
      "\u001b[1;31mValueError\u001b[0m                                Traceback (most recent call last)",
      "\u001b[1;32m<ipython-input-9-8c06bca06482>\u001b[0m in \u001b[0;36m<module>\u001b[1;34m\u001b[0m\n\u001b[0;32m      2\u001b[0m \u001b[0mnumbers\u001b[0m \u001b[1;33m=\u001b[0m \u001b[1;33m[\u001b[0m\u001b[1;36m1\u001b[0m\u001b[1;33m,\u001b[0m \u001b[1;36m2\u001b[0m\u001b[1;33m,\u001b[0m \u001b[1;36m3\u001b[0m\u001b[1;33m,\u001b[0m \u001b[1;36m4\u001b[0m\u001b[1;33m,\u001b[0m \u001b[1;36m5\u001b[0m\u001b[1;33m]\u001b[0m\u001b[1;33m\u001b[0m\u001b[1;33m\u001b[0m\u001b[0m\n\u001b[0;32m      3\u001b[0m \u001b[0mnumbers\u001b[0m\u001b[1;33m.\u001b[0m\u001b[0mindex\u001b[0m\u001b[1;33m(\u001b[0m\u001b[1;36m3\u001b[0m\u001b[1;33m)\u001b[0m   \u001b[1;31m# ==> 3이라는 요소의 인덱스 값이 얼마인가를 묻는다\u001b[0m\u001b[1;33m\u001b[0m\u001b[1;33m\u001b[0m\u001b[0m\n\u001b[1;32m----> 4\u001b[1;33m \u001b[0mnumbers\u001b[0m\u001b[1;33m.\u001b[0m\u001b[0mindex\u001b[0m\u001b[1;33m(\u001b[0m\u001b[1;36m100\u001b[0m\u001b[1;33m)\u001b[0m\u001b[1;33m\u001b[0m\u001b[1;33m\u001b[0m\u001b[0m\n\u001b[0m",
      "\u001b[1;31mValueError\u001b[0m: 100 is not in list"
     ]
    }
   ],
   "source": [
    "# index를 사용해봅시다.\n",
    "numbers = [1, 2, 3, 4, 5]\n",
    "numbers.index(3)   # ==> 3이라는 요소의 인덱스 값이 얼마인가를 묻는다\n",
    "numbers.index(100)"
   ]
  },
  {
   "cell_type": "code",
   "execution_count": 8,
   "metadata": {},
   "outputs": [
    {
     "name": "stdout",
     "output_type": "stream",
     "text": [
      "-1\n"
     ]
    }
   ],
   "source": [
    "# index는 없을 시 오류가 발생합니다. 확인해봅시다. \n",
    "# 앞서 remove 역시도 같은 에러가 발생하였습니다. (ValueError)\n",
    "\n",
    "value = 100\n",
    "\n",
    "if value in numbers:\n",
    "    i = numbers.index(100)\n",
    "else:\n",
    "    i = -1\n",
    "print(i)"
   ]
  },
  {
   "cell_type": "markdown",
   "metadata": {},
   "source": [
    "### `.count(x)`\n",
    "\n",
    "원하는 값의 갯수를 확인할 수 있습니다."
   ]
  },
  {
   "cell_type": "code",
   "execution_count": null,
   "metadata": {},
   "outputs": [],
   "source": [
    "# count를 사용해봅시다.\n",
    "numbers = [1, 2, 5, 1, 5, 1]"
   ]
  },
  {
   "cell_type": "code",
   "execution_count": 16,
   "metadata": {},
   "outputs": [
    {
     "data": {
      "text/plain": [
       "[[1, 2, 3], []]"
      ]
     },
     "execution_count": 16,
     "metadata": {},
     "output_type": "execute_result"
    }
   ],
   "source": [
    "# numbers.remove(1)\n",
    "# numbers\n",
    "lsls = [[1,2,3],[1,1,1]]\n",
    "target = 1\n",
    "for _ in range(lsls[1].count(target)):\n",
    "    lsls[1].remove(target)\n",
    "lsls\n",
    "# 따라서 원하는 값을 모두 삭제하려면 다음과 같이 할 수 있습니다."
   ]
  },
  {
   "cell_type": "code",
   "execution_count": 18,
   "metadata": {},
   "outputs": [
    {
     "data": {
      "text/plain": [
       "False"
      ]
     },
     "execution_count": 18,
     "metadata": {},
     "output_type": "execute_result"
    }
   ],
   "source": [
    "target in lsls[1]\n",
    "\n",
    "# 모두 삭제되었는지 검증해봅시다."
   ]
  },
  {
   "cell_type": "markdown",
   "metadata": {},
   "source": [
    "### `.sort()`\n",
    "\n",
    "정렬을 합니다. \n",
    "\n",
    "sorted()와는 다르게 원본 list를 변형시키고, None을 리턴합니다."
   ]
  },
  {
   "cell_type": "code",
   "execution_count": 12,
   "metadata": {},
   "outputs": [
    {
     "name": "stdout",
     "output_type": "stream",
     "text": [
      "[1, 2, 3, 4, 4, 5, 5, 6]\n",
      "[5, 5, 4, 3, 4, 6, 1, 2]\n",
      "[1, 2, 3, 4, 4, 5, 5, 6]\n"
     ]
    }
   ],
   "source": [
    "numbers = [5, 5, 4, 3, 4, 6, 1, 2]\n",
    "\n",
    "print(sorted(numbers))  # return 있음, origin 변화 없음  원본을 바꾸고 싶다면 numbers.sort()를 사용해야한다\n",
    "print(numbers)\n",
    "numbers.sort()\n",
    "print(numbers)"
   ]
  },
  {
   "cell_type": "code",
   "execution_count": 5,
   "metadata": {},
   "outputs": [
    {
     "data": {
      "text/plain": [
       "[1, 2, 3, 4, 4, 5, 5, 6]"
      ]
     },
     "execution_count": 5,
     "metadata": {},
     "output_type": "execute_result"
    }
   ],
   "source": [
    "x = numbers.sort()\n",
    "numbers"
   ]
  },
  {
   "cell_type": "code",
   "execution_count": 7,
   "metadata": {},
   "outputs": [
    {
     "name": "stdout",
     "output_type": "stream",
     "text": [
      "[17, 19, 20, 35, 40, 43]\n",
      "[4, 12, 22, 24, 30, 43]\n",
      "[2, 15, 27, 37, 40, 44]\n",
      "[6, 10, 21, 23, 25, 32]\n",
      "[6, 11, 23, 30, 39, 43]\n"
     ]
    }
   ],
   "source": [
    "import random\n",
    "lotto.sort(reverse = True)\n",
    "for i in range(5):    \n",
    "    lotto = random.sample(range(1, 46), 6)\n",
    "    print(sorted(lotto))\n"
   ]
  },
  {
   "cell_type": "code",
   "execution_count": 11,
   "metadata": {},
   "outputs": [
    {
     "name": "stdout",
     "output_type": "stream",
     "text": [
      "[1, 2, 3, 4, 5, 6, 7, 9]\n"
     ]
    }
   ],
   "source": [
    "import random\n",
    "ls =[1,2,3,4,5,6,7,8,9]\n",
    "ls.pop(random.choice(ls))\n",
    "print(ls)"
   ]
  },
  {
   "cell_type": "code",
   "execution_count": null,
   "metadata": {},
   "outputs": [],
   "source": [
    "# sort를 사용해봅시다."
   ]
  },
  {
   "cell_type": "code",
   "execution_count": null,
   "metadata": {},
   "outputs": [],
   "source": [
    "i = (1, 2, 3)\n",
    "j = i\n",
    "# j[0] = 10\n",
    "i = (100,2,3)\n",
    "print(i,j)\n",
    "\n",
    "ls1 = [1,2,3,4]\n",
    "ls2 = ls1\n",
    "ls1[0] = 100\n",
    "print(ls1, ls2)"
   ]
  },
  {
   "cell_type": "markdown",
   "metadata": {},
   "source": [
    "### `reverse()`\n",
    "\n",
    "반대로 뒤집습니다. (정렬 아님)"
   ]
  },
  {
   "cell_type": "code",
   "execution_count": 19,
   "metadata": {},
   "outputs": [
    {
     "name": "stdout",
     "output_type": "stream",
     "text": [
      "['Tom', 'David', 'Justin']\n",
      "['Justin', 'David', 'Tom']\n"
     ]
    }
   ],
   "source": [
    "classroom = ['Tom', 'David', 'Justin']\n",
    "print(classroom)\n",
    "classroom.reverse()\n",
    "print(classroom)"
   ]
  },
  {
   "cell_type": "code",
   "execution_count": null,
   "metadata": {},
   "outputs": [],
   "source": [
    "original_list = [1, 2, 3] # 대략 ,가 들어가있으면 포인팅 call by reference, 나머지는 입력 == call by value\n",
    "\n",
    "copy_list = original_list\n",
    "\n",
    "print(id(original_list) , id(copy_list))\n",
    "\n",
    "copy_list[0] = 'a'\n",
    "print(id(original_list) , id(copy_list))\n",
    "print(copy_list)\n",
    "print(original_list)"
   ]
  },
  {
   "cell_type": "markdown",
   "metadata": {},
   "source": [
    "## 복사"
   ]
  },
  {
   "cell_type": "code",
   "execution_count": 20,
   "metadata": {},
   "outputs": [
    {
     "name": "stdout",
     "output_type": "stream",
     "text": [
      "[1, 2, 3]\n"
     ]
    }
   ],
   "source": [
    "# 리스트 복사를 해봅시다.\n",
    "original_list = [1, 2, 3]\n",
    "\n",
    "copy_list = original_list\n",
    "print(copy_list)\n"
   ]
  },
  {
   "cell_type": "code",
   "execution_count": 14,
   "metadata": {},
   "outputs": [
    {
     "name": "stdout",
     "output_type": "stream",
     "text": [
      "['a', 2, 3]\n",
      "['a', 2, 3]\n"
     ]
    }
   ],
   "source": [
    "# b의 값을 바꾸고 a를 출력해봅시다.\n",
    "copy_list[0] = 'a'\n",
    "print(copy_list)\n",
    "\n",
    "print(original_list)"
   ]
  },
  {
   "cell_type": "code",
   "execution_count": null,
   "metadata": {},
   "outputs": [],
   "source": [
    "# id 값을 확안해봅시다."
   ]
  },
  {
   "cell_type": "code",
   "execution_count": null,
   "metadata": {},
   "outputs": [],
   "source": [
    "a = 1\n",
    "b = a\n",
    "b= 2\n",
    "print(a,b)\n",
    "# 숫자를 확인해봅시다."
   ]
  },
  {
   "cell_type": "code",
   "execution_count": null,
   "metadata": {},
   "outputs": [],
   "source": [
    "# 딕셔너리도 확인해봅시다.\n",
    "\n",
    "c = {'a' : 1, 'b' : 2}\n",
    "d = c\n",
    "d['a'] = 100\n",
    "print(c, d)\n"
   ]
  },
  {
   "cell_type": "markdown",
   "metadata": {},
   "source": [
    "### copy\n",
    "> pythontutor를 활용하여 자세하게 알아봅시다.\n",
    "\n",
    "* 파이썬에서 모든 변수는 객체의 주소를 가지고 있을 뿐입니다. \n",
    "\n",
    "```\n",
    "num = [1, 2, 3]\n",
    "```\n",
    "\n",
    "* 위와 같이 변수를 생성하면 num이라는 리스트 객체를 생성하고, 변수에는 객체의 주소가 저장됩니다.\n",
    "\n",
    "* 변경가능한(mutable) 자료형과 변경불가능한(immutable) 자료형은 서로 다르게 동작합니다.\n",
    "\n",
    "따라서, 복사를 하고 싶을 때에는 다음과 같이 해야한다."
   ]
  },
  {
   "cell_type": "code",
   "execution_count": 23,
   "metadata": {},
   "outputs": [
    {
     "name": "stdout",
     "output_type": "stream",
     "text": [
      "[1, 2, 3] [1, 2, 4]\n",
      "[1, 2, 2] [1, 2, 2]\n"
     ]
    }
   ],
   "source": [
    "a = [1,2,3]\n",
    "\n",
    "b = list(a)\n",
    "\n",
    "b[2] = 4\n",
    "\n",
    "print(a, b)\n",
    "\n",
    "c = [1, 2, 5]\n",
    "\n",
    "d = c\n",
    "\n",
    "c[2] = 2\n",
    "\n",
    "print(c,d)\n",
    "# 리스트를 복사해봅시다."
   ]
  },
  {
   "cell_type": "code",
   "execution_count": 28,
   "metadata": {},
   "outputs": [
    {
     "name": "stdout",
     "output_type": "stream",
     "text": [
      "[[1, 2, 3], 2, 3]\n",
      "[[1, 2, 3], 2, 3]\n",
      "[[1, 7, 3], 2, 3]\n"
     ]
    }
   ],
   "source": [
    "# 다른 방법으로 복사해봅시다.\n",
    "import copy\n",
    "a = [[1,2,3],2,3]\n",
    "print(a)\n",
    "b = copy.deepcopy(a)\n",
    "b[0][1] = 7\n",
    "\n",
    "print(a)\n",
    "print(b)"
   ]
  },
  {
   "cell_type": "markdown",
   "metadata": {},
   "source": [
    "* 하지만, 이렇게 하는 것도 일부 상황에만 서로 다른 얕은 복사(shallow copy)입니다."
   ]
  },
  {
   "cell_type": "code",
   "execution_count": 33,
   "metadata": {},
   "outputs": [
    {
     "name": "stdout",
     "output_type": "stream",
     "text": [
      "[[100, 2, 3], [4, 5, 6]] [[100, 2, 3], [4, 5, 6]]\n",
      "[[100, 2, 3], [4, 5, 6]] [[999, 2, 3], [4, 5, 6]]\n",
      "[[1, 2, 3], [4, 5, 6]]\n"
     ]
    }
   ],
   "source": [
    "import copy\n",
    "\n",
    "\n",
    "i1 = [1,2,3]\n",
    "i2 = [4,5,6]\n",
    "\n",
    "l1 = [i1,i2]\n",
    "l2 = copy.copy(l1)\n",
    "\n",
    "l2[0][0] = 100\n",
    "\n",
    "print(l1, l2)\n",
    "l2 = copy.deepcopy(l1)\n",
    "l2[0][0] = 999\n",
    "print(l1,l2)\n",
    "\n",
    "a = [\n",
    "    [1,2,3]\n",
    "        ,\n",
    "    [4,5,6]\n",
    "]\n",
    "\n",
    "b = copy.copy(a)\n",
    "print(b)\n",
    "\n",
    "\n",
    "# 2차원 배열을 복사해봅시다."
   ]
  },
  {
   "cell_type": "markdown",
   "metadata": {},
   "source": [
    "* 만일 중첩된 상황에서 복사를 하고 싶다면, 깊은 복사(deep copy)를 해야합니다.  ==> 쉽게 말해 리스트안에 리스트를 복사하는 방법\n",
    "\n",
    "* 즉, 내부에 있는 모든 객체까지 새롭게 값이 변경됩니다."
   ]
  },
  {
   "cell_type": "code",
   "execution_count": 34,
   "metadata": {},
   "outputs": [
    {
     "name": "stdout",
     "output_type": "stream",
     "text": [
      "[[1, 2, 3], [4, 5, 6]]\n",
      "[[1, 2, 3], [4, 5, 6]] [[1, 2, 3], [4, 5, 5]]\n",
      "[[1, 2, 3], [4, 5, 5]] [[1, 2, 3], [4, 5, 5]]\n"
     ]
    }
   ],
   "source": [
    "# 깊은 복사를 사용해봅시다.\n",
    "\n",
    "import copy\n",
    "l1 =[[1,2,3], [4,5,6]]\n",
    "l2 = copy.deepcopy(l1)\n",
    "\n",
    "print(l2)\n",
    "\n",
    "l2[1][2] = 5\n",
    "print(l1,l2)\n",
    "\n",
    "i1 = [[1,2,3],[4,5,6]]\n",
    "i2 = copy.copy(i1)\n",
    "i2[1][2] = 5\n",
    "print(i1,i2)"
   ]
  },
  {
   "cell_type": "markdown",
   "metadata": {},
   "source": [
    "## `.clear()`\n",
    "\n",
    "리스트의 모든 항목을 삭제합니다.  ==> 포인팅하는 원본 자체를 없앤다. /// a = [] 경우 아예 새로운 빈 리스트를 만들어버림"
   ]
  },
  {
   "cell_type": "code",
   "execution_count": 35,
   "metadata": {},
   "outputs": [
    {
     "data": {
      "text/plain": [
       "[]"
      ]
     },
     "execution_count": 35,
     "metadata": {},
     "output_type": "execute_result"
    }
   ],
   "source": [
    "# clear를 사용해봅시다.\n",
    "\n",
    "numbers = list(range(1,46))\n",
    "numbers.clear()\n",
    "numbers"
   ]
  },
  {
   "cell_type": "markdown",
   "metadata": {},
   "source": [
    "# List Comprehension\n",
    "\n",
    "List를 만들 수 있는 간단한 방법이 있습니다."
   ]
  },
  {
   "cell_type": "markdown",
   "metadata": {},
   "source": [
    "### 세제곱리스트\n",
    "\n",
    "> 다음의 리스트를 만들어보세요. \n",
    "\n",
    "- 1~10까지의 숫자로 만든 세제곱 담긴 리스트 `cubic_list`"
   ]
  },
  {
   "cell_type": "code",
   "execution_count": null,
   "metadata": {},
   "outputs": [],
   "source": [
    "numbers = range(1,11)"
   ]
  },
  {
   "cell_type": "code",
   "execution_count": null,
   "metadata": {},
   "outputs": [],
   "source": [
    "# 기존의방법\n",
    "cubic_list = []\n",
    "for i in numbers:\n",
    "    cubic_list.append(i**3)\n",
    "print(cubic_list)\n"
   ]
  },
  {
   "cell_type": "code",
   "execution_count": null,
   "metadata": {},
   "outputs": [],
   "source": [
    "# List Comprehension\n",
    "\n",
    "cubic_list = [number**3 for number in numbers]\n",
    "print(cubic_list)\n"
   ]
  },
  {
   "cell_type": "markdown",
   "metadata": {},
   "source": [
    "### 짝수리스트\n",
    "> 다음의 리스트를 만들어보세요. \n",
    "\n",
    "- 1~10까지의 숫자중 짝수만 담긴 리스트 `even_list`\n",
    "- 여러개의 `for` 혹은 `if`문을 중첩적으로 사용 가능합니다."
   ]
  },
  {
   "cell_type": "code",
   "execution_count": null,
   "metadata": {},
   "outputs": [],
   "source": [
    "numbers = range(1,11)"
   ]
  },
  {
   "cell_type": "code",
   "execution_count": null,
   "metadata": {},
   "outputs": [],
   "source": [
    "# 기존의방법\n",
    "evens = []\n",
    "for num in numbers:\n",
    "    if num%2 == 0:\n",
    "        evens.append(num)\n",
    "print(evens)"
   ]
  },
  {
   "cell_type": "code",
   "execution_count": null,
   "metadata": {},
   "outputs": [],
   "source": [
    "even_list = [number for number in numbers if number%2 ==0]\n",
    "print(even_list)\n",
    "# List Comprehension"
   ]
  },
  {
   "cell_type": "markdown",
   "metadata": {},
   "source": [
    "### 곱집합\n",
    "\n",
    "> 주어진 두 list의 가능한 모든 조합을 담은 `pair` 리스트를 만들어주세요.\n",
    "\n",
    "1. 반복문 활용\n",
    "2. list comprehension 활용\n",
    "\n",
    "---\n",
    "\n",
    "```\n",
    "girls = ['jane', 'iu', 'mary']\n",
    "boys = ['justin', 'david', 'kim']\n",
    "\n",
    "예시 출력)\n",
    "    \n",
    "[('justin', 'jane'), ('justin', 'iu'), ('justin', 'mary'), ('david', 'jane'), ('david', 'iu'), ('david', 'mary'), ('kim', 'jane'), ('kim', 'iu'), ('kim', 'mary')]\n",
    "```\n",
    "\n"
   ]
  },
  {
   "cell_type": "code",
   "execution_count": 7,
   "metadata": {},
   "outputs": [],
   "source": [
    "girls = ['jane', 'iu', 'mary']\n",
    "boys = ['justin', 'david', 'kim']"
   ]
  },
  {
   "cell_type": "code",
   "execution_count": 9,
   "metadata": {},
   "outputs": [
    {
     "name": "stdout",
     "output_type": "stream",
     "text": [
      "[('justin', 'jane'), ('david', 'jane'), ('kim', 'jane'), ('justin', 'iu'), ('david', 'iu'), ('kim', 'iu'), ('justin', 'mary'), ('david', 'mary'), ('kim', 'mary')]\n"
     ]
    }
   ],
   "source": [
    "# 반복문을 활용하여 만들어주세요.\n",
    "pair = []\n",
    "\n",
    "for girl in girls:\n",
    "    for boy in boys:\n",
    "        pair.append((boy,girl))\n",
    "\n",
    "print(pair)"
   ]
  },
  {
   "cell_type": "code",
   "execution_count": 8,
   "metadata": {},
   "outputs": [
    {
     "name": "stdout",
     "output_type": "stream",
     "text": [
      "[('justin', 'jane'), ('justin', 'iu'), ('justin', 'mary'), ('david', 'jane'), ('david', 'iu'), ('david', 'mary'), ('kim', 'jane'), ('kim', 'iu'), ('kim', 'mary')]\n"
     ]
    }
   ],
   "source": [
    "# List comprehension을 활용하여 만들어주세요.\n",
    "\n",
    "pairs = [(boy, girl) for boy in boys for girl in girls]\n",
    "\n",
    "print(pairs)\n"
   ]
  },
  {
   "cell_type": "markdown",
   "metadata": {},
   "source": [
    "### 피타고라스 정리\n",
    "\n",
    "> 주어진 조건(x < y < z < 50) 내에서 피타고라스 방정식의 해를 찾아보세요.\n",
    "\n",
    "1. 반복문 활용\n",
    "\n",
    "2. list comprehension 활용\n",
    "\n",
    "```\n",
    "예시 출력)\n",
    "[(3, 4, 5), (5, 12, 13), (6, 8, 10), (7, 24, 25), (8, 15, 17), (9, 12, 15), (9, 40, 41), (10, 24, 26), (12, 16, 20), (12, 35, 37), (15, 20, 25), (15, 36, 39), (16, 30, 34), (18, 24, 30), (20, 21, 29), (21, 28, 35), (24, 32, 40), (27, 36, 45)]\n",
    "```"
   ]
  },
  {
   "cell_type": "code",
   "execution_count": null,
   "metadata": {},
   "outputs": [],
   "source": [
    "# 반복문을 활용하여 만들어주세요.\n",
    "\n",
    "result = []\n",
    "\n",
    "for x in range(1,50):\n",
    "    for y in range(x,50):\n",
    "        for z in range(1,50):\n",
    "            if x**2 + y**2 == z**2:\n",
    "                result.append((x,y,z))\n",
    "                \n",
    "print(result)\n"
   ]
  },
  {
   "cell_type": "code",
   "execution_count": null,
   "metadata": {},
   "outputs": [],
   "source": [
    "# List comprehension을 활용하여 만들어주세요.\n",
    "\n",
    "result = [(x,y,z) for x in range(1,50) for y in range(x,50) for z in range(y,50) if x**2+y**2 == z**2]\n",
    "print(result)"
   ]
  },
  {
   "cell_type": "markdown",
   "metadata": {},
   "source": [
    "### 모음 제거하기\n",
    "\n",
    "> 다음의 문장에서 모음(a, e, i, o, u)를 모두 제거하시오.\n",
    "\n",
    "1. list comprehension만 사용해보세요.\n",
    "\n",
    "``` \n",
    "    words = 'Life is too short, you need python!'\n",
    "\n",
    "    예시출력)\n",
    "    Lf s t shrt, y nd pythn!\n",
    "```"
   ]
  },
  {
   "cell_type": "code",
   "execution_count": 3,
   "metadata": {},
   "outputs": [
    {
     "name": "stdout",
     "output_type": "stream",
     "text": [
      "Lf s t shrt, y nd pythn!\n",
      "Lf s t shrt, y nd pythn!\n"
     ]
    }
   ],
   "source": [
    "# List comprehension을 활용하여 만들어주세요.\n",
    "\n",
    "words = 'Life is too short, you need python!'\n",
    "vowels = 'aeiou'\n",
    "\n",
    "\n",
    "ls1 = []\n",
    "word = [ls1 for ls1 in words if ls1 not in vowels ]\n",
    "\n",
    "print(''.join(word))\n",
    "\n",
    "\n",
    "for word in words:\n",
    "    if word not in vowels:\n",
    "        ls1.append(word)\n",
    "print(''.join(ls1))\n",
    "\n",
    "\n",
    "\n",
    "#직전결과 == list\n",
    "#최종결과 == str"
   ]
  },
  {
   "cell_type": "code",
   "execution_count": null,
   "metadata": {},
   "outputs": [],
   "source": [
    "words = 'Life is too short, you need python!'\n",
    "\n"
   ]
  },
  {
   "cell_type": "code",
   "execution_count": null,
   "metadata": {},
   "outputs": [],
   "source": [
    "import this"
   ]
  },
  {
   "cell_type": "markdown",
   "metadata": {},
   "source": [
    "----"
   ]
  },
  {
   "cell_type": "markdown",
   "metadata": {},
   "source": [
    "# 딕셔너리 메소드 활용"
   ]
  },
  {
   "cell_type": "markdown",
   "metadata": {},
   "source": [
    "## 추가 및 삭제\n",
    "\n",
    "### `.pop(key[, default])`\n",
    "\n",
    "key가 딕셔너리에 있으면 제거하고 그 값을 돌려줍니다. 그렇지 않으면 default를 반환합니다.\n",
    "\n",
    "default가 없는 상태에서 딕셔너리에 없으면 KeyError가 발생합니다."
   ]
  },
  {
   "cell_type": "code",
   "execution_count": null,
   "metadata": {},
   "outputs": [],
   "source": [
    "# pop을 사용해봅시다.\n",
    "my_dict = {'apple': '사과', 'banana': '바나나'}\n",
    "my_dict.pop('apple')\n",
    "my_dict"
   ]
  },
  {
   "cell_type": "code",
   "execution_count": null,
   "metadata": {},
   "outputs": [],
   "source": [
    "# 딕셔너리에 없으면 에러가 발생합니다\n",
    "my_dict.pop('melon')"
   ]
  },
  {
   "cell_type": "code",
   "execution_count": null,
   "metadata": {},
   "outputs": [],
   "source": [
    "# 두번째 인자로 default를 설정할 수 있습니다\n",
    "my_dict.pop('melon', -0)"
   ]
  },
  {
   "cell_type": "markdown",
   "metadata": {},
   "source": [
    "### `.update()`\n",
    "\n",
    "값을 제공하는 key, value로 덮어씁니다. "
   ]
  },
  {
   "cell_type": "code",
   "execution_count": 37,
   "metadata": {},
   "outputs": [
    {
     "data": {
      "text/plain": [
       "{'apple': '사과', 'banana': '바나나', 'melon': '멜론', 'why': '사가'}"
      ]
     },
     "execution_count": 37,
     "metadata": {},
     "output_type": "execute_result"
    }
   ],
   "source": [
    "# update를 사용해봅시다.\n",
    "my_dict = {'apple': '사과', 'banana': '바나나', 'melon': '멜론'}\n",
    "my_dict.update(why = '사가')\n",
    "my_dict"
   ]
  },
  {
   "cell_type": "markdown",
   "metadata": {},
   "source": [
    "### `.get(key[, default])`\n",
    "\n",
    "key를 통해 value를 가져옵니다. \n",
    "\n",
    "절대로 KeyError가 발생하지 않습니다. default는 기본적으로 None입니다."
   ]
  },
  {
   "cell_type": "code",
   "execution_count": 44,
   "metadata": {},
   "outputs": [
    {
     "name": "stdout",
     "output_type": "stream",
     "text": [
      "{'apple': '사과', 'banana': '바나나', 'melon': '멜론', 'qwer': 'qwer'}\n",
      "{'apple': '사과', 'banana': '바나나', 'melon': '멜론', 'qwer': '1234'}\n",
      "사과\n",
      "apple 사과\tbanana 바나나\tmelon 멜론\tqwer 1234\t"
     ]
    }
   ],
   "source": [
    "# get을 사용해봅시다.\n",
    "my_dict = {'apple': '사과', 'banana': '바나나', 'melon': '멜론'}\n",
    "my_dict['qwer'] = 'qwer'\n",
    "print(my_dict)\n",
    "my_dict['qwer'] = '1234'\n",
    "print(my_dict)\n",
    "print(my_dict.get('apple'))\n",
    "\n",
    "for k,v in my_dict.items():\n",
    "    print(k,v ,end = '\\t')"
   ]
  },
  {
   "cell_type": "markdown",
   "metadata": {},
   "source": [
    "## dictionary comprehension\n",
    "\n",
    "dictionary도 comprehension을 활용하여 만들 수 있습니다. "
   ]
  },
  {
   "cell_type": "code",
   "execution_count": null,
   "metadata": {},
   "outputs": [],
   "source": [
    "# dictionary comprehension\n",
    "cubic = {x:x**3 for x in range(1,11)}\n",
    "cubic\n",
    "\n",
    "new_dict = {key : value for key, value in dusts.items()}\n"
   ]
  },
  {
   "cell_type": "markdown",
   "metadata": {},
   "source": [
    "### dictionary comprehension 사용해보기"
   ]
  },
  {
   "cell_type": "code",
   "execution_count": 46,
   "metadata": {},
   "outputs": [],
   "source": [
    "dusts = {'서울': 72, '대전': 82, '구미': 29, '광주': 45, '중국': 200}"
   ]
  },
  {
   "cell_type": "code",
   "execution_count": 49,
   "metadata": {},
   "outputs": [
    {
     "name": "stdout",
     "output_type": "stream",
     "text": [
      "{'대전': 82, '중국': 200}\n"
     ]
    }
   ],
   "source": [
    "# 미세먼지 농도가 80 초과 지역만 뽑아 봅시다.\n",
    "# 예) {'대전': 82, '중국': 200}\n",
    "\n",
    "bad_air = {key : value for key,value in dusts.items() if value > 80}\n",
    "print(bad_air)"
   ]
  },
  {
   "cell_type": "code",
   "execution_count": null,
   "metadata": {},
   "outputs": [],
   "source": [
    "# 미세먼지 농도가 80초과는 나쁨 80이하는 보통으로 하는 value를 가지도록 바꿔봅시다.\n",
    "\n",
    "a = 10\n",
    "\n",
    "result = '큼' if a > 10 else '작음'\n",
    "\n",
    "grade = { key: ('나쁨' if value > 80 else '보통') for key, value in dusts.items()}\n",
    "print(grade)"
   ]
  },
  {
   "cell_type": "code",
   "execution_count": null,
   "metadata": {},
   "outputs": [],
   "source": [
    "# elif 도 사용할 수 있습니다."
   ]
  },
  {
   "cell_type": "markdown",
   "metadata": {},
   "source": [
    "----"
   ]
  },
  {
   "cell_type": "markdown",
   "metadata": {},
   "source": [
    "# 세트 메소드 활용"
   ]
  },
  {
   "cell_type": "markdown",
   "metadata": {},
   "source": [
    "## 추가 및 삭제\n",
    "\n",
    "### `.add(elem)`\n",
    "elem을 세트에 추가합니다. "
   ]
  },
  {
   "cell_type": "code",
   "execution_count": null,
   "metadata": {},
   "outputs": [],
   "source": [
    "# add를 사용해봅시다.\n",
    "fruits = {\"사과\", \"바나나\", \"수박\"}\n",
    "fruits.add(('사과','바나나'))\n",
    "print(fruits)"
   ]
  },
  {
   "cell_type": "markdown",
   "metadata": {},
   "source": [
    "### `update(*others)`\n",
    "\n",
    "여러가지의 값을 추가합니다.\n",
    "\n",
    "여기서 반드시 iterable한 값을 넣어야합니다."
   ]
  },
  {
   "cell_type": "code",
   "execution_count": 23,
   "metadata": {},
   "outputs": [
    {
     "ename": "AttributeError",
     "evalue": "'tuple' object has no attribute 'update'",
     "output_type": "error",
     "traceback": [
      "\u001b[1;31m---------------------------------------------------------------------------\u001b[0m",
      "\u001b[1;31mAttributeError\u001b[0m                            Traceback (most recent call last)",
      "\u001b[1;32m<ipython-input-23-8f213bb2bf73>\u001b[0m in \u001b[0;36m<module>\u001b[1;34m\u001b[0m\n\u001b[0;32m      1\u001b[0m \u001b[0ma\u001b[0m \u001b[1;33m=\u001b[0m \u001b[1;33m(\u001b[0m\u001b[1;33m)\u001b[0m\u001b[1;33m\u001b[0m\u001b[1;33m\u001b[0m\u001b[0m\n\u001b[0;32m      2\u001b[0m \u001b[0mb\u001b[0m \u001b[1;33m=\u001b[0m \u001b[1;33m[\u001b[0m\u001b[1;36m1\u001b[0m\u001b[1;33m,\u001b[0m\u001b[1;36m2\u001b[0m\u001b[1;33m,\u001b[0m\u001b[1;36m6\u001b[0m\u001b[1;33m,\u001b[0m\u001b[1;36m7\u001b[0m\u001b[1;33m,\u001b[0m\u001b[1;36m8\u001b[0m\u001b[1;33m]\u001b[0m\u001b[1;33m\u001b[0m\u001b[1;33m\u001b[0m\u001b[0m\n\u001b[1;32m----> 3\u001b[1;33m \u001b[0ma\u001b[0m\u001b[1;33m.\u001b[0m\u001b[0mupdate\u001b[0m\u001b[1;33m(\u001b[0m\u001b[0mb\u001b[0m\u001b[1;33m)\u001b[0m\u001b[1;33m\u001b[0m\u001b[1;33m\u001b[0m\u001b[0m\n\u001b[0m\u001b[0;32m      4\u001b[0m \u001b[0ma\u001b[0m\u001b[1;33m\u001b[0m\u001b[1;33m\u001b[0m\u001b[0m\n",
      "\u001b[1;31mAttributeError\u001b[0m: 'tuple' object has no attribute 'update'"
     ]
    }
   ],
   "source": [
    "a = ()\n",
    "b = [1,2,6,7,8]\n",
    "a.update(b)\n",
    "a"
   ]
  },
  {
   "cell_type": "code",
   "execution_count": 18,
   "metadata": {},
   "outputs": [
    {
     "data": {
      "text/plain": [
       "{1, 2, 3, 4, 5}"
      ]
     },
     "execution_count": 18,
     "metadata": {},
     "output_type": "execute_result"
    }
   ],
   "source": [
    "a = [1,2,3,4,5]\n",
    "b = set(map(int, a))\n",
    "b\n"
   ]
  },
  {
   "cell_type": "code",
   "execution_count": null,
   "metadata": {},
   "outputs": [],
   "source": [
    "# update를 사용해봅시다.\n",
    "fruits = {\"사과\", \"바나나\", \"수박\"}\n",
    "fruits.update('두리안', '딸기', '바나나')\n",
    "print(fruits)"
   ]
  },
  {
   "cell_type": "markdown",
   "metadata": {},
   "source": [
    "### `.remove(elem)`\n",
    "\n",
    "elem을 세트에서 삭제하고, 없으면 KeyError가 발생합니다. "
   ]
  },
  {
   "cell_type": "code",
   "execution_count": null,
   "metadata": {},
   "outputs": [],
   "source": [
    "# remove를 사용해봅시다.\n",
    "fruits = {\"사과\", \"바나나\", \"수박\"}"
   ]
  },
  {
   "cell_type": "markdown",
   "metadata": {},
   "source": [
    "### `discard(elem)`\n",
    "x를 세트에서 삭제하고 없어도 에러가 발생하지 않습니다."
   ]
  },
  {
   "cell_type": "code",
   "execution_count": null,
   "metadata": {},
   "outputs": [],
   "source": [
    "# discard를 사용해봅시다.\n",
    "fruits = {\"사과\", \"바나나\", \"수박\"}\n",
    "fruits.discard('사과')\n",
    "print(fruits)"
   ]
  },
  {
   "cell_type": "markdown",
   "metadata": {},
   "source": [
    "### `pop()`\n",
    "\n",
    "임의의 원소를 제거해 반환합니다."
   ]
  },
  {
   "cell_type": "code",
   "execution_count": null,
   "metadata": {},
   "outputs": [],
   "source": [
    "# pop을 사용해봅시다.\n",
    "fruits = {\"사과\", \"바나나\", \"수박\", \"아보카도\"}\n",
    "fruits.pop()\n",
    "print(fruits)\n",
    "fruits.pop()\n",
    "print(fruits)"
   ]
  },
  {
   "cell_type": "markdown",
   "metadata": {},
   "source": [
    "----"
   ]
  },
  {
   "cell_type": "markdown",
   "metadata": {},
   "source": [
    "##  `map()`, `zip()`, `filter()`"
   ]
  },
  {
   "cell_type": "markdown",
   "metadata": {},
   "source": [
    "### `map(function, iterable)`\n",
    "\n",
    "* Iterable의 모든 원소에 function을 적용한 후 그 결과를 돌려줍니다. \n",
    "\n",
    "* 대표적으로 iterable한 타입 - list, dict, set, str, bytes, tuple, range\n",
    "\n",
    "* return은 map_object 형태로 됩니다."
   ]
  },
  {
   "cell_type": "code",
   "execution_count": null,
   "metadata": {},
   "outputs": [],
   "source": [
    "numbers = [1, 2, 3]\n",
    "# 위의 코드를 문자열 '123'으로 만들어봅시다.\n",
    "chars = []\n",
    "for number in numbers:\n",
    "    chars.append(str(number))\n",
    "''.join(chars)"
   ]
  },
  {
   "cell_type": "code",
   "execution_count": null,
   "metadata": {},
   "outputs": [],
   "source": [
    "# list comprehension\n",
    "chars = [str(number)  for number in numbers]\n",
    "''.join(chars)"
   ]
  },
  {
   "cell_type": "code",
   "execution_count": null,
   "metadata": {},
   "outputs": [],
   "source": [
    "chars = map(str, numbers)\n",
    "list(chars)"
   ]
  },
  {
   "cell_type": "code",
   "execution_count": null,
   "metadata": {},
   "outputs": [],
   "source": [
    "tags = ['오늘', '회식', '월요일']\n",
    "\n",
    "def make_hashtag(word):\n",
    "    return '#' + word\n",
    "\n",
    "make_hashtag('test')\n",
    "hashtag = list(map(make_hashtag, tags))\n",
    "print(tags, hashtag)"
   ]
  },
  {
   "cell_type": "code",
   "execution_count": null,
   "metadata": {},
   "outputs": [],
   "source": [
    "chars = ['1', '2', '3']\n",
    "# 위의 코드를 [1, 2, 3]으로 만들어봅시다.\n",
    "\n",
    "print(list(map(int,chars)))\n",
    "num = [int(i) for i in chars]\n",
    "print(num)"
   ]
  },
  {
   "cell_type": "code",
   "execution_count": null,
   "metadata": {},
   "outputs": [],
   "source": [
    "# list comprehension"
   ]
  },
  {
   "cell_type": "markdown",
   "metadata": {},
   "source": [
    "* function은 사용자 정의 함수도 가능합니다."
   ]
  },
  {
   "cell_type": "code",
   "execution_count": null,
   "metadata": {},
   "outputs": [],
   "source": [
    "# 세제곱의 결과를 나타내는 함수\n",
    "def cube(n):\n",
    "    return n**3\n",
    "\n",
    "alp = list(map(cube, range(11)))\n"
   ]
  },
  {
   "cell_type": "markdown",
   "metadata": {},
   "source": [
    "### `zip(*iterables)` \n",
    "\n",
    "* 복수 iterable한 것들을 모아준다.\n",
    "\n",
    "* 결과는 튜플의 모음으로 구성된 zip object를 반환한다."
   ]
  },
  {
   "cell_type": "code",
   "execution_count": 42,
   "metadata": {},
   "outputs": [
    {
     "name": "stdout",
     "output_type": "stream",
     "text": [
      "<zip object at 0x000001831FECAA88>\n"
     ]
    }
   ],
   "source": [
    "# 예시를 봅시다.\n",
    "girls = {'jane' : 10, 'iu' : 99, 'mary': 99}\n",
    "boys = {'justin' : 99, 'david' : 3740, 'kim' : 1491}\n",
    "\n",
    "print(zip(girls, boys))\n"
   ]
  },
  {
   "cell_type": "code",
   "execution_count": 13,
   "metadata": {},
   "outputs": [
    {
     "name": "stdout",
     "output_type": "stream",
     "text": [
      "1 2\n"
     ]
    },
    {
     "data": {
      "text/plain": [
       "{'jane': 'justin', 'iu': 'david', 'mary': 'kim'}"
      ]
     },
     "execution_count": 13,
     "metadata": {},
     "output_type": "execute_result"
    }
   ],
   "source": [
    "# for문으로 한 명씩 순서대로 매칭시켜봅시다.\n",
    "# 예) {'jane': 'justin', 'iu': 'david', 'mary': 'kim'}\n",
    "\n",
    "a,b = (1,2)\n",
    "print(a,b)\n",
    "my_dict = {}\n",
    "for girl, boy in zip(girls,boys):\n",
    "    my_dict[girl] = boy\n",
    "my_dict\n"
   ]
  },
  {
   "cell_type": "code",
   "execution_count": 14,
   "metadata": {},
   "outputs": [
    {
     "data": {
      "text/plain": [
       "{'jane': 'justin', 'iu': 'david', 'mary': 'kim'}"
      ]
     },
     "execution_count": 14,
     "metadata": {},
     "output_type": "execute_result"
    }
   ],
   "source": [
    "my_dict = {g : b for g, b in zip(girls, boys)}\n",
    "\n",
    "my_dict"
   ]
  },
  {
   "cell_type": "markdown",
   "metadata": {},
   "source": [
    "* 아래와 같이 사용가능하다."
   ]
  },
  {
   "cell_type": "code",
   "execution_count": 16,
   "metadata": {},
   "outputs": [
    {
     "name": "stdout",
     "output_type": "stream",
     "text": [
      "가다\n",
      "나나\n",
      "다가\n"
     ]
    }
   ],
   "source": [
    "a = '가나다'\n",
    "b = '다나가'\n",
    "\n",
    "for char_a, char_b in zip(a,b):\n",
    "    print(char_a + char_b)\n"
   ]
  },
  {
   "cell_type": "code",
   "execution_count": 2,
   "metadata": {},
   "outputs": [
    {
     "data": {
      "text/plain": [
       "[('1', 'a'), ('2', 's'), ('3', 'd')]"
      ]
     },
     "execution_count": 2,
     "metadata": {},
     "output_type": "execute_result"
    }
   ],
   "source": [
    "d = '1234'\n",
    "c = 'asd'\n",
    "\n",
    "list(zip(d,c))"
   ]
  },
  {
   "cell_type": "code",
   "execution_count": 24,
   "metadata": {},
   "outputs": [
    {
     "data": {
      "text/plain": [
       "[('a', 1), ('s', 2), ('d', '고독'), ('f', '고독')]"
      ]
     },
     "execution_count": 24,
     "metadata": {},
     "output_type": "execute_result"
    }
   ],
   "source": [
    "from itertools import zip_longest\n",
    "a = 'asdf'\n",
    "b = [1,2]\n",
    "\n",
    "list(zip_longest(a,b, fillvalue = '고독'))"
   ]
  },
  {
   "cell_type": "markdown",
   "metadata": {},
   "source": [
    "* zip은 반드시 길이가 같을 때 사용해야한다. 가장 짧은 것을 기준으로 구성한다."
   ]
  },
  {
   "cell_type": "markdown",
   "metadata": {},
   "source": [
    "* 길이가 긴 것을 맞춰서 할 수도 있지만, 사용할 일이 없다."
   ]
  },
  {
   "cell_type": "markdown",
   "metadata": {},
   "source": [
    "### `filter(function, iterable)`\n",
    "\n",
    "* iterable에서 function의 반환된 결과가 참인 것들만 구성하여 반환한다."
   ]
  },
  {
   "cell_type": "code",
   "execution_count": 32,
   "metadata": {},
   "outputs": [
    {
     "data": {
      "text/plain": [
       "[2, 4, 6, 8]"
      ]
     },
     "execution_count": 32,
     "metadata": {},
     "output_type": "execute_result"
    }
   ],
   "source": [
    "# 짝수인지 판단하는 함수를 작성해봅시다.\n",
    "\n",
    "def is_even(number):\n",
    "    return number % 2 == 0\n",
    "\n",
    "numbers = range(1,10)\n",
    "list(filter(is_even,numbers))\n"
   ]
  },
  {
   "cell_type": "code",
   "execution_count": 33,
   "metadata": {},
   "outputs": [
    {
     "data": {
      "text/plain": [
       "[2, 4, 6, 8]"
      ]
     },
     "execution_count": 33,
     "metadata": {},
     "output_type": "execute_result"
    }
   ],
   "source": [
    "# 다음의 list comprehension과 동일하다.\n",
    "[n for n in numbers if n % 2 == 0]\n",
    "[n for n in numbers if is_even(n)]"
   ]
  },
  {
   "cell_type": "code",
   "execution_count": null,
   "metadata": {},
   "outputs": [],
   "source": [
    "n % 2 == 0\n",
    "\n",
    "bool(n % 2) # ==> 홀수 판별식!"
   ]
  },
  {
   "cell_type": "code",
   "execution_count": 39,
   "metadata": {},
   "outputs": [
    {
     "data": {
      "text/plain": [
       "['01012341234', '01028561214']"
      ]
     },
     "execution_count": 39,
     "metadata": {},
     "output_type": "execute_result"
    }
   ],
   "source": [
    "phone_numbers = [\n",
    "    '01012341234',\n",
    "    '02123456789',\n",
    "    '010123456789',\n",
    "    '+82)15785875',\n",
    "    '01028561214'        \n",
    "]\n",
    "\n",
    "def is_valid_phone(phone_number):\n",
    "    if phone_number[:3]=='010' and len(phone_number) == 11:\n",
    "            return True \n",
    "      \n",
    "\n",
    "is_valid_phone('01027599356')\n",
    "list(filter(is_valid_phone, phone_numbers))\n"
   ]
  },
  {
   "cell_type": "code",
   "execution_count": 50,
   "metadata": {},
   "outputs": [
    {
     "ename": "TypeError",
     "evalue": "'module' object is not callable",
     "output_type": "error",
     "traceback": [
      "\u001b[1;31m---------------------------------------------------------------------------\u001b[0m",
      "\u001b[1;31mTypeError\u001b[0m                                 Traceback (most recent call last)",
      "\u001b[1;32m<ipython-input-50-0a1c4cea61f0>\u001b[0m in \u001b[0;36m<module>\u001b[1;34m\u001b[0m\n\u001b[0;32m     12\u001b[0m     \u001b[1;32mreturn\u001b[0m \u001b[0mls1\u001b[0m\u001b[1;33m\u001b[0m\u001b[1;33m\u001b[0m\u001b[0m\n\u001b[0;32m     13\u001b[0m \u001b[1;33m\u001b[0m\u001b[0m\n\u001b[1;32m---> 14\u001b[1;33m \u001b[0mmvdate\u001b[0m\u001b[1;33m(\u001b[0m\u001b[1;36m50\u001b[0m\u001b[1;33m)\u001b[0m\u001b[1;33m\u001b[0m\u001b[1;33m\u001b[0m\u001b[0m\n\u001b[0m",
      "\u001b[1;32m<ipython-input-50-0a1c4cea61f0>\u001b[0m in \u001b[0;36mmvdate\u001b[1;34m(a)\u001b[0m\n\u001b[0;32m      5\u001b[0m \u001b[1;32mdef\u001b[0m \u001b[0mmvdate\u001b[0m\u001b[1;33m(\u001b[0m\u001b[0ma\u001b[0m\u001b[1;33m)\u001b[0m\u001b[1;33m:\u001b[0m\u001b[1;33m\u001b[0m\u001b[1;33m\u001b[0m\u001b[0m\n\u001b[0;32m      6\u001b[0m     \u001b[0mls1\u001b[0m \u001b[1;33m=\u001b[0m \u001b[1;33m[\u001b[0m\u001b[1;33m]\u001b[0m\u001b[1;33m\u001b[0m\u001b[1;33m\u001b[0m\u001b[0m\n\u001b[1;32m----> 7\u001b[1;33m     \u001b[0md\u001b[0m \u001b[1;33m=\u001b[0m \u001b[0mdatetime\u001b[0m\u001b[1;33m(\u001b[0m\u001b[1;36m2019\u001b[0m\u001b[1;33m,\u001b[0m \u001b[1;36m7\u001b[0m\u001b[1;33m,\u001b[0m \u001b[1;36m13\u001b[0m\u001b[1;33m)\u001b[0m\u001b[1;33m\u001b[0m\u001b[1;33m\u001b[0m\u001b[0m\n\u001b[0m\u001b[0;32m      8\u001b[0m     \u001b[1;32mfor\u001b[0m \u001b[0mi\u001b[0m \u001b[1;32min\u001b[0m \u001b[0mrange\u001b[0m\u001b[1;33m(\u001b[0m\u001b[0ma\u001b[0m\u001b[1;33m)\u001b[0m\u001b[1;33m:\u001b[0m\u001b[1;33m\u001b[0m\u001b[1;33m\u001b[0m\u001b[0m\n\u001b[0;32m      9\u001b[0m         \u001b[0mb\u001b[0m \u001b[1;33m=\u001b[0m \u001b[0md\u001b[0m \u001b[1;33m+\u001b[0m \u001b[0mtimedelta\u001b[0m\u001b[1;33m(\u001b[0m\u001b[0mweeks\u001b[0m\u001b[1;33m=\u001b[0m \u001b[1;33m-\u001b[0m\u001b[0mi\u001b[0m\u001b[1;33m)\u001b[0m\u001b[1;33m\u001b[0m\u001b[1;33m\u001b[0m\u001b[0m\n",
      "\u001b[1;31mTypeError\u001b[0m: 'module' object is not callable"
     ]
    }
   ],
   "source": [
    "\n",
    "from datetime import datetime, timedelta\n",
    "\n",
    "\n",
    "def mvdate(a):\n",
    "    ls1 = []\n",
    "    d = datetime(2019, 7, 13) \n",
    "    for i in range(a):\n",
    "        b = d + timedelta(weeks= -i)\n",
    "        ls1.append(b.strftime('%Y%m%d'))\n",
    "\n",
    "    return ls1\n",
    "\n",
    "mvdate(50)"
   ]
  },
  {
   "cell_type": "code",
   "execution_count": 4,
   "metadata": {},
   "outputs": [
    {
     "name": "stdout",
     "output_type": "stream",
     "text": [
      "20190713\n",
      "20190706\n",
      "20190629\n",
      "20190622\n",
      "20190615\n",
      "20190608\n",
      "20190601\n",
      "20190525\n",
      "20190518\n",
      "20190511\n",
      "20190504\n",
      "20190427\n",
      "20190420\n",
      "20190413\n",
      "20190406\n",
      "20190330\n",
      "20190323\n",
      "20190316\n",
      "20190309\n",
      "20190302\n",
      "20190223\n",
      "20190216\n",
      "20190209\n",
      "20190202\n",
      "20190126\n",
      "20190119\n",
      "20190112\n",
      "20190105\n",
      "20181229\n",
      "20181222\n",
      "20181215\n",
      "20181208\n",
      "20181201\n",
      "20181124\n",
      "20181117\n",
      "20181110\n",
      "20181103\n",
      "20181027\n",
      "20181020\n",
      "20181013\n",
      "20181006\n",
      "20180929\n",
      "20180922\n",
      "20180915\n",
      "20180908\n",
      "20180901\n",
      "20180825\n",
      "20180818\n",
      "20180811\n",
      "20180804\n"
     ]
    }
   ],
   "source": [
    "for i in range(0, 50):\n",
    "    d = datetime(2019, 7, 13) - timedelta(weeks=i)\n",
    "    targetDt = d.strftime(\"%Y%m%d\")\n",
    "    print(targetDt)\n"
   ]
  },
  {
   "cell_type": "code",
   "execution_count": null,
   "metadata": {},
   "outputs": [],
   "source": [
    "import ramdom\n",
    "\n"
   ]
  }
 ],
 "metadata": {
  "kernelspec": {
   "display_name": "Python 3",
   "language": "python",
   "name": "python3"
  },
  "language_info": {
   "codemirror_mode": {
    "name": "ipython",
    "version": 3
   },
   "file_extension": ".py",
   "mimetype": "text/x-python",
   "name": "python",
   "nbconvert_exporter": "python",
   "pygments_lexer": "ipython3",
   "version": "3.7.3"
  }
 },
 "nbformat": 4,
 "nbformat_minor": 2
}
