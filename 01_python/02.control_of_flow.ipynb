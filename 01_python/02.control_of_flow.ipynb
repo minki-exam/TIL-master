{
 "cells": [
  {
   "cell_type": "markdown",
   "metadata": {},
   "source": [
    "# 제어문\n",
    "\n",
    "지금까지의 코드는 위에서부터 아래로 순차적으로 명령을 수행하는 프로그램을 작성하였다. \n",
    "\n",
    "제어문(Control of Flow)은 크게 반복문과 조건문으로 나눌 수 있고, 이는 순서도(Flow chart로 표현이 가능하다.)\n",
    "\n",
    "\n",
    "<center> \n",
    "    <img src=\"./images/02/if.png\", alt='if flowchart'/>\n",
    "</center>\n"
   ]
  },
  {
   "cell_type": "code",
   "execution_count": 1,
   "metadata": {},
   "outputs": [
    {
     "name": "stdout",
     "output_type": "stream",
     "text": [
      "5 이하\n",
      "5\n"
     ]
    }
   ],
   "source": [
    "# 위의 flow chart를 조건문을 통해 만들어봅시다.\n",
    "\n",
    "a = 5\n",
    "if a > 5:\n",
    "    print('5 초과')\n",
    "elif a <= 5:\n",
    "    print('5 이하')\n",
    "print(a)\n"
   ]
  },
  {
   "cell_type": "markdown",
   "metadata": {},
   "source": [
    "## 조건문\n",
    "\n",
    "1. `if` 문은 반드시 일정한 참/거짓을 판단할 수 있는 `조건식`과 함께 사용이 되어야한다.\n",
    "`if <조건식>:`\n",
    "\n",
    "2-1. `<조건식>`이 참인 경우 `:` 이후의 문장을 수행한다.\n",
    "\n",
    "2-2. `<조건식>`이 거짓인 경우 `else:` 이후의 문장을 수행한다.\n",
    "\n",
    "* 이때 반드시 **들여쓰기를** 유의해야한다. \n",
    "파이썬에서는 코드 블록을 자바나 C언어의 `{}`와 달리 `들여쓰기`로 판단하기 때문이다.\n",
    "* 앞으로 우리는 `PEP-8`에서 권장하는 `4spaces`를 사용할 것이다.\n"
   ]
  },
  {
   "cell_type": "markdown",
   "metadata": {},
   "source": [
    "<center>\n",
    "    <img src=\"./images/02/if_style.png\", alt=\"if style\"/>\n",
    "</center>"
   ]
  },
  {
   "cell_type": "markdown",
   "metadata": {},
   "source": [
    "<center><strong style=\"font-size: 40px;\">우리는 4spaces를 맞춰서 씁니다!</strong></center>\n",
    "<br>\n",
    "\n",
    "<center>\n",
    "    <img src=\"./images/02/spacetab.png\", alt=\"[space vs tab]\"/>\n",
    "</center>    \n",
    "\n",
    "\n",
    "\n",
    "\n",
    "[출처 : 400,000 GitHub repositories, 1 billion files, 14 terabytes of code: Spaces or Tabs?](https://medium.com/@hoffa/400-000-github-repositories-1-billion-files-14-terabytes-of-code-spaces-or-tabs-7cfe0b5dd7fd)\n"
   ]
  },
  {
   "cell_type": "markdown",
   "metadata": {},
   "source": [
    "### 조건문 연습\n",
    "> 조건문을 통해 사용자가 입력한 날짜가 크리스마스인지 확인하세요.\n",
    "\n",
    "---\n",
    "\n",
    "```\n",
    "예시 출력)\n",
    "12/25\n",
    "크리스마스입니다.\n",
    "```\n"
   ]
  },
  {
   "cell_type": "code",
   "execution_count": 9,
   "metadata": {},
   "outputs": [
    {
     "name": "stdout",
     "output_type": "stream",
     "text": [
      "날짜를 입력해주세요 ex)12/24 : 12/25\n",
      "크리스마스가 맞습니다.\n"
     ]
    }
   ],
   "source": [
    "# 실습!\n",
    "is_christmas = input(\"날짜를 입력해주세요 ex)12/24 : \")\n",
    "# 여기에 코드를 작성하세요.\n",
    "\n",
    "if is_christmas == '12/25':\n",
    "    print('크리스마스가 맞습니다.')\n",
    "else:\n",
    "    print('크리스마스가 아닙니다')\n",
    "\n"
   ]
  },
  {
   "cell_type": "markdown",
   "metadata": {},
   "source": [
    "### 조건문 활용\n",
    "\n",
    "\n",
    "> **조건문을 통해 변수 num의 값과 홀수/짝수 여부를 출력하세요.**\n",
    "\n",
    "---\n",
    "\n",
    "```\n",
    "예시 출력)\n",
    "3\n",
    "홀수입니다.\n",
    "```"
   ]
  },
  {
   "cell_type": "code",
   "execution_count": 10,
   "metadata": {},
   "outputs": [
    {
     "name": "stdout",
     "output_type": "stream",
     "text": [
      "숫자를 입력하세요 : 4444\n",
      "even\n"
     ]
    }
   ],
   "source": [
    "# 실습!\n",
    "num = int(input(\"숫자를 입력하세요 : \"))\n",
    "# 여기에 코드를 작성하세요.\n",
    "if num%2 == 0:\n",
    "    print('even')\n",
    "else:\n",
    "    print('odd')\n",
    "\n"
   ]
  },
  {
   "cell_type": "markdown",
   "metadata": {},
   "source": [
    "## 복수 조건문\n",
    "\n",
    "2개 이상의 조건문을 활용할 경우 `elif <조건식>:`을 활용한다.\n",
    "<center>\n",
    "<img src=\"./images/02/elif.png\", alt=\"elif\">\n",
    "</center>"
   ]
  },
  {
   "cell_type": "markdown",
   "metadata": {},
   "source": [
    "### 복수조건문 활용\n",
    "\n",
    "> 조건문을 통해 변수 score에 따른 평점을 출력하세요.\n",
    "\n",
    "|점수|등급|\n",
    "|---|---|\n",
    "|90점 이상|A|\n",
    "|80점 이상|B|\n",
    "|70점 이상|C|\n",
    "|60점 이상|D|\n",
    "|60점 미만|F|\n",
    "\n",
    "--- \n",
    "\n",
    "```\n",
    "예시 출력)\n",
    "B\n",
    "```"
   ]
  },
  {
   "cell_type": "code",
   "execution_count": 14,
   "metadata": {},
   "outputs": [
    {
     "name": "stdout",
     "output_type": "stream",
     "text": [
      "점수를 입력하세요 : 88\n",
      "88 B\n"
     ]
    }
   ],
   "source": [
    "# 실습!\n",
    "score = int(input(\"점수를 입력하세요 : \"))\n",
    "# 여기에 코드를 작성하세요.\n",
    "\n",
    "if score>=90:\n",
    "    print(score,'A')    # 위에서 애초에 90점 이상인 것들이 걸려서 내려오기에 90에 대한 조건은 필요없다.\n",
    "elif 80<= score: \n",
    "    print(score,'B')\n",
    "elif 70<= score:\n",
    "    print(score,'C')\n",
    "elif 60<=score:\n",
    "    print(score,'D')\n",
    "else:\n",
    "    print(score,'F')\n"
   ]
  },
  {
   "cell_type": "markdown",
   "metadata": {},
   "source": [
    "### 중첩조건문 활용\n",
    "\n",
    "> **위의 실습문제 2코드를 활용하여 \n",
    "95점 이상이면, \"참잘했어요\"를 함께 출력해주세요**\n",
    "\n",
    "--- \n",
    "\n",
    "```\n",
    "예시 출력)\n",
    "A\n",
    "참잘했어요\n",
    "```"
   ]
  },
  {
   "cell_type": "code",
   "execution_count": 13,
   "metadata": {},
   "outputs": [
    {
     "name": "stdout",
     "output_type": "stream",
     "text": [
      "96 A\n",
      "참 잘했어요\n"
     ]
    }
   ],
   "source": [
    "# 실습!\n",
    "score = 96\n",
    "# 여기에 코드를 작성하세요.\n",
    "if score>=90:\n",
    "    print(score,'A')\n",
    "    if score>=95:\n",
    "        print('참 잘했어요')\n",
    "elif 80<= score< 90:\n",
    "    print(score,'B')\n",
    "elif 70<= score < 80:\n",
    "    print(score,'C')\n",
    "elif 60<=score < 70:\n",
    "    print(score,'D')\n",
    "else:\n",
    "    print(score,'F')\n"
   ]
  },
  {
   "cell_type": "markdown",
   "metadata": {},
   "source": [
    "## 조건 표현식(Conditional Expression)\n",
    "\n",
    "\n",
    "```\n",
    "true_value if <조건식> else false_value\n",
    "```\n",
    "    \n",
    "와 같이 표현식을 작성할 수 있다. 이는 보통 다른 언어에서 활용되는 삼항연산자와 동일하다."
   ]
  },
  {
   "cell_type": "code",
   "execution_count": 16,
   "metadata": {},
   "outputs": [
    {
     "name": "stdout",
     "output_type": "stream",
     "text": [
      "숫자를 입력하세요 : -12\n",
      "음수\n"
     ]
    }
   ],
   "source": [
    "# 조건 표현식을 사용해봅시다.\n",
    "a = int(input(\"숫자를 입력하세요 : \"))\n",
    "# 여기에 코드를 작성하세요.\n",
    "\n",
    "print('양수') if a > 0 else print('음수')"
   ]
  },
  {
   "cell_type": "markdown",
   "metadata": {},
   "source": [
    "* 표현식은 보통 조건에 따라 값을 정할 때 많이 활용된다.\n",
    "*  아래의 코드는 무엇을 위한 코드일까요?\n",
    "```python\n",
    "num = int(input(\"숫자를 입력하세요 : \"))\n",
    "value = num if num >= 0 else 0\n",
    "print(value)\n",
    "```"
   ]
  },
  {
   "cell_type": "markdown",
   "metadata": {},
   "source": [
    "### 조건표현식과 동일한 `if`문 작성하기\n",
    "\n",
    "> 다음의 코드와 동일한 `if`문을 작성해보세요.\n",
    "\n",
    "```python\n",
    "num = -5\n",
    "value = num if num >= 0 else 0\n",
    "print(value)\n",
    "```\n",
    "---\n",
    "\n",
    "```\n",
    "예시 출력)\n",
    "0\n",
    "```"
   ]
  },
  {
   "cell_type": "code",
   "execution_count": 18,
   "metadata": {},
   "outputs": [
    {
     "name": "stdout",
     "output_type": "stream",
     "text": [
      "0\n"
     ]
    }
   ],
   "source": [
    "# 여기에 코드를 작성하세요.\n",
    "num = -5\n",
    "if num>=0:\n",
    "    print(num)\n",
    "else:\n",
    "    print(0)"
   ]
  },
  {
   "cell_type": "markdown",
   "metadata": {},
   "source": [
    "### 조건표현식 만들어보기\n",
    "\n",
    "> 다음의 코드와 동일한 조건 표현식을 작성해보세요.\n",
    "\n",
    "```python\n",
    "num = 2\n",
    "if num % 2 == 1:\n",
    "    result = '홀수입니다.'\n",
    "else:\n",
    "    result = '짝수입니다.'\n",
    "print(result)\n",
    "```\n",
    "---\n",
    "```\n",
    "예시 출력)\n",
    "짝수입니다.\n",
    "```"
   ]
  },
  {
   "cell_type": "code",
   "execution_count": 28,
   "metadata": {},
   "outputs": [
    {
     "ename": "SyntaxError",
     "evalue": "can't assign to conditional expression (<ipython-input-28-16923f435d36>, line 4)",
     "output_type": "error",
     "traceback": [
      "\u001b[1;36m  File \u001b[1;32m\"<ipython-input-28-16923f435d36>\"\u001b[1;36m, line \u001b[1;32m4\u001b[0m\n\u001b[1;33m    result = 'odd' if num%2 == 1 else result ='even'\u001b[0m\n\u001b[1;37m            ^\u001b[0m\n\u001b[1;31mSyntaxError\u001b[0m\u001b[1;31m:\u001b[0m can't assign to conditional expression\n"
     ]
    }
   ],
   "source": [
    "# 여기에 코드를 작성하세요.\n",
    "\n",
    "num = 2\n",
    "result = 'odd' if num%2 == 1 else result ='even'\n",
    "print(result)\n",
    "\n"
   ]
  },
  {
   "cell_type": "markdown",
   "metadata": {},
   "source": [
    "# 반복문\n",
    "\n",
    "## `while` 문\n",
    "\n",
    "`while`문은 조건식이 참(True)인 경우 반복적으로 코드를 실행합니다. \n",
    "<br>\n",
    "<br>\n",
    "<center> \n",
    "    <img src=\"./images/02/while.png\", alt=\"while\"/>\n",
    "</center>\n",
    "\n",
    "**while 문은 종료조건을 반드시 설정해주어야 합니다.**"
   ]
  },
  {
   "cell_type": "code",
   "execution_count": 34,
   "metadata": {},
   "outputs": [
    {
     "name": "stdout",
     "output_type": "stream",
     "text": [
      "0123456789101112131415161718192021222324252627282930313233343536373839404142434445464748495051525354555657585960616263646566676869707172737475767778798081828384858687888990919293949596979899\n",
      "end\n"
     ]
    }
   ],
   "source": [
    "# 위의 flow chart를 조건문을 통해 만들어봅시다.\n",
    "\n",
    "a = 0\n",
    "while a<100:\n",
    "    print(a, end='')\n",
    "    a += 1\n",
    "print('\\nend')\n"
   ]
  },
  {
   "cell_type": "markdown",
   "metadata": {},
   "source": [
    "<center>\n",
    "    <img src=\"./images/02/while_style.png\", alt=\"\">\n",
    "</center>\n",
    "\n",
    "`while`문 역시 `<조건식>`이후에 `:`이 반드시 필요하며, \n",
    "\n",
    "이후 오는 코드 블록은 `4spaces`로 **들여쓰기**를 해주셔야 합니다."
   ]
  },
  {
   "cell_type": "markdown",
   "metadata": {},
   "source": [
    "### `while`문 작성하기\n",
    "> 사용자가 \"안녕\"이라고 입력할때까지 인사하는 코드를 작성해보세요."
   ]
  },
  {
   "cell_type": "code",
   "execution_count": 36,
   "metadata": {},
   "outputs": [
    {
     "name": "stdout",
     "output_type": "stream",
     "text": [
      "인사를 하거라 \tgd\n",
      "인사를 하거라 \tgd\n",
      "인사를 하거라 \t안녕\n"
     ]
    }
   ],
   "source": [
    "# 여기에 코드를 작성하세요.\n",
    "\n",
    "flag = True\n",
    "\n",
    "while flag:\n",
    "    greeting = input('인사를 하거라 \\t')\n",
    "    if greeting == '안녕':\n",
    "        flag = False\n",
    "\n"
   ]
  },
  {
   "cell_type": "code",
   "execution_count": 37,
   "metadata": {},
   "outputs": [
    {
     "name": "stdout",
     "output_type": "stream",
     "text": [
      "인사를 하거라 : d\n",
      "인사를 하거라 : g\n",
      "인사를 하거라 : d\n",
      "인사를 하거라 : e\n",
      "인사를 하거라 : w\n",
      "인사를 하거라 : q\n",
      "인사를 하거라 : dkssud\n",
      "인사를 하거라 : 안녕\n"
     ]
    }
   ],
   "source": [
    "user_input = ''\n",
    "\n",
    "while user_input != '안녕':\n",
    "    user_input = input(\"인사를 하거라 : \")\n",
    "\n"
   ]
  },
  {
   "cell_type": "markdown",
   "metadata": {},
   "source": [
    "## `for` 문\n",
    "\n",
    "`for`문은 정해진 범위 내(시퀀스)에서 순차적으로 코드를 실행합니다.\n",
    "\n",
    "<br>\n",
    "<center>\n",
    "    <img src=\"./images/02/loop-for.png\", alt=\"\">\n",
    "</center>"
   ]
  },
  {
   "cell_type": "code",
   "execution_count": 40,
   "metadata": {},
   "outputs": [
    {
     "name": "stdout",
     "output_type": "stream",
     "text": [
      "1\n",
      "2\n",
      "3\n",
      "끝\n",
      "3\n"
     ]
    }
   ],
   "source": [
    "# flowchart를 for문을 통해 코드로 작성해봅시다.\n",
    "\n",
    "for i in [1,2,3] :  #sequence 순서있는 ==> list, range, set, string\n",
    "    print(i)\n",
    "print('끝')\n",
    "\n",
    "print(i)"
   ]
  },
  {
   "cell_type": "code",
   "execution_count": null,
   "metadata": {},
   "outputs": [],
   "source": []
  },
  {
   "cell_type": "markdown",
   "metadata": {},
   "source": [
    "<center>\n",
    "    <img src=\"./images/02/for_style.png\", alt=\"for_style\">\n",
    "</center>\n",
    "\n",
    "---\n",
    "```\n",
    "for variable in sequence:\n",
    "    code line1\n",
    "    code line2\n",
    "```\n",
    "\n",
    "`for`문은 `sequence`를 순차적으로 **variable**에 값을 바인딩하며, 코드 블록을 시행합니다."
   ]
  },
  {
   "cell_type": "markdown",
   "metadata": {},
   "source": [
    "![for animation](./images/02/for.gif)"
   ]
  },
  {
   "cell_type": "markdown",
   "metadata": {},
   "source": [
    "### `for`문 연습\n",
    "> for문을 활용하여 사용자가 입력한 문자를 한글자씩 출력해보세요.\n",
    "\n",
    "---\n",
    "\n",
    "```\n",
    "예시 출력)\n",
    "문자를 입력하세요 : 안녕!\n",
    "안\n",
    "녕\n",
    "!\n",
    "```\n"
   ]
  },
  {
   "cell_type": "code",
   "execution_count": 42,
   "metadata": {},
   "outputs": [
    {
     "name": "stdout",
     "output_type": "stream",
     "text": [
      "입력을 하세요: asdfkur\n",
      "a\n",
      "s\n",
      "d\n",
      "f\n",
      "k\n",
      "u\n",
      "r\n"
     ]
    }
   ],
   "source": [
    "input_text = input('입력을 하세요: ')     #type(a) =='str' : seq\n",
    "for char in input_text:\n",
    "    print(char)\n",
    "\n",
    "    "
   ]
  },
  {
   "cell_type": "code",
   "execution_count": 68,
   "metadata": {},
   "outputs": [
    {
     "data": {
      "text/plain": [
       "0.30000000000000004"
      ]
     },
     "execution_count": 68,
     "metadata": {},
     "output_type": "execute_result"
    }
   ],
   "source": [
    "a = 0.1 * 3\n",
    "b = 0.3\n",
    "\n",
    "round(a,2)\n",
    "\n",
    "a\n"
   ]
  },
  {
   "cell_type": "markdown",
   "metadata": {},
   "source": [
    "###  `for`문과 `if`문 작성하기\n",
    "\n",
    "> 반복문과 조건문만 활용하여 1~30까지 숫자 중에 홀수만 담긴 리스트를 만드세요.\n",
    "\n",
    "list에서 값 추가는 `.append(value)`로 합니다.\n",
    "\n",
    "---\n",
    "```\n",
    "예시 출력)\n",
    "[1, 3, 5, 7, 9, 11, 13, 15, 17, 19, 21, 23, 25, 27, 29]\n",
    "```"
   ]
  },
  {
   "cell_type": "code",
   "execution_count": 56,
   "metadata": {},
   "outputs": [
    {
     "name": "stdout",
     "output_type": "stream",
     "text": [
      "[1, 3, 5, 7, 9, 11, 13, 15, 17, 19, 21, 23, 25, 27, 29]\n",
      "[0, 2, 4, 6, 8, 10, 12, 14, 16, 18, 20, 22, 24, 26, 28, 30]\n"
     ]
    }
   ],
   "source": [
    "# 여기에 코드를 작성하세요.\n",
    "l = []\n",
    "l2 = []\n",
    "for num in range(0,31):\n",
    "    if num%2 == 1:\n",
    "        l.append(num)\n",
    "        num += 1\n",
    "\n",
    "for num2 in range(0,31):\n",
    "    if num2%2 == 0:\n",
    "        l2.append(num2)\n",
    "        num2+=1\n",
    "        \n",
    "print(l)\n",
    "print(l2)"
   ]
  },
  {
   "cell_type": "markdown",
   "metadata": {},
   "source": [
    "### index와 함께 `for`문 활용\n",
    "\n",
    "`enumerate()`를 활용하면, 추가적인 변수를 활용할 수 있습니다."
   ]
  },
  {
   "cell_type": "code",
   "execution_count": 3,
   "metadata": {},
   "outputs": [
    {
     "name": "stdout",
     "output_type": "stream",
     "text": [
      "0\n",
      "짜장면\n",
      "\n",
      "1\n",
      "초밥\n",
      "\n"
     ]
    }
   ],
   "source": [
    "# enumerate()를 활용해서 출력해봅시다.\n",
    "lunch = ['짜장면', '초밥']\n",
    "\n",
    "\n",
    "for index, menu in enumerate(lunch):\n",
    "    print(index)\n",
    "    print(menu)\n",
    "    print()\n",
    "\n",
    "#index, menu = 0, lunch[0]\n",
    "#print(menu)\n",
    "#index, menu = 1, lunch[1]\n",
    "#print(menu)\n",
    "    "
   ]
  },
  {
   "cell_type": "markdown",
   "metadata": {},
   "source": [
    "* `enumerate()`는 [파이썬 표준 라이브러리의 내장함수](https://docs.python.org/ko/3.6/library/functions.html) 중 하나이며, 다음과 같이 구성되어 있다.\n",
    "\n",
    "<center>\n",
    "    <img src=\"./images/02/enumerate.png\", alt=\"enumerate\">\n",
    "</center>"
   ]
  },
  {
   "cell_type": "code",
   "execution_count": 8,
   "metadata": {},
   "outputs": [
    {
     "name": "stdout",
     "output_type": "stream",
     "text": [
      "<enumerate object at 0x000001E997073120>\n",
      "0\n",
      "서울\n",
      "1\n",
      "대전\n",
      "2\n",
      "광주\n",
      "3\n",
      "구미\n"
     ]
    }
   ],
   "source": [
    "# enumerate() 함수를 사용하였을 때 어떻게 표현이 되는지 확인해봅시다.\n",
    "ssafy = ['서울', '대전', '광주', '구미']\n",
    "\n",
    "enumerate(ssafy)\n",
    "print(enumerate(ssafy))\n",
    "list(enumerate(ssafy))\n",
    "\n",
    "for idx, location in enumerate(ssafy):\n",
    "    print(idx)\n",
    "    print(location)"
   ]
  },
  {
   "cell_type": "code",
   "execution_count": 15,
   "metadata": {},
   "outputs": [
    {
     "name": "stdout",
     "output_type": "stream",
     "text": [
      "0번째 지역은 서울입니다.\n",
      "서울\n",
      "1번째 지역은 대전입니다.\n",
      "대전\n",
      "2번째 지역은 광주입니다.\n",
      "광주\n",
      "3번째 지역은 구미입니다.\n",
      "구미\n"
     ]
    }
   ],
   "source": [
    "# 숫자를 1부터 카운트 할 수도 있습니다.\n",
    "\n",
    "list(enumerate(ssafy, start = 1))\n",
    "for order, location in enumerate(ssafy):\n",
    "    print(f'{order}번째 지역은 {location}입니다.')\n",
    "    \n"
   ]
  },
  {
   "cell_type": "markdown",
   "metadata": {},
   "source": [
    "### dictionary 반복문 활용\n",
    "\n",
    "기본적으로 dictionary를 `for`문을 시행시키면 다음과 같이 시행됩니다."
   ]
  },
  {
   "cell_type": "code",
   "execution_count": 25,
   "metadata": {},
   "outputs": [
    {
     "name": "stdout",
     "output_type": "stream",
     "text": [
      "teacher\n",
      "Partner\n",
      "me\n"
     ]
    }
   ],
   "source": [
    "# 옆자리 친구의 이름을 활용하여 dictionary를 만들어봅시다.\n",
    "\n",
    "classroom = {'teacher': 'Yu', 'Partner' : 'Shin', 'me' : 'Park'}\n",
    "\n",
    "for key in classroom:\n",
    "    print(key)\n"
   ]
  },
  {
   "cell_type": "markdown",
   "metadata": {},
   "source": [
    "dictionary의 `key`를 출력함으로써 `value`에도 접근할 수 있기 때문입니다.\n",
    "\n",
    "따라서 dictionary의 value를 출력하기 위해서는 아래와 같이 작성합니다."
   ]
  },
  {
   "cell_type": "code",
   "execution_count": 29,
   "metadata": {},
   "outputs": [
    {
     "name": "stdout",
     "output_type": "stream",
     "text": [
      "Yu\n",
      "Shin\n",
      "Park\n",
      "Yu\n",
      "Shin\n",
      "Park\n",
      "teacher\n",
      "Partner\n",
      "me\n"
     ]
    }
   ],
   "source": [
    "# value를 출력해봅시다.\n",
    "\n",
    "for key in classroom:\n",
    "    print(classroom[key])\n",
    "    \n",
    "for role in classroom.values():\n",
    "    print(role)\n",
    "for key in classroom.keys():\n",
    "    print(key)"
   ]
  },
  {
   "cell_type": "markdown",
   "metadata": {},
   "source": [
    "* dictionary에서 `for` 활용하는 4가지 방법\n",
    "\n",
    "```python\n",
    "# 0. dictionary (key 반복)\n",
    "for key in dict:\n",
    "    print(key)\n",
    "\n",
    "# 1. key 반복\n",
    "for key in dict.keys():\n",
    "    print(key)\n",
    "    \n",
    "# 2. value 반복    \n",
    "for val in dict.values():\n",
    "    print(val)\n",
    "\n",
    "# 3. key와 value 반복\n",
    "for key, val in dict.items():\n",
    "    print(key, val)\n",
    "\n",
    "```"
   ]
  },
  {
   "cell_type": "markdown",
   "metadata": {},
   "source": [
    "### dictionary `for`문 작성하기\n",
    "\n",
    "> 4가지 반복문을 활용해보고 출력되는 결과를 확인해보세요.\n",
    "\n",
    "```\n",
    "blood_type = {\"A\": 4, \"B\": 2, \"AB\": 3, \"O\":1}\n",
    "\n",
    "```\n",
    "\n",
    "- 0번 : 혈액형의 종류는 다음과 같습니다 =>  A B AB O\n",
    "- 1번 : 혈액형의 종류는 다음과 같습니다 =>  A B AB O\n",
    "- 2번 : 총인원은 10명입니다.\n",
    "- 3번 : A형은 4명입니다. B형은 2명입니다.\n"
   ]
  },
  {
   "cell_type": "code",
   "execution_count": 51,
   "metadata": {},
   "outputs": [],
   "source": [
    "# 여기에 코드를 작성하세요.\n",
    "blood_type = {\"A\": 4, \"B\": 2, \"AB\": 3, \"O\":1}\n"
   ]
  },
  {
   "cell_type": "code",
   "execution_count": 32,
   "metadata": {},
   "outputs": [
    {
     "name": "stdout",
     "output_type": "stream",
     "text": [
      "A\n",
      "B\n",
      "AB\n",
      "O\n"
     ]
    }
   ],
   "source": [
    "for blood in blood_type:\n",
    "    print(blood)"
   ]
  },
  {
   "cell_type": "code",
   "execution_count": 53,
   "metadata": {},
   "outputs": [
    {
     "name": "stdout",
     "output_type": "stream",
     "text": [
      "혈액형 종류 =>A B AB O \n"
     ]
    }
   ],
   "source": [
    "string = '혈액형 종류 =>'\n",
    "for b_type in blood_type:\n",
    "    string += f'{b_type} '\n",
    "    \n",
    "print(string)\n",
    "for key in blood_type.keys():\n",
    "    "
   ]
  },
  {
   "cell_type": "code",
   "execution_count": 54,
   "metadata": {},
   "outputs": [
    {
     "name": "stdout",
     "output_type": "stream",
     "text": [
      "혈액형 종류 => A B AB O "
     ]
    }
   ],
   "source": [
    "print('혈액형 종류 =>', end = ' ')\n",
    "for key in blood_type.keys():\n",
    "    print(key, end = ' ')"
   ]
  },
  {
   "cell_type": "code",
   "execution_count": 35,
   "metadata": {},
   "outputs": [
    {
     "name": "stdout",
     "output_type": "stream",
     "text": [
      "A \n",
      "B \n",
      "AB \n",
      "O \n"
     ]
    }
   ],
   "source": [
    "for blood_1 in blood_type.keys():\n",
    "    print(blood_1, '')"
   ]
  },
  {
   "cell_type": "code",
   "execution_count": null,
   "metadata": {},
   "outputs": [],
   "source": []
  },
  {
   "cell_type": "code",
   "execution_count": 41,
   "metadata": {},
   "outputs": [
    {
     "name": "stdout",
     "output_type": "stream",
     "text": [
      "총인원은 10입니다.\n"
     ]
    }
   ],
   "source": [
    "num = int()  #int 지정과 0으로 지정의 차이\n",
    "for total in blood_type.values():\n",
    "    num += total\n",
    "print(f'총인원은 {num}입니다.')\n",
    "    \n",
    "\n",
    "    "
   ]
  },
  {
   "cell_type": "code",
   "execution_count": 49,
   "metadata": {},
   "outputs": [
    {
     "ename": "ValueError",
     "evalue": "too many values to unpack (expected 2)",
     "output_type": "error",
     "traceback": [
      "\u001b[1;31m---------------------------------------------------------------------------\u001b[0m",
      "\u001b[1;31mValueError\u001b[0m                                Traceback (most recent call last)",
      "\u001b[1;32m<ipython-input-49-c7679f9a20a5>\u001b[0m in \u001b[0;36m<module>\u001b[1;34m\u001b[0m\n\u001b[0;32m      1\u001b[0m \u001b[0mblood_type\u001b[0m \u001b[1;33m=\u001b[0m \u001b[1;33m{\u001b[0m\u001b[1;34m\"A\"\u001b[0m\u001b[1;33m:\u001b[0m \u001b[1;36m4\u001b[0m\u001b[1;33m,\u001b[0m \u001b[1;34m\"B\"\u001b[0m\u001b[1;33m:\u001b[0m \u001b[1;36m2\u001b[0m\u001b[1;33m,\u001b[0m \u001b[1;34m\"AB\"\u001b[0m\u001b[1;33m:\u001b[0m \u001b[1;36m3\u001b[0m\u001b[1;33m,\u001b[0m \u001b[1;34m\"O\"\u001b[0m\u001b[1;33m:\u001b[0m\u001b[1;36m1\u001b[0m\u001b[1;33m}\u001b[0m\u001b[1;33m\u001b[0m\u001b[1;33m\u001b[0m\u001b[0m\n\u001b[0;32m      2\u001b[0m \u001b[1;33m\u001b[0m\u001b[0m\n\u001b[1;32m----> 3\u001b[1;33m \u001b[0mwhich\u001b[0m\u001b[1;33m,\u001b[0m \u001b[0mpeople_blood\u001b[0m \u001b[1;33m=\u001b[0m \u001b[0menumerate\u001b[0m\u001b[1;33m(\u001b[0m\u001b[0mblood_type\u001b[0m\u001b[1;33m)\u001b[0m\u001b[1;33m\u001b[0m\u001b[1;33m\u001b[0m\u001b[0m\n\u001b[0m\u001b[0;32m      4\u001b[0m \u001b[0mprint\u001b[0m\u001b[1;33m(\u001b[0m\u001b[1;34mf'{which[0]}형은 {people_blood[0]}명입니다. {which[1]}형은 {blood[1]}명입니다.'\u001b[0m\u001b[1;33m)\u001b[0m\u001b[1;33m\u001b[0m\u001b[1;33m\u001b[0m\u001b[0m\n\u001b[0;32m      5\u001b[0m \u001b[1;33m\u001b[0m\u001b[0m\n",
      "\u001b[1;31mValueError\u001b[0m: too many values to unpack (expected 2)"
     ]
    }
   ],
   "source": [
    "blood_type = {\"A\": 4, \"B\": 2, \"AB\": 3, \"O\":1}\n",
    "\n",
    "which, people_blood = enumerate(blood_type)\n",
    "print(f'{which[0]}형은 {people_blood[0]}명입니다. {which[1]}형은 {blood[1]}명입니다.')\n",
    "    "
   ]
  },
  {
   "cell_type": "code",
   "execution_count": 56,
   "metadata": {},
   "outputs": [
    {
     "name": "stdout",
     "output_type": "stream",
     "text": [
      "A형은 4명입니다. B형은 2명입니다. AB형은 3명입니다. O형은 1명입니다. "
     ]
    },
    {
     "ename": "IndexError",
     "evalue": "string index out of range",
     "output_type": "error",
     "traceback": [
      "\u001b[1;31m---------------------------------------------------------------------------\u001b[0m",
      "\u001b[1;31mIndexError\u001b[0m                                Traceback (most recent call last)",
      "\u001b[1;32m<ipython-input-56-cf8ef0605391>\u001b[0m in \u001b[0;36m<module>\u001b[1;34m\u001b[0m\n\u001b[0;32m      1\u001b[0m \u001b[1;32mfor\u001b[0m \u001b[0mkey\u001b[0m\u001b[1;33m,\u001b[0m \u001b[0mvalue\u001b[0m \u001b[1;32min\u001b[0m \u001b[0mblood_type\u001b[0m\u001b[1;33m.\u001b[0m\u001b[0mitems\u001b[0m\u001b[1;33m(\u001b[0m\u001b[1;33m)\u001b[0m\u001b[1;33m:\u001b[0m\u001b[1;33m\u001b[0m\u001b[1;33m\u001b[0m\u001b[0m\n\u001b[0;32m      2\u001b[0m     \u001b[0mprint\u001b[0m\u001b[1;33m(\u001b[0m\u001b[1;34mf'{key}형은 {value}명입니다.'\u001b[0m\u001b[1;33m,\u001b[0m \u001b[0mend\u001b[0m \u001b[1;33m=\u001b[0m \u001b[1;34m' '\u001b[0m\u001b[1;33m)\u001b[0m\u001b[1;33m\u001b[0m\u001b[1;33m\u001b[0m\u001b[0m\n\u001b[1;32m----> 3\u001b[1;33m \u001b[0mprint\u001b[0m\u001b[1;33m(\u001b[0m\u001b[1;34mf'{key[1]}'\u001b[0m\u001b[1;33m)\u001b[0m\u001b[1;33m\u001b[0m\u001b[1;33m\u001b[0m\u001b[0m\n\u001b[0m",
      "\u001b[1;31mIndexError\u001b[0m: string index out of range"
     ]
    }
   ],
   "source": [
    "for key, value in blood_type.items():\n",
    "    print(f'{key}형은 {value}명입니다.', end = ' ')\n"
   ]
  },
  {
   "cell_type": "markdown",
   "metadata": {},
   "source": [
    "## `break`, `continue`, `else`\n",
    "\n",
    "### `break`\n",
    "\n",
    "`break`문은 반복문을 종료하는 표현입니다. "
   ]
  },
  {
   "cell_type": "code",
   "execution_count": 61,
   "metadata": {},
   "outputs": [
    {
     "name": "stdout",
     "output_type": "stream",
     "text": [
      "1부터 10까지 중에서 하나를 생각하세요. 해당 숫자가 나오면, Y/N\n",
      "i 0\n",
      "0가 맞나요?: n\n",
      ":(\n",
      "i 1\n",
      "1가 맞나요?: n\n",
      ":(\n",
      "i 2\n",
      "2가 맞나요?: Y\n",
      "Yeah\n",
      "i 3\n",
      "i 4\n",
      "i 5\n",
      "i 6\n",
      "i 7\n",
      "i 8\n",
      "i 9\n"
     ]
    }
   ],
   "source": [
    "# break 문을 활용해봅시다.\n",
    "\n",
    "print('1부터 10까지 중에서 하나를 생각하세요. 해당 숫자가 나오면, Y/N')\n",
    "\n",
    "flag = False\n",
    "\n",
    "for i in range(10):\n",
    "    print('i', i)\n",
    "    if flag == False:\n",
    "        answer = input(f'{i}가 맞나요?: ')\n",
    "        \n",
    "    \n",
    "        if answer == 'Y':\n",
    "            print('Yeah')\n",
    "            flag = True\n",
    "        else:\n",
    "            print(':(')\n",
    "    \n",
    "    "
   ]
  },
  {
   "cell_type": "code",
   "execution_count": 62,
   "metadata": {},
   "outputs": [
    {
     "name": "stdout",
     "output_type": "stream",
     "text": [
      "i 1\n",
      "1가 맞나요?: n\n",
      "i 2\n",
      "2가 맞나요?: n\n",
      "i 3\n",
      "3가 맞나요?: Y\n",
      "Yeah\n"
     ]
    }
   ],
   "source": [
    "for i in range(1, 11):\n",
    "    print('i', i)\n",
    "    answer = input(f'{i}가 맞나요?: ')\n",
    "    if answer == 'Y':\n",
    "        print('Yeah')\n",
    "        break"
   ]
  },
  {
   "cell_type": "markdown",
   "metadata": {},
   "source": [
    "### `break` 작성하기\n",
    "\n",
    "> 조건문과 반복문, break를 활용하여 리스트에서 쌀이 나왔을때 for문을 멈추는 코드를 작성하세요\n",
    "\n",
    "\n",
    "```python\n",
    "rice = [\"보리\", \"보리\", \"보리\", \"쌀\", \"보리\"]\n",
    "```\n",
    "\n",
    "---\n",
    "```\n",
    "예시 출력)\n",
    "보리\n",
    "보리\n",
    "보리\n",
    "쌀\n",
    "잡았다!\n",
    "```\n"
   ]
  },
  {
   "cell_type": "code",
   "execution_count": 75,
   "metadata": {},
   "outputs": [
    {
     "name": "stdout",
     "output_type": "stream",
     "text": [
      "보리\n",
      "보리\n",
      "보리\n",
      "쌀\n",
      "잡았다!\n"
     ]
    }
   ],
   "source": [
    "rice = [\"보리\", \"보리\", \"보리\", \"쌀\", \"보리\"]\n",
    "\n",
    "for grain in rice:\n",
    "    print(grain)\n",
    "    if grain == '쌀':\n",
    "        print('잡았다!')\n",
    "        break\n",
    "\n",
    "# 여기에 코드를 작성하세요."
   ]
  },
  {
   "cell_type": "markdown",
   "metadata": {},
   "source": [
    "### `continue` \n",
    "\n",
    "`continue`문은 continue 이후의 코드를 수행하지 않고 다음 요소를 선택해 반복을 계속 수행합니다."
   ]
  },
  {
   "cell_type": "code",
   "execution_count": 77,
   "metadata": {},
   "outputs": [
    {
     "name": "stdout",
     "output_type": "stream",
     "text": [
      "1는 홀수야\n",
      "3는 홀수야\n",
      "5는 홀수야\n",
      "7는 홀수야\n",
      "9는 홀수야\n",
      "1는 홀수야\n",
      "3는 홀수야\n",
      "5는 홀수야\n",
      "7는 홀수야\n",
      "9는 홀수야\n"
     ]
    }
   ],
   "source": [
    "# contirue 문을 활용해봅시다.\n",
    "\n",
    "for i in range(1,10):\n",
    "    if i % 2 == 1:\n",
    "        print(f'{i}는 홀수야')\n",
    "        \n",
    "for j in range(1,10):\n",
    "    if j%2 == 0:\n",
    "        continue\n",
    "    print(f'{j}는 홀수야')"
   ]
  },
  {
   "cell_type": "markdown",
   "metadata": {},
   "source": [
    "### `continue` 작성하기\n",
    "\n",
    "> 나이가 입력된 리스트가 있을때,\n",
    "> 조건문과 반복문, continue를 활용하여 20살 이상일때만 \"성인입니다\"라는 출력을 하는 코드를 작성하세요\n",
    "\n",
    "\n",
    "```python\n",
    "age = [10, 23, 8, 30, 25, 31]\n",
    "```\n",
    "\n",
    "---\n",
    "```\n",
    "예시 출력)\n",
    "성인입니다.\n",
    "성인입니다.\n",
    "성인입니다.\n",
    "성인입니다.\n",
    "```"
   ]
  },
  {
   "cell_type": "code",
   "execution_count": 79,
   "metadata": {},
   "outputs": [
    {
     "name": "stdout",
     "output_type": "stream",
     "text": [
      "성인입니다. 23\n",
      "성인입니다. 30\n",
      "성인입니다. 25\n",
      "성인입니다. 31\n"
     ]
    }
   ],
   "source": [
    "# 여기에 코드를 작성하세요.\n",
    "ages = [10, 23, 8, 30, 25, 31]\n",
    "\n",
    "for age in ages:\n",
    "    if age < 20:\n",
    "        continue\n",
    "    print('성인입니다.', age)\n"
   ]
  },
  {
   "cell_type": "markdown",
   "metadata": {},
   "source": [
    "### `else`\n",
    "\n",
    "`else`문은 끝까지 반복문을 시행한 이후에 실행됩니다.\n",
    "\n",
    "(`break`를 통해 중간에 종료되지 않은 경우만 실행)"
   ]
  },
  {
   "cell_type": "code",
   "execution_count": 80,
   "metadata": {
    "scrolled": true
   },
   "outputs": [
    {
     "name": "stdout",
     "output_type": "stream",
     "text": [
      "0\n",
      "1\n",
      "2\n",
      "2\n"
     ]
    }
   ],
   "source": [
    "# break가 안되는 상황을 만들어봅시다.\n",
    "\n",
    "for i in range(3):\n",
    "    print(i)\n",
    "else:\n",
    "    print(i)\n",
    "\n"
   ]
  },
  {
   "cell_type": "code",
   "execution_count": 82,
   "metadata": {
    "scrolled": true
   },
   "outputs": [
    {
     "name": "stdout",
     "output_type": "stream",
     "text": [
      "0 km/h\n",
      "1 km/h\n",
      "2 km/h\n",
      "3 km/h\n",
      "4 km/h\n",
      "5 km/h\n",
      "6 km/h\n",
      "7 km/h\n",
      "8 km/h\n",
      "9 km/h\n",
      "10 km/h\n",
      "11 km/h\n",
      "12 km/h\n",
      "13 km/h\n",
      "14 km/h\n",
      "15 km/h\n",
      "16 km/h\n",
      "17 km/h\n",
      "18 km/h\n",
      "19 km/h\n",
      "죽음\n"
     ]
    }
   ],
   "source": [
    "# break가 안되는 상황을 만들어봅시다.\n",
    "\n",
    "for speed in range(20):\n",
    "    print(speed, 'km/h')\n",
    "    \n",
    "    if speed > 30:\n",
    "        print('Break')\n",
    "        break\n",
    "else:\n",
    "    print('죽음')\n"
   ]
  },
  {
   "cell_type": "code",
   "execution_count": null,
   "metadata": {},
   "outputs": [],
   "source": [
    "# break가 되는 상황을 만들어봅시다."
   ]
  },
  {
   "cell_type": "markdown",
   "metadata": {},
   "source": [
    "### `else`문 작성하기\n",
    "\n",
    "> 조건문과 반복문, break, else 를 통해서 아래의 코드와 동일한 코드를 작성하세요.\n",
    "> \n",
    "> (3이 있을 경우 True를 print하고, 아닐 경우 False를 print 합니다.)\n",
    "\n",
    "\n",
    "```python\n",
    "numbers = [1, 5, 10]\n",
    "print(3 in numbers)\n",
    "```\n",
    "\n",
    "---\n",
    "```\n",
    "예시 출력)\n",
    "False\n",
    "```"
   ]
  },
  {
   "cell_type": "code",
   "execution_count": 102,
   "metadata": {},
   "outputs": [
    {
     "name": "stdout",
     "output_type": "stream",
     "text": [
      "1\n",
      "5\n",
      "10\n",
      "3\n",
      "True\n"
     ]
    }
   ],
   "source": [
    "numbers = [1, 5, 10, 3,  10]\n",
    "# 여기에 코드를 작성하세요.\n",
    "\n",
    "for i in numbers:\n",
    "    print(i)\n",
    "    if i == 3:\n",
    "        print(True)\n",
    "        break\n",
    "else:\n",
    "    print('다 돌았는데 없네. False')\n",
    "\n",
    "    "
   ]
  },
  {
   "cell_type": "code",
   "execution_count": null,
   "metadata": {},
   "outputs": [],
   "source": []
  }
 ],
 "metadata": {
  "kernelspec": {
   "display_name": "Python 3",
   "language": "python",
   "name": "python3"
  },
  "language_info": {
   "codemirror_mode": {
    "name": "ipython",
    "version": 3
   },
   "file_extension": ".py",
   "mimetype": "text/x-python",
   "name": "python",
   "nbconvert_exporter": "python",
   "pygments_lexer": "ipython3",
   "version": "3.7.3"
  },
  "toc": {
   "base_numbering": 1,
   "nav_menu": {},
   "number_sections": true,
   "sideBar": true,
   "skip_h1_title": false,
   "title_cell": "Table of Contents",
   "title_sidebar": "Contents",
   "toc_cell": false,
   "toc_position": {},
   "toc_section_display": true,
   "toc_window_display": false
  }
 },
 "nbformat": 4,
 "nbformat_minor": 2
}
