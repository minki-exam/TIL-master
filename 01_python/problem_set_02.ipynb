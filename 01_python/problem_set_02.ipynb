{
 "cells": [
  {
   "cell_type": "markdown",
   "metadata": {},
   "source": [
    "### 1. 이상한 덧셈\n",
    "> 숫자로 구성된 리스트에서 양의 정수의 합을 구하는 함수, `positive_sum` 을 만들어 보아요\n",
    "\n",
    "예시)\n",
    "```python\n",
    "positive_sum([1, -10, 2]) # 3\n",
    "positive_sum([-1, -2, -3, -4]) # 0\n",
    "```"
   ]
  },
  {
   "cell_type": "code",
   "execution_count": 16,
   "metadata": {},
   "outputs": [
    {
     "name": "stdout",
     "output_type": "stream",
     "text": [
      "True\n",
      "True\n"
     ]
    }
   ],
   "source": [
    "# 이상한 덧셈\n",
    "# def positive_sum(x):\n",
    "#     result = 0\n",
    "#     for i in x:\n",
    "#         if i > 0:\n",
    "#             result += i\n",
    "#     return result\n",
    "# positive_sum([1,-10,2])\n",
    "def positive_sum(numbers):\n",
    "    result = 0\n",
    "    \n",
    "    for num in numbers:\n",
    "        if num > 0:\n",
    "            result += num\n",
    "    return result\n",
    "\n",
    "\n",
    "\n",
    "\n",
    "print(positive_sum([1, -10, 2]) == 3)\n",
    "print(positive_sum([-1, -2, -3, -4]) == 0)\n",
    "\n"
   ]
  },
  {
   "cell_type": "code",
   "execution_count": 27,
   "metadata": {},
   "outputs": [
    {
     "name": "stdout",
     "output_type": "stream",
     "text": [
      "[1, 2, 5] [1, 2, 5]\n"
     ]
    }
   ],
   "source": [
    "ns = [-1,-2,1,2,-3,5]\n",
    "lc = [n for n in ns if n > 0]\n",
    "\n",
    "def is_pos(n):\n",
    "    return n>0\n",
    "\n",
    "fil = list(filter(is_pos,ns))\n",
    "\n",
    "\n",
    "print(lc,fil)"
   ]
  },
  {
   "cell_type": "code",
   "execution_count": 34,
   "metadata": {
    "scrolled": true
   },
   "outputs": [
    {
     "ename": "SyntaxError",
     "evalue": "invalid syntax (<ipython-input-34-9eb5d956ad7f>, line 14)",
     "output_type": "error",
     "traceback": [
      "\u001b[1;36m  File \u001b[1;32m\"<ipython-input-34-9eb5d956ad7f>\"\u001b[1;36m, line \u001b[1;32m14\u001b[0m\n\u001b[1;33m    return sum(filter(lambda n: n>0 numbers,numbers))\u001b[0m\n\u001b[1;37m                                          ^\u001b[0m\n\u001b[1;31mSyntaxError\u001b[0m\u001b[1;31m:\u001b[0m invalid syntax\n"
     ]
    }
   ],
   "source": [
    "\n",
    "\n",
    "def positive_sum_lc(numbers):\n",
    "    return sum([n for n in numbers if n > 0])\n",
    "    \n",
    "    \n",
    "    pass\n",
    "\n",
    "\n",
    "def positive_sum_filter(numbers):\n",
    "    def is_pos(n):\n",
    "        return n>0\n",
    "\n",
    "    fil = list(filter(is_pos,numbers))\n",
    "    #return sum(list(filter(is_pos,numbers)))\n",
    "    return sum(filter(lambda n: n>0 numbers,numbers))\n",
    "positive_sum_filter([1,2,3,-1])\n",
    "\n",
    "\n",
    "\n"
   ]
  },
  {
   "cell_type": "markdown",
   "metadata": {},
   "source": [
    "### 2. 문자열 탐색\n",
    "> 문자열 요소로만 이루어진 리스트를 넣었을 때, 문자열의 길이가 2 이상이고 주어진 문자열의 첫 번째와 마지막 문자가 같은 문자열의 수를 세는 함수 `start_end` 를 작성하세요\n",
    "\n",
    "\n",
    "예시)\n",
    "```python\n",
    "keywords = ['level', 'asdwe', 's', 'abadsfa', 'q1q']\n",
    "start_end(keywords) # 3\n",
    "```"
   ]
  },
  {
   "cell_type": "code",
   "execution_count": 35,
   "metadata": {},
   "outputs": [
    {
     "data": {
      "text/plain": [
       "3"
      ]
     },
     "execution_count": 35,
     "metadata": {},
     "output_type": "execute_result"
    }
   ],
   "source": [
    "# 문자열 탐색\n",
    "def start_end(words):\n",
    "    count = 0\n",
    "    for word in words:\n",
    "        if len(word)>2 and word[0] == word[-1]:\n",
    "            count += 1\n",
    "    \n",
    "    return count\n",
    "keywords = ['level', 'asdwe', 's', 'abadsfa', 'q1q']\n",
    "\n",
    "start_end(keywords)\n",
    "            \n",
    "            \n"
   ]
  },
  {
   "cell_type": "markdown",
   "metadata": {},
   "source": [
    "### 3. Collatz\n",
    "> Collatz 추측: 어떤 자연수 n 이던지, 다음과 같은 작업을 반복하면 1로 만들수 있다.\n",
    "1. n이 짝수라면 2로 나눈다.\n",
    "2. n이 홀수라면 3을 곱하고 1을 더한다.\n",
    "3. 결과로 나온 수에 1 / 2 의 작업을 1이 될때까지 반복한다.\n",
    "\n",
    "> 예를 들어 n 이 6이면, 6 => 3 => 10 => 5 => 16 => 8 => 4 => 2 => 1 이 되며 8번(=> 갯수!)만에 1이 됩니다. 자연수 n이 들어왔을 때, 몇 번의 작업만에 1이 되는 지를 `return` 하는 함수 `collatz()` 를 완성하세요\n",
    "\n",
    "> 단! 500 번을 넘어가도 1이 되지 않는다면, -1을 `return` 할게요!\n",
    "\n",
    "예시)\n",
    "```python\n",
    "collatz(6) # 8\n",
    "collatz(16) # 4\n",
    "collatz(626331) # -1\n",
    "```"
   ]
  },
  {
   "cell_type": "code",
   "execution_count": 46,
   "metadata": {},
   "outputs": [
    {
     "data": {
      "text/plain": [
       "-1"
      ]
     },
     "execution_count": 46,
     "metadata": {},
     "output_type": "execute_result"
    }
   ],
   "source": [
    "c\n",
    "\n",
    "def collatz(num):\n",
    "    count = 0\n",
    "    while num != 1:\n",
    "        if num % 2 == 0:\n",
    "            num = num/2\n",
    "        else:\n",
    "            num = num*3 + 1\n",
    "        \n",
    "        count += 1\n",
    "        if count == 500:\n",
    "            return -1\n",
    "    return count\n",
    "\n",
    "def collatz(num):\n",
    "    count = 0\n",
    "    for i in range(500):\n",
    "        if num % 2: # 홀수 bool(num%2) 홀수면 1 짝수면 0\n",
    "            num = num*3 + 1\n",
    "        else:\n",
    "            num /= 2\n",
    "        num = num*3 +1 if num%2 else num/2\n",
    "        if num == 1:\n",
    "            return i + 1\n",
    "    \n",
    "        else:\n",
    "             return -1\n",
    "   \n",
    "\n",
    "\n",
    "\n",
    "\n",
    "collatz(626331)"
   ]
  },
  {
   "cell_type": "code",
   "execution_count": null,
   "metadata": {},
   "outputs": [],
   "source": []
  }
 ],
 "metadata": {
  "kernelspec": {
   "display_name": "Python 3",
   "language": "python",
   "name": "python3"
  },
  "language_info": {
   "codemirror_mode": {
    "name": "ipython",
    "version": 3
   },
   "file_extension": ".py",
   "mimetype": "text/x-python",
   "name": "python",
   "nbconvert_exporter": "python",
   "pygments_lexer": "ipython3",
   "version": "3.7.3"
  },
  "toc": {
   "base_numbering": 1,
   "nav_menu": {},
   "number_sections": true,
   "sideBar": true,
   "skip_h1_title": false,
   "title_cell": "Table of Contents",
   "title_sidebar": "Contents",
   "toc_cell": false,
   "toc_position": {},
   "toc_section_display": true,
   "toc_window_display": false
  }
 },
 "nbformat": 4,
 "nbformat_minor": 2
}
