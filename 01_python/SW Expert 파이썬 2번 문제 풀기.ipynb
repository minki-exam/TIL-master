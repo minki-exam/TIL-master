{
 "cells": [
  {
   "cell_type": "code",
   "execution_count": null,
   "metadata": {},
   "outputs": [],
   "source": [
    "def add(x,y):\n",
    "    return x+y\n",
    "\n",
    "\n",
    "def sub(x, y):\n",
    "    return x - y\n",
    "    \n",
    "def mul(x,y):\n",
    "    return x*y\n",
    "\n",
    "def div(x,y):\n",
    "    try:\n",
    "        return x/y\n",
    "    except ZeroDivisionError:\n",
    "        return '0으로 나눌 수 없음'\n",
    "    \n"
   ]
  },
  {
   "cell_type": "code",
   "execution_count": null,
   "metadata": {},
   "outputs": [],
   "source": [
    "from calc import div\n"
   ]
  },
  {
   "cell_type": "code",
   "execution_count": null,
   "metadata": {},
   "outputs": [],
   "source": [
    "int('30')"
   ]
  },
  {
   "cell_type": "code",
   "execution_count": null,
   "metadata": {},
   "outputs": [],
   "source": []
  },
  {
   "cell_type": "code",
   "execution_count": null,
   "metadata": {},
   "outputs": [],
   "source": [
    "numbers = range(1,50)\n",
    "numbers[::2]\n"
   ]
  },
  {
   "cell_type": "code",
   "execution_count": null,
   "metadata": {},
   "outputs": [],
   "source": [
    "data = [1,2,3]\n",
    "data = data[:-1]\n",
    "data"
   ]
  },
  {
   "cell_type": "code",
   "execution_count": null,
   "metadata": {
    "scrolled": true
   },
   "outputs": [],
   "source": [
    "# 1번 학생의 총점은 170점이고, 평균은 85.0입니다.\n",
    "\n",
    "# 2번 학생의 총점은 160점이고, 평균은 80.0입니다.\n",
    "\n",
    "# 3번 학생의 총점은 190점이고, 평균은 95.0입니다.\n",
    "\n",
    "ls = [(90, 80), (85, 75),(90, 100)]\n",
    "print(ls[0][0])\n",
    "ls_1 = []\n",
    "a = 0\n",
    "for i in range(3):\n",
    "    for j in range(2):\n",
    "        a += ls[i][j]\n",
    "    ls_1.append(a)\n",
    "    ls_1.append(a/2)\n",
    "    a = 0\n",
    "\n",
    "\n",
    "print(f'1번 학생의 총점은 {ls_1[0]}이고, 평균은 {ls_1[1]}입니다.')\n",
    "print(f'2번 학생의 총점은 {ls_1[2]}이고, 평균은 {ls_1[3]}입니다.')\n",
    "print(f'3번 학생의 총점은 {ls_1[4]}이고, 평균은 {ls_1[5]}입니다.')\n",
    "\n"
   ]
  },
  {
   "cell_type": "code",
   "execution_count": null,
   "metadata": {},
   "outputs": [],
   "source": [
    "# 리스트 내포 기능을 이용해 다음 문장으로부터 모음('aeiou')을 제거하십시오.\n",
    " \n",
    "\n",
    "# 'Python is powerful... and fast; plays well with others; runs everywhere; is friendly & easy to learn; is Open.'\n",
    "\n",
    "words = 'Python is powerful... and fast; plays well with others; runs everywhere; is friendly & easy to learn; is Open.'\n",
    "vowels = 'aeiou'\n",
    "\n",
    "#word = [ls1 for ls1 in words if ls1 not in vowels ]\n",
    "word = []\n",
    "for ls1 in words:\n",
    "    if ls1 not in vowels:\n",
    "        word.append(ls1)\n",
    "\n",
    "print(''.join(word))\n",
    "\n"
   ]
  },
  {
   "cell_type": "code",
   "execution_count": null,
   "metadata": {},
   "outputs": [],
   "source": [
    "ex_list = [1,2,3,4,2,1,23]\n",
    "new = set(ex_list)\n",
    "list(new)"
   ]
  },
  {
   "cell_type": "code",
   "execution_count": null,
   "metadata": {},
   "outputs": [],
   "source": [
    "import random\n",
    "\n",
    "l = range(1,46)\n",
    "a = random.sample(l,6)\n",
    "print(sorted(a))"
   ]
  },
  {
   "cell_type": "code",
   "execution_count": null,
   "metadata": {},
   "outputs": [],
   "source": [
    "for i in range(4):\n",
    "    print(sorted(random.sample(l,6)))"
   ]
  },
  {
   "cell_type": "code",
   "execution_count": null,
   "metadata": {},
   "outputs": [],
   "source": [
    "ls = [12,48,25,3,5,79,6,5]\n",
    "\n",
    "ls.sort(reverse = True)\n",
    "print(ls)\n",
    "ls.sort()\n",
    "print(ls)"
   ]
  },
  {
   "cell_type": "code",
   "execution_count": null,
   "metadata": {},
   "outputs": [],
   "source": [
    "ls2 = ['a','asd','c']\n",
    "\n",
    "print(ls+ls2)\n",
    "\n"
   ]
  },
  {
   "cell_type": "code",
   "execution_count": null,
   "metadata": {},
   "outputs": [],
   "source": [
    "type(a)"
   ]
  },
  {
   "cell_type": "code",
   "execution_count": null,
   "metadata": {},
   "outputs": [],
   "source": [
    "ls1 = []\n",
    "ls2 = []\n",
    "for i in range(2,10):\n",
    "    for j in range(1,10):\n",
    "        \n",
    "        if not i*j%3 == 0 and not i*j%7 == 0:\n",
    "            ls1.append(i*j)\n",
    "   \n",
    "        \n",
    "    ls2.append(ls1)\n",
    "    ls1 = []\n",
    "print(ls2)"
   ]
  },
  {
   "cell_type": "code",
   "execution_count": null,
   "metadata": {},
   "outputs": [],
   "source": [
    "#6차시\n",
    "ls = []\n",
    "for i in range(5):\n",
    "    a = int(input())\n",
    "    ls.append(a)\n",
    "b = sum(ls)\n",
    "b = b/5\n",
    "\n",
    "print(f'입력된 값 {ls}의 평균은 {b}입니다.')"
   ]
  },
  {
   "cell_type": "code",
   "execution_count": null,
   "metadata": {},
   "outputs": [],
   "source": [
    "#7차시\n",
    "num = int(input())\n",
    "a = num\n",
    "ls = []\n",
    "while a != 0:\n",
    "    if num%a == 0:\n",
    "        ls.append(a)\n",
    "        a -= 1\n",
    "        \n",
    "    else:\n",
    "        a -= 1\n",
    "\n",
    "\n",
    "print(sorted(ls))\n",
    "        \n",
    "    \n",
    "\n",
    "\n",
    "\n"
   ]
  },
  {
   "cell_type": "code",
   "execution_count": null,
   "metadata": {
    "scrolled": true
   },
   "outputs": [],
   "source": [
    "#8차시\n",
    "num = int(input())\n",
    "a = int(num/2)\n",
    "ls = []\n",
    "while a != 0:\n",
    "    if num%a == 0:\n",
    "        ls.append(a)\n",
    "        a -= 1\n",
    "        \n",
    "    else:\n",
    "        a -= 1\n",
    "ls.append(num)\n",
    "\n",
    "print(sorted(ls))\n",
    "        "
   ]
  },
  {
   "cell_type": "code",
   "execution_count": null,
   "metadata": {},
   "outputs": [],
   "source": [
    "#9차시\n",
    "ls = [1, 3, 11, 15, 23, 28, 37, 52, 85, 100]\n",
    "ls2 = []\n",
    "for num in ls:\n",
    "    if num%2 ==0:\n",
    "        ls2.append(num)\n",
    "print(ls2)\n",
    "        \n"
   ]
  },
  {
   "cell_type": "code",
   "execution_count": null,
   "metadata": {},
   "outputs": [],
   "source": [
    "#10차시\n",
    "\n",
    "# def fib(n):\n",
    "#     if n == 1 or n == 0:\n",
    "#         return 1\n",
    "#     else:\n",
    "#         return fib(n-1) + fib(n-2)\n",
    "# fibo(5)\n",
    "\n",
    "# fibos = [1,1]\n",
    "def fib(n):\n",
    "    lst = [1,1]\n",
    "    for i in range(1,n):\n",
    "        lst.append(lst[i] + lst[i-1])\n",
    "    print(lst)\n",
    "fib(9)\n"
   ]
  },
  {
   "cell_type": "code",
   "execution_count": null,
   "metadata": {},
   "outputs": [],
   "source": [
    "#11차시\n",
    "# 리스트 내포 기능을 이용하여 1부터 20사이의 숫자 중 3의 배수가 아니거나\n",
    " \n",
    "\n",
    "# 5의 배수가 아닌 숫자들의 제곱 값으로 구성된 리스트 객체를 출력하는 프로그램을 작성하십시오.\n",
    "\n",
    "a = list(range(1,21))\n",
    "ls2 = []\n",
    "for num in a:\n",
    "    if not num%3 == 0 or not num%5 == 0:\n",
    "        ls2.append(num**2)\n",
    "print(ls2)\n",
    "\n",
    "\n"
   ]
  },
  {
   "cell_type": "code",
   "execution_count": null,
   "metadata": {},
   "outputs": [],
   "source": [
    "# #12차시\n",
    "# 사용자가 숫자를 입력하면 숫자의 각 자릿수의 합을 구해서 반환하는 프로그램을 작성하십시오.\n",
    " \n",
    "\n",
    "# 예를 들어 123을 입력하면 1 + 2 + 3 = 6의 결과를 반환합니다.\n",
    "\n",
    "senten = input()\n",
    "ls = list(senten)\n",
    "ls = map(int,ls)\n",
    "\n",
    "    \n",
    "sum(ls)\n",
    "\n",
    "\n",
    "  \n"
   ]
  },
  {
   "cell_type": "code",
   "execution_count": null,
   "metadata": {
    "scrolled": true
   },
   "outputs": [],
   "source": [
    "print(ord(\"개\"),ord('그'))\n",
    "dicBase = (('가','깋'), ('나','닣'), ('다','딯'), ('라','맇'), ('마','밓'), ('바','빟'), ('사','싷'),\n",
    "\n",
    "               ('아','잏'), ('자','짛'), ('차','칳'), ('카','킿'), ('타','팋'), ('파','핗'), ('하','힣'))\n",
    " \n",
    "\n",
    "inputWord = ['막', '부모님', '비용', '비행기', '원래', '처리', '최초', '꼴', '좀', '들다', '싶다',\n",
    "\n",
    "                   '수출', '계시다', '다', '뒤', '듣다', '함께', '아이', '무척', '보이다', '가지다', '그',\n",
    "\n",
    "                   '자르다', '데리다', '마리', '개', '정도', '옳다', '놀이','뜨겁다']"
   ]
  },
  {
   "cell_type": "code",
   "execution_count": null,
   "metadata": {},
   "outputs": [],
   "source": [
    "dicBase_ASC = []\n",
    "inputWord_ASC = []\n",
    "num2 = []\n",
    "for i in dicBase:\n",
    "    for j in [0,1]:\n",
    "        dicBase_ASC.append(ord(i[j]))\n",
    "print(dicBase_ASC)\n",
    "        \n",
    "for word in inputWord:\n",
    "    word = list(word)\n",
    "    print(word)\n",
    "    for a in word:\n",
    "        num2.append(ord(a))\n",
    "        print(num2)\n",
    "    inputWord_ASC.append(num2)\n",
    "# print(inputWord_ASC)"
   ]
  },
  {
   "cell_type": "code",
   "execution_count": null,
   "metadata": {},
   "outputs": [],
   "source": [
    "# 다음의 결과와 같이 사용자로부터 콤마(,)로 구분해 여러 원의 반지름을 입력 받아\n",
    " \n",
    "\n",
    "# 이들에 대한 원의 둘레를 계산해 출력하는 프로그램을 작성하십시오.\n",
    "\n",
    "import math\n",
    "pi = 3.14\n",
    "def area(*args):\n",
    "    for i in args:\n",
    "        i = int(i)\n",
    "        A = pi*i*2\n",
    "        print(A, end =' ')\n",
    "\n",
    "\n",
    "area(2, 3, 4, 5)\n",
    "\n"
   ]
  },
  {
   "cell_type": "code",
   "execution_count": null,
   "metadata": {},
   "outputs": [],
   "source": [
    "5*2*3.14"
   ]
  },
  {
   "cell_type": "code",
   "execution_count": null,
   "metadata": {},
   "outputs": [],
   "source": [
    "# 3,5\n",
    "# [[0, 0, 0, 0, 0], [0, 1, 2, 3, 4], [0, 2, 4, 6, 8]]\n",
    "\n",
    "a, b = input().split(',')\n",
    "a = int(a)\n",
    "b = int(b)\n",
    "\n",
    "ls2 = []\n",
    "for i in range(a):\n",
    "    ls1 = []\n",
    "    for j in range(b):\n",
    "        ls1.append(i*j)\n",
    "    ls2.append(ls1)\n",
    "\n",
    "print(ls2)\n",
    "    \n",
    "\n",
    "\n"
   ]
  },
  {
   "cell_type": "code",
   "execution_count": null,
   "metadata": {},
   "outputs": [],
   "source": [
    "ls = ['python', 'hello', 'world', 'hi']\n",
    "print(ls.sort())"
   ]
  },
  {
   "cell_type": "code",
   "execution_count": null,
   "metadata": {},
   "outputs": [],
   "source": [
    "dic_list1=[] \n",
    "for i in range(0,14): \n",
    "    dic_list=[inputWord[k]for k in range(0,30) if dicBase[i][0]<= inputWord[k] <= dicBase[i][1]] \n",
    "    dic_list1.append(dic_list) \n",
    "print(dic_list1) "
   ]
  },
  {
   "cell_type": "code",
   "execution_count": null,
   "metadata": {},
   "outputs": [],
   "source": [
    "python, hello, world, hi"
   ]
  },
  {
   "cell_type": "code",
   "execution_count": null,
   "metadata": {},
   "outputs": [],
   "source": [
    "for i in range(4):\n",
    "    "
   ]
  },
  {
   "cell_type": "code",
   "execution_count": null,
   "metadata": {},
   "outputs": [],
   "source": [
    "10개의 수를 입력 받아, 그 중에서 홀수만 더한 값을 출력하는 프로그램을 작성하라.\n",
    "\n",
    "\n",
    "[제약 사항]\n",
    "\n",
    "각 수는 0 이상 10000 이하의 정수이다.\n",
    "\n",
    "\n",
    "[입력]\n",
    "\n",
    "가장 첫 줄에는 테스트 케이스의 개수 T가 주어지고, 그 아래로 각 테스트 케이스가 주어진다.\n",
    "\n",
    "각 테스트 케이스의 첫 번째 줄에는 10개의 수가 주어진다.\n",
    "\n",
    "\n",
    "[출력]\n",
    "\n",
    "출력의 각 줄은 '#t'로 시작하고, 공백을 한 칸 둔 다음 정답을 출력한다.\n",
    "\n",
    "(t는 테스트 케이스의 번호를 의미하며 1부터 시작한다.)"
   ]
  },
  {
   "cell_type": "code",
   "execution_count": null,
   "metadata": {},
   "outputs": [],
   "source": [
    "for i in range(int(input())):\n",
    "    summ = 0\n",
    "    lst = list(map(int,input().split()))\n",
    "    for \n",
    "\n"
   ]
  },
  {
   "cell_type": "code",
   "execution_count": null,
   "metadata": {},
   "outputs": [],
   "source": [
    "for case in range(int(input())):\n",
    "    result = 0\n",
    "    lst = list(map(int, input().split()))\n",
    "    for i in lst:\n",
    "        if i % 2:\n",
    "            result += i\n",
    "    print('#{} {}'.format(case+1, result))"
   ]
  },
  {
   "cell_type": "code",
   "execution_count": null,
   "metadata": {},
   "outputs": [],
   "source": [
    "2개의 수를 입력 받아 크기를 비교하여 등호 또는 부등호를 출력하는 프로그램을 작성하라.\n",
    "\n",
    "\n",
    "[제약 사항]\n",
    "\n",
    "각 수는 0 이상 10000 이하의 정수이다.\n",
    "\n",
    "\n",
    "[입력]\n",
    "\n",
    "가장 첫 줄에는 테스트 케이스의 개수 T가 주어지고, 그 아래로 각 테스트 케이스가 주어진다.\n",
    "\n",
    "각 테스트 케이스의 첫 번째 줄에는 2개의 수가 주어진다.\n",
    "\n",
    "\n",
    "[출력]\n",
    "\n",
    "출력의 각 줄은 '#t'로 시작하고, 공백을 한 칸 둔 다음 정답을 출력한다.\n",
    "\n",
    "(t는 테스트 케이스의 번호를 의미하며 1부터 시작한다.)\n",
    "3\n",
    "3 8 \n",
    "7 7 \n",
    "369 123   \n",
    "#1 <\n",
    "#2 =\n",
    "#3 >"
   ]
  },
  {
   "cell_type": "code",
   "execution_count": null,
   "metadata": {},
   "outputs": [],
   "source": [
    "T = int(input())\n",
    "\n",
    "for i in range(T):\n",
    "    a,b = input().split(' ')\n",
    "    a, b = int(a), int(b)\n",
    "    if a>b:\n",
    "        print(f'#{i+1} >')\n",
    "    elif a<b:\n",
    "        print(f'#{i+1} <')\n",
    "    else:\n",
    "        print(f'#{i+1} =')\n"
   ]
  },
  {
   "cell_type": "code",
   "execution_count": null,
   "metadata": {},
   "outputs": [],
   "source": [
    "# T = int(input())\n",
    "\n",
    "# for i in range(T):\n",
    "#     dates = input()\n",
    "#     Month=int(''.join(dates[4:6]))\n",
    "#     Day = int(''.join(dates[6:8]))\n",
    "#     if Month!=0 and Month <13 and Day != 0:\n",
    "#         if Month in [1,3,5,7,10,12]:\n",
    "#             if Day <32:\n",
    "#                 print(f'#{i+1} {dates[:4]}/{dates[4:6]}/{dates[6:8]}')\n",
    "#         elif Month in [4,6,9,11]:\n",
    "#             if Day <31:\n",
    "#                 print(f'#{i+1} {dates[:4]}/{dates[4:6]}/{dates[6:8]}')\n",
    "#         elif Month == 2:\n",
    "#             if Day <29:\n",
    "#                 print(f'#{i+1} {dates[:4]}/{dates[4:6]}/{dates[6:8]}')\n",
    "#             else:\n",
    "#                 print(f'#{i+1} -1')\n",
    "        \n",
    "#     else:\n",
    "#         print(f'#{i+1} -1')\n",
    "        \n",
    "    \n",
    "\n",
    "for i in range(int(input())):\n",
    "    a =input()\n",
    "    if int(a[4:6]) < 13 and int(a[6:])>0 and int(a[6:]) <= [0,31, 28, 31, 30, 31, 30, 31, 31, 30, 31, 30, 31][int(a[4:6])] :\n",
    "        print('#{} {}/{}/{}'.format(i+1,a[:4],a[4:6],a[6:]))\n",
    "    else:\n",
    "        print('#{} -1'.format(i+1))\n",
    "\n"
   ]
  },
  {
   "cell_type": "code",
   "execution_count": null,
   "metadata": {},
   "outputs": [],
   "source": [
    "ls = ['a','b','v','b','r','t','y']\n",
    "\n",
    "''.join(ls[0:2])"
   ]
  },
  {
   "cell_type": "code",
   "execution_count": null,
   "metadata": {},
   "outputs": [],
   "source": [
    "ls[2:5]"
   ]
  },
  {
   "cell_type": "code",
   "execution_count": null,
   "metadata": {},
   "outputs": [],
   "source": [
    "a = 10\n",
    "if a > 3 and a>9 and a<15:\n",
    "    print(1)"
   ]
  },
  {
   "cell_type": "code",
   "execution_count": null,
   "metadata": {},
   "outputs": [],
   "source": [
    "ls = [1,2,3,4]\n"
   ]
  },
  {
   "cell_type": "code",
   "execution_count": null,
   "metadata": {},
   "outputs": [],
   "source": [
    "\n",
    "\n",
    "# 1\n",
    "\n",
    "# 1 1\n",
    "\n",
    "# 1 2 1\n",
    "\n",
    "# 1 3 3 1\n",
    "\n",
    "# 1 4 6 4 1\n",
    "\n",
    "# 1 5 10 10 5 1   \n",
    "\n",
    "line_number = int(input())\n",
    "\n",
    "\n",
    "def pascal(line_number)\n",
    "    N1 =[1]\n",
    "    N2 =[1,1]\n",
    "    if line_number == 1 or 2:\n",
    "        return print(f'{(N1)}\\n{(N2)}')\n",
    "    else:\n",
    "        for num in line_number:\n",
    "            N1[0] = 1\n",
    "            N2[0] = 1\n",
    "            N3 = []\n",
    "            for i in range(line_number): \n",
    "                if i == 0:\n",
    "                    N3.append(1)\n",
    "                elif i != line_number-1:\n",
    "                    b = N2[i] + N2[i-1]\n",
    "                    N3.append(b)\n",
    "                elif i == line_number-1:    \n",
    "                    N3.append(1)\n",
    "            print(N3)\n",
    "\n",
    "\n",
    "\n"
   ]
  },
  {
   "cell_type": "code",
   "execution_count": null,
   "metadata": {},
   "outputs": [],
   "source": [
    "# ls1 = [1,2,3]\n",
    "# ls2 = [0,1,2,4]\n",
    "# ls3 = []\n",
    "# for i in range(len(ls1)):\n",
    "#     ls3.append(ls1[i]+ls2[i])\n",
    "# ls3.append(1)\n",
    "# print(ls3)\n",
    "\n",
    "# 1\n",
    "\n",
    "# 1 1\n",
    "\n",
    "# 1 2 1\n",
    "\n",
    "# 1 3 3 1\n",
    "\n",
    "# 1 4 6 4 1\n",
    "\n",
    "# 1 5 10 10 5 1   \n",
    "\n",
    "import copy\n",
    "T = int(input())\n",
    "line_number = int(input())\n",
    "N1 = [1]\n",
    "N2 = []\n",
    "ans = ''\n",
    "print(f'#{T}')\n",
    "for num in range(line_number):\n",
    "    if num == 0:\n",
    "        print(1)\n",
    "    else:\n",
    "        N2 = copy.deepcopy(N1)\n",
    "        N2.insert(0,0)\n",
    "        N3 = []\n",
    "        for i in range(len(N2)-1):\n",
    "            if i == 0:\n",
    "                N3.append(1)\n",
    "            else:\n",
    "                N3.append(N1[i]+N2[i])\n",
    "        N3.append(1)\n",
    "        for nu in N3:\n",
    "            print(f'{nu} ', end='')\n",
    "        print('')\n",
    "        N1 = N3\n",
    "        \n",
    "\n"
   ]
  },
  {
   "cell_type": "code",
   "execution_count": null,
   "metadata": {},
   "outputs": [],
   "source": [
    "n1 = [1,1]\n",
    "n1.insert(0,1)\n",
    "''.join(n1)"
   ]
  },
  {
   "cell_type": "code",
   "execution_count": null,
   "metadata": {},
   "outputs": [],
   "source": [
    "가장 첫 줄에는 테스트 케이스의 개수 T가 주어지고, 그 아래로 각 테스트 케이스가 주어진다.\n",
    "\n",
    "각 테스트 케이스의 첫 번째 줄에 N 과 M 이 주어지고,\n",
    "\n",
    "다음 N 줄에 걸쳐 N x N 배열이 주어진다.\n",
    "\n",
    "\n",
    "\n"
   ]
  },
  {
   "cell_type": "code",
   "execution_count": null,
   "metadata": {},
   "outputs": [],
   "source": [
    "Test = int(input())\n",
    "N = int(input())\n",
    "M = int(input())\n",
    "for i in range(Test):\n",
    "    \n"
   ]
  },
  {
   "cell_type": "code",
   "execution_count": null,
   "metadata": {},
   "outputs": [],
   "source": [
    "a = (1,2,3,4)\n",
    "a[1] + a[2]"
   ]
  },
  {
   "cell_type": "code",
   "execution_count": null,
   "metadata": {},
   "outputs": [],
   "source": [
    "def positive_sum(numbers):\n",
    "    sum = 0\n",
    "    for i in numbers:\n",
    "        if i >= 0:\n",
    "            sum += i\n",
    "    return sum\n",
    "        \n",
    "\n",
    "print(positive_sum([1,-4,7,12]))\n",
    "print(positive_sum([-1,-2,-3,-4]))\n"
   ]
  },
  {
   "cell_type": "code",
   "execution_count": null,
   "metadata": {},
   "outputs": [],
   "source": [
    "def calc(equation):\n",
    "    ls = list(equation)\n",
    "    \n",
    "\n",
    "    \n",
    "    \n",
    "print(calc('123+2-124'))\n",
    "print(calc('-12+12-7979+9191'))\n",
    "print(calc('+1-1+1-1+1-1+1-1+1-1+1-1+1-1+1-1+1-1+1-1+1-1+1-1+1-1+1-1+1-1+1-1'))"
   ]
  },
  {
   "cell_type": "code",
   "execution_count": null,
   "metadata": {},
   "outputs": [],
   "source": [
    "ls = list('123+2-124')\n",
    "ls\n"
   ]
  },
  {
   "cell_type": "code",
   "execution_count": null,
   "metadata": {},
   "outputs": [],
   "source": [
    "def calc(equation):\n",
    "    result = equation.replace('+',' +').replace('-',' -').split()\n",
    "    result = sum(map(int,result))\n",
    "    return result\n",
    "\n",
    "calc('+1-1+1-1+1-1+1-1+1-1+1-1+1-1+1-1+1-1+1-1+1-1+1-1+1-1+1-1+1-1+1-1')\n",
    "calc('-12+12-7979+9191')\n"
   ]
  },
  {
   "cell_type": "code",
   "execution_count": null,
   "metadata": {},
   "outputs": [],
   "source": [
    "calc = '-12+12-7979+9191'\n",
    "ar= []\n",
    "words =''\n",
    "for i in calc:\n",
    "    if  "
   ]
  },
  {
   "cell_type": "code",
   "execution_count": null,
   "metadata": {},
   "outputs": [],
   "source": []
  },
  {
   "cell_type": "code",
   "execution_count": null,
   "metadata": {},
   "outputs": [],
   "source": [
    "int(-12)"
   ]
  },
  {
   "cell_type": "code",
   "execution_count": null,
   "metadata": {},
   "outputs": [],
   "source": [
    "int(+12)"
   ]
  },
  {
   "cell_type": "code",
   "execution_count": null,
   "metadata": {},
   "outputs": [],
   "source": [
    "class Point:\n",
    "    def __init__(self, x, y):\n",
    "        self.x = x\n",
    "        self.y = y\n",
    "    def __str__(self):\n",
    "        return f'Point:({self.x},{self.y})'\n",
    "        \n",
    "\n",
    "class Circle(Point):\n",
    "    \n",
    "    pi = 3.14\n",
    "    \n",
    "    def __init__(self, p, r):\n",
    "        self.center = p.x, p.y\n",
    "        self.r = r\n",
    "    def get_area(self):\n",
    "        return self.r**2*Circle.pi\n",
    "    def get_perimeter(self):\n",
    "        return 2*self.r*Circle.pi\n",
    "    def get_center(self):\n",
    "        return self.center\n",
    "    def __str__(self):\n",
    "        return f'Circle:({self.center}.r:{self.r})'\n",
    "    \n",
    "p1 = Point(0, 0)\n",
    "c1 = Circle(p1, 3)\n",
    "print(c1.get_area())\n",
    "print(c1.get_perimeter())\n",
    "print(c1.get_center())\n",
    "print(c1)\n",
    "p2 = Point(4, 5)\n",
    "c2 = Circle(p2, 1)\n",
    "print(c2.get_area())\n",
    "print(c2.get_perimeter())\n",
    "print(c2.get_center())\n",
    "print(c2)\n"
   ]
  },
  {
   "cell_type": "code",
   "execution_count": null,
   "metadata": {},
   "outputs": [],
   "source": [
    "N = int(input())\n",
    "check_num = ['3', '6', '9']\n",
    "result = ''\n",
    " \n",
    "for i in range(1, N+1):\n",
    "    convert_string = str(i)\n",
    "    personnel = ''\n",
    "    for j in convert_string:\n",
    "        if j in check_num:\n",
    "            personnel += '-'\n",
    "        else:\n",
    "            personnel += j\n",
    "    if '-' in personnel:\n",
    "        personnel = '-' * personnel.count('-')\n",
    "    else:\n",
    "        personnel = convert_string\n",
    "    result += personnel + ' '\n",
    "print(result)\n"
   ]
  },
  {
   "cell_type": "code",
   "execution_count": 7,
   "metadata": {},
   "outputs": [
    {
     "name": "stdout",
     "output_type": "stream",
     "text": [
      "10\n",
      "0 1 2 - 4 5 - 7 8 - 10\n"
     ]
    }
   ],
   "source": [
    "N = int(input())\n",
    "\n",
    "ls = list(map(str,range(N+1)))\n",
    "\n",
    "\n",
    "result = ''\n",
    "\n",
    "for i in ls:\n",
    "    words = ''\n",
    "    for j in i:\n",
    "        if j in ['3', '6', '9']:\n",
    "            words += '-'\n",
    "        else:\n",
    "            words += j\n",
    "    result += words+ ' '\n",
    "\n",
    "print(result.rstrip(' '))\n",
    "            \n",
    "            \n"
   ]
  },
  {
   "cell_type": "code",
   "execution_count": null,
   "metadata": {},
   "outputs": [],
   "source": [
    "ls = [1,2,34]\n",
    "A = map(str,ls)\n",
    "\n",
    "print(' '.join(A))\n",
    "\n"
   ]
  },
  {
   "cell_type": "code",
   "execution_count": 33,
   "metadata": {},
   "outputs": [
    {
     "name": "stdout",
     "output_type": "stream",
     "text": [
      "1 3 2 4\n",
      "[3, 4, 5, 5, 6, 7]\n"
     ]
    },
    {
     "data": {
      "text/plain": [
       "'[3, 4, 5, 5, 6, 7]'"
      ]
     },
     "execution_count": 33,
     "metadata": {},
     "output_type": "execute_result"
    }
   ],
   "source": [
    "a = input().split(' ')\n",
    "a = list(map(int,a))\n",
    "new_a = 0\n",
    "ls = []\n",
    "for i in range(0, len(a)):\n",
    "    for j in range(i+1,len(a)):\n",
    "        new_a = a[i] + a[j]\n",
    "        ls.append(new_a)\n",
    "ls.sort()\n",
    "ls.sort()\n",
    "print(ls)"
   ]
  },
  {
   "cell_type": "code",
   "execution_count": 39,
   "metadata": {},
   "outputs": [
    {
     "data": {
      "text/plain": [
       "'1223435'"
      ]
     },
     "execution_count": 39,
     "metadata": {},
     "output_type": "execute_result"
    }
   ],
   "source": [
    "ls = [1,2,35,3,2,4]\n",
    "\n",
    "ls.sort()\n",
    "ls = map(str, ls)\n",
    "''.join(ls)"
   ]
  },
  {
   "cell_type": "code",
   "execution_count": null,
   "metadata": {},
   "outputs": [],
   "source": []
  },
  {
   "cell_type": "code",
   "execution_count": null,
   "metadata": {},
   "outputs": [],
   "source": []
  }
 ],
 "metadata": {
  "kernelspec": {
   "display_name": "Python 3",
   "language": "python",
   "name": "python3"
  },
  "language_info": {
   "codemirror_mode": {
    "name": "ipython",
    "version": 3
   },
   "file_extension": ".py",
   "mimetype": "text/x-python",
   "name": "python",
   "nbconvert_exporter": "python",
   "pygments_lexer": "ipython3",
   "version": "3.7.3"
  }
 },
 "nbformat": 4,
 "nbformat_minor": 2
}
