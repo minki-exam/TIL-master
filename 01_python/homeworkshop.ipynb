{
 "cells": [
  {
   "cell_type": "markdown",
   "metadata": {},
   "source": [
    "# workshop Day 4\n",
    "\n"
   ]
  },
  {
   "cell_type": "code",
   "execution_count": null,
   "metadata": {},
   "outputs": [],
   "source": [
    "a = float(input())\n",
    "i = 1\n",
    "j = (a/2)\n",
    "for i in range(1,int(a)):\n",
    "    if (i+1)*(i+1)<a:\n",
    "        i += 1\n",
    "    else:\n",
    "         break\n",
    "\n",
    "for j in range(1,int(a)):\n",
    "    if j*j>a:\n",
    "        break\n",
    "    else:\n",
    "        j+=1    \n",
    "\n",
    "while round(i**2,5) != a or round(j**2,5) != a:\n",
    "    if ((i+j)/2)**2 < a:\n",
    "        i = (i+j)/2\n",
    "    elif ((i+j)/2)**2 > a:\n",
    "        j = (i+j)/2\n",
    "\n",
    "    \n",
    "print(round(i,5))\n",
    "\n"
   ]
  },
  {
   "cell_type": "code",
   "execution_count": 4,
   "metadata": {},
   "outputs": [
    {
     "name": "stdout",
     "output_type": "stream",
     "text": [
      "1.7320508072152734 1.7320508075688772\n"
     ]
    }
   ],
   "source": [
    "import math\n",
    "\n",
    "def bisection(n, minimum=0,maximum=1):\n",
    "    if minimum **2 ==n:\n",
    "        return minimum\n",
    "    elif maximum **2 == n:\n",
    "        return maximum\n",
    "    else:\n",
    "        while not math.isclose(minimum, maximum):\n",
    "            if minimum ** 2 < n < maximum ** 2:\n",
    "                guess = (minimum+maximum)/2\n",
    "                if n > guess ** 2:\n",
    "                    minimum = guess\n",
    "                else:\n",
    "                    maximum = guess\n",
    "            else:\n",
    "                minimum, maximum = maximum, maximum+1\n",
    "                \n",
    "        return minimum\n",
    "    \n",
    "print(bisection(3), 3**(1/2))\n",
    "\n",
    "def bis(n, minimum=0,maximum=1):\n",
    "    if minimum **2 ==n:\n",
    "        return minimum\n",
    "    elif maximum **2 == n:\n",
    "        return maximum\n",
    "    else math.isclose(minimum, maximum):\n",
    "        return minimum\n",
    "    \n",
    "    if minimum ** 2 < n < maximum ** 2:\n",
    "        guess = (minimum+maximum) / 2\n",
    "        if n < guess ** 2: \n",
    "            bis(n, minimum, guess)\n",
    "        else:\n",
    "            bis(n,guess,maximum)\n",
    "            \n",
    "        \n",
    "    else:\n",
    "        minimum, maximum = maximum, maximum + 1\n",
    "        return bis(n, minimum, maximum)\n",
    "       \n"
   ]
  },
  {
   "cell_type": "code",
   "execution_count": null,
   "metadata": {},
   "outputs": [],
   "source": []
  }
 ],
 "metadata": {
  "kernelspec": {
   "display_name": "Python 3",
   "language": "python",
   "name": "python3"
  },
  "language_info": {
   "codemirror_mode": {
    "name": "ipython",
    "version": 3
   },
   "file_extension": ".py",
   "mimetype": "text/x-python",
   "name": "python",
   "nbconvert_exporter": "python",
   "pygments_lexer": "ipython3",
   "version": "3.7.3"
  }
 },
 "nbformat": 4,
 "nbformat_minor": 2
}
