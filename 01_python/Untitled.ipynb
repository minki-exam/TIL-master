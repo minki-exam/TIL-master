{
 "cells": [
  {
   "cell_type": "code",
   "execution_count": null,
   "metadata": {},
   "outputs": [],
   "source": [
    "n = 5\n",
    "m = 9\n",
    "\n",
    "for i in range(0,m):\n",
    "    print('*', end = '')\n",
    "    for j in range(0,n-1):\n",
    "        print('*', end = '')\n",
    "    print('')\n",
    "\n",
    "    # 반복문을 사용하지 않는 방법\n",
    "garo = '*'*n\n",
    "print((garo+'\\n')*m)\n",
    "print(((garo + '\\n')*(m-1)) + garo)\n"
   ]
  },
  {
   "cell_type": "code",
   "execution_count": null,
   "metadata": {},
   "outputs": [],
   "source": [
    "n , m = 5, 9\n",
    "\n",
    "print(('*'* n + '\\n')*m)"
   ]
  },
  {
   "cell_type": "code",
   "execution_count": 3,
   "metadata": {},
   "outputs": [
    {
     "name": "stdout",
     "output_type": "stream",
     "text": [
      "\"파일은 C:\\Windows\\Users\\내문서\\Python에 저장이 되어있습니다.\"\n",
      "나는 생각했다. 'cd를 써서 git bash로 들어가봐야지'\n"
     ]
    }
   ],
   "source": [
    "# 2\n",
    "\n",
    "#\"파일은 C:\\Windows\\Users\\내문서\\Python에 저장이 되어있습니다.\"\n",
    "#나는 생각했다. 'cd를 써서 git bash로 들어가봐야지'\n",
    "\n",
    "answer = '\"파일은 C:\\\\Windows\\\\Users\\\\내문서\\\\Python에 저장이 되어있습니다.\"\\n나는 생각했다. \\'cd를 써서 git bash로 들어가봐야지\\''\n",
    "print(answer)"
   ]
  },
  {
   "cell_type": "code",
   "execution_count": null,
   "metadata": {},
   "outputs": [],
   "source": []
  },
  {
   "cell_type": "code",
   "execution_count": 8,
   "metadata": {},
   "outputs": [
    {
     "ename": "TypeError",
     "evalue": "'int' object is not callable",
     "output_type": "error",
     "traceback": [
      "\u001b[1;31m---------------------------------------------------------------------------\u001b[0m",
      "\u001b[1;31mTypeError\u001b[0m                                 Traceback (most recent call last)",
      "\u001b[1;32m<ipython-input-8-cc107c4e9ff1>\u001b[0m in \u001b[0;36m<module>\u001b[1;34m\u001b[0m\n\u001b[0;32m      5\u001b[0m \u001b[1;32mfor\u001b[0m \u001b[0mx1\u001b[0m \u001b[1;32min\u001b[0m \u001b[0mrange\u001b[0m\u001b[1;33m(\u001b[0m\u001b[1;36m0\u001b[0m\u001b[1;33m,\u001b[0m\u001b[1;36m10\u001b[0m\u001b[1;33m)\u001b[0m\u001b[1;33m:\u001b[0m\u001b[1;33m\u001b[0m\u001b[1;33m\u001b[0m\u001b[0m\n\u001b[0;32m      6\u001b[0m     \u001b[0mx1\u001b[0m\u001b[1;33m+=\u001b[0m\u001b[1;36m1\u001b[0m\u001b[1;33m\u001b[0m\u001b[1;33m\u001b[0m\u001b[0m\n\u001b[1;32m----> 7\u001b[1;33m     \u001b[1;32mif\u001b[0m \u001b[0mqu\u001b[0m\u001b[1;33m(\u001b[0m\u001b[0mx1\u001b[0m\u001b[1;33m)\u001b[0m \u001b[1;33m==\u001b[0m \u001b[1;36m0\u001b[0m\u001b[1;33m:\u001b[0m\u001b[1;33m\u001b[0m\u001b[1;33m\u001b[0m\u001b[0m\n\u001b[0m\u001b[0;32m      8\u001b[0m         \u001b[0mpritn\u001b[0m\u001b[1;33m(\u001b[0m\u001b[0mx1\u001b[0m\u001b[1;33m)\u001b[0m\u001b[1;33m\u001b[0m\u001b[1;33m\u001b[0m\u001b[0m\n\u001b[0;32m      9\u001b[0m \u001b[1;33m\u001b[0m\u001b[0m\n",
      "\u001b[1;31mTypeError\u001b[0m: 'int' object is not callable"
     ]
    }
   ],
   "source": [
    "\n",
    "x = int()\n",
    "qu = x*x+4*x-21\n",
    "\n",
    "\n",
    "for x1 in range(0,10):\n",
    "    x1+=1\n",
    "    if qu(x1) == 0:\n",
    "        pritn(x1)\n",
    "        \n",
    "for x1 in range(0,-10,-1):\n",
    "    x1-=1\n",
    "    if qu(x2) == 0:\n",
    "        print(x2)\n",
    " \n",
    "        "
   ]
  },
  {
   "cell_type": "code",
   "execution_count": null,
   "metadata": {},
   "outputs": [],
   "source": [
    "#Workshop2\n",
    "\n"
   ]
  },
  {
   "cell_type": "code",
   "execution_count": 21,
   "metadata": {},
   "outputs": [
    {
     "name": "stdout",
     "output_type": "stream",
     "text": [
      "1번 학생은 88점으로 합격입니다.\n",
      "2번 학생은 30점으로 합격입니다.\n",
      "3번 학생은 61점으로 합격입니다.\n",
      "4번 학생은 55점으로 합격입니다.\n",
      "5번 학생은 95점으로 합격입니다.\n"
     ]
    }
   ],
   "source": [
    "l1 = [88, 30, 61, 55, 95]\n",
    "\n",
    "for i in range(0,5):\n",
    "    if l1[i] > 60:\n",
    "        print(f'{i+1}번 학생은 {l1[i]}점으로 합격입니다.')\n",
    "        \n",
    "    else:\n",
    "        print(f'{i+1}번 학생은 {l1[i]}점으로 합격입니다.')"
   ]
  },
  {
   "cell_type": "code",
   "execution_count": 16,
   "metadata": {},
   "outputs": [
    {
     "name": "stdout",
     "output_type": "stream",
     "text": [
      "[8, 6, 4, 4, 5, 5]\n"
     ]
    }
   ],
   "source": [
    "l1 = [8,6,4,4,5,5]\n",
    "\n",
    "print(l1)"
   ]
  },
  {
   "cell_type": "code",
   "execution_count": 25,
   "metadata": {},
   "outputs": [
    {
     "name": "stdout",
     "output_type": "stream",
     "text": [
      "1\n",
      "2\n",
      "3\n",
      "4\n",
      "5\n",
      "6\n",
      "7\n",
      "8\n"
     ]
    }
   ],
   "source": [
    "abcd = [ 1,2,3,4,5,6,7,8]\n",
    "i = 0\n",
    "for i in abcd:\n",
    "    print(i)\n"
   ]
  },
  {
   "cell_type": "code",
   "execution_count": 27,
   "metadata": {},
   "outputs": [
    {
     "name": "stdout",
     "output_type": "stream",
     "text": [
      "87.75\n",
      "dict_values([80, 99, 89, 83])\n"
     ]
    }
   ],
   "source": [
    "student = {'python' : 80, 'algorithm' : 99, 'django' : 89, 'flask' : 83}\n",
    "\n",
    "def average(list):\n",
    "    return (sum(list) / len(list))\n",
    "print(average(student.values()))\n",
    "print(student.values())\n"
   ]
  },
  {
   "cell_type": "code",
   "execution_count": 6,
   "metadata": {},
   "outputs": [
    {
     "name": "stdout",
     "output_type": "stream",
     "text": [
      "['A', 'B', 'A', 'O', 'AB', 'AB', 'O', 'A', 'B', 'O', 'B', 'AB']\n",
      "{'A': 0, 'B': 0, 'O': 0, 'AB': 0}\n",
      "{'A': 3, 'B': 3, 'O': 3, 'AB': 3}\n"
     ]
    }
   ],
   "source": [
    "blood_types = ['A', 'B', 'A', 'O', 'AB', 'AB', 'O', 'A', 'B', 'O', 'B', 'AB']\n",
    "\n",
    "'''\n",
    "dict_blood = dict()  # 빈 dict 선언\n",
    "for i in blood_types:\n",
    "    if i not in dict_blood:\n",
    "        dict_blood[i] = blood_types.count(i)\n",
    "print(dict_blood)\n",
    "'''\n",
    "\n",
    "unique_blood_type = list(blood_types)\n",
    "\n",
    "print(unique_blood_type)\n",
    "\n",
    "count_dict = {}\n",
    "\n",
    "for u in unique_blood_type:\n",
    "    count_dict[u] = 0            # count_dict[]라는 dict에 키 값을 입력한다\n",
    "    \n",
    "print(count_dict)\n",
    "\n",
    "for b in blood_types:\n",
    "    count_dict[b] += 1          # 이 과정을 통해 value 값을 더한다. \n",
    "\n",
    "print(count_dict)\n"
   ]
  },
  {
   "cell_type": "code",
   "execution_count": null,
   "metadata": {},
   "outputs": [],
   "source": [
    "blood_types = ['A', 'B', 'A', 'O', 'AB', 'AB', 'O', 'A', 'B', 'O', 'B', 'AB']\n",
    "\n",
    "count_dict = {}\n",
    "\n",
    "for b in blood_types:\n",
    "    if count_dict.get(b): # True / None== False\n",
    "        \n",
    "    else:\n",
    "        pass\n"
   ]
  },
  {
   "cell_type": "code",
   "execution_count": 11,
   "metadata": {},
   "outputs": [
    {
     "ename": "NameError",
     "evalue": "name 'B' is not defined",
     "output_type": "error",
     "traceback": [
      "\u001b[1;31m---------------------------------------------------------------------------\u001b[0m",
      "\u001b[1;31mNameError\u001b[0m                                 Traceback (most recent call last)",
      "\u001b[1;32m<ipython-input-11-0f47f7656634>\u001b[0m in \u001b[0;36m<module>\u001b[1;34m\u001b[0m\n\u001b[0;32m      1\u001b[0m \u001b[1;33m{\u001b[0m\u001b[1;34m'a'\u001b[0m \u001b[1;33m:\u001b[0m \u001b[1;34m'A'\u001b[0m\u001b[1;33m}\u001b[0m\u001b[1;33m.\u001b[0m\u001b[0mget\u001b[0m\u001b[1;33m(\u001b[0m\u001b[1;34m'X'\u001b[0m\u001b[1;33m)\u001b[0m\u001b[1;33m\u001b[0m\u001b[1;33m\u001b[0m\u001b[0m\n\u001b[0;32m      2\u001b[0m \u001b[1;33m{\u001b[0m\u001b[1;34m'b'\u001b[0m \u001b[1;33m:\u001b[0m \u001b[1;34m'B'\u001b[0m\u001b[1;33m}\u001b[0m\u001b[1;33m\u001b[0m\u001b[1;33m\u001b[0m\u001b[0m\n\u001b[1;32m----> 3\u001b[1;33m \u001b[1;33m[\u001b[0m\u001b[0mB\u001b[0m\u001b[1;33m]\u001b[0m\u001b[1;33m\u001b[0m\u001b[1;33m\u001b[0m\u001b[0m\n\u001b[0m",
      "\u001b[1;31mNameError\u001b[0m: name 'B' is not defined"
     ]
    }
   ],
   "source": [
    "{'a' : 'A'}.get('X')\n",
    "{'b' : 'B'}\n",
    "[B]"
   ]
  },
  {
   "cell_type": "code",
   "execution_count": null,
   "metadata": {},
   "outputs": [],
   "source": []
  },
  {
   "cell_type": "code",
   "execution_count": 33,
   "metadata": {},
   "outputs": [
    {
     "name": "stdout",
     "output_type": "stream",
     "text": [
      "0 1 2 3 4 5 6 7 8 9 10 11 12 13 14 15 16 17 18 19 20 21 22 23 24 25 26 27 28 29 30 31 32 33 34 35 36 37 38 39 40 41 42 43 44 45 46 47 48 49 "
     ]
    }
   ],
   "source": [
    "for i in range(50):\n",
    "    print(i, end = ' ')\n",
    "\n",
    "    "
   ]
  },
  {
   "cell_type": "code",
   "execution_count": 34,
   "metadata": {},
   "outputs": [
    {
     "ename": "SyntaxError",
     "evalue": "invalid syntax (<ipython-input-34-ab3b4285975c>, line 1)",
     "output_type": "error",
     "traceback": [
      "\u001b[1;36m  File \u001b[1;32m\"<ipython-input-34-ab3b4285975c>\"\u001b[1;36m, line \u001b[1;32m1\u001b[0m\n\u001b[1;33m    for i in slicing(50::2):\u001b[0m\n\u001b[1;37m                       ^\u001b[0m\n\u001b[1;31mSyntaxError\u001b[0m\u001b[1;31m:\u001b[0m invalid syntax\n"
     ]
    }
   ],
   "source": [
    "for i in slicing(50::2):\n",
    "    print(i)"
   ]
  },
  {
   "cell_type": "code",
   "execution_count": 101,
   "metadata": {
    "scrolled": true
   },
   "outputs": [
    {
     "ename": "SyntaxError",
     "evalue": "invalid syntax (<ipython-input-101-88121f04ff9d>, line 1)",
     "output_type": "error",
     "traceback": [
      "\u001b[1;36m  File \u001b[1;32m\"<ipython-input-101-88121f04ff9d>\"\u001b[1;36m, line \u001b[1;32m1\u001b[0m\n\u001b[1;33m    def rsp{num1,num2}:\u001b[0m\n\u001b[1;37m           ^\u001b[0m\n\u001b[1;31mSyntaxError\u001b[0m\u001b[1;31m:\u001b[0m invalid syntax\n"
     ]
    }
   ],
   "source": [
    "def rsp{num1,num2}:\n",
    "    if rsp == {가위, 바위}:\n",
    "        print('바위가 이겼습니다.')\n",
    "    if rsp == {가위, 보}:\n",
    "        print('가위가 이겼습니다.')\n",
    "    if rsp == {보, 바위}:\n",
    "        print('보가 이겼습니다.')\n",
    "a = input()\n",
    "print(a)\n",
    "b = input()\n",
    "print(b)\n",
    "c = input()\n",
    "print(c)\n",
    "d = input()\n",
    "print(d)\n",
    "rsp(c,d)\n",
    "    \n"
   ]
  },
  {
   "cell_type": "code",
   "execution_count": 92,
   "metadata": {
    "scrolled": false
   },
   "outputs": [
    {
     "name": "stdout",
     "output_type": "stream",
     "text": [
      " 0 1 2 3 4 5 6 7 8 9 \n"
     ]
    }
   ],
   "source": [
    "print(' 0 1 2 3 4 5 6 7 8 9 ')\n",
    "print(f' {a} {b} {c} {d} {e} {f} {g} {h} {i} )"
   ]
  },
  {
   "cell_type": "code",
   "execution_count": 94,
   "metadata": {},
   "outputs": [
    {
     "name": "stdout",
     "output_type": "stream",
     "text": [
      "0\n"
     ]
    }
   ],
   "source": [
    "\n",
    "\n",
    "\n",
    "\n"
   ]
  },
  {
   "cell_type": "code",
   "execution_count": 16,
   "metadata": {},
   "outputs": [
    {
     "data": {
      "text/plain": [
       "'9 23 1 14 20 20 15 2 5 6 18 5 5 '"
      ]
     },
     "execution_count": 16,
     "metadata": {},
     "output_type": "execute_result"
    }
   ],
   "source": [
    "def alphabet_position(text):\n",
    "    numbers = ''\n",
    "    for i in text:\n",
    "        if ord(i) <= 121 and ord(i) >= 97:\n",
    "            number = ord(i) - 96\n",
    "            numbers += str(number) + ' '\n",
    "    return numbers\n",
    "        \n",
    "test = \"i want to be free\"\n",
    "alphabet_position(test)"
   ]
  },
  {
   "cell_type": "code",
   "execution_count": 20,
   "metadata": {},
   "outputs": [
    {
     "data": {
      "text/plain": [
       "'123456726'"
      ]
     },
     "execution_count": 20,
     "metadata": {},
     "output_type": "execute_result"
    }
   ],
   "source": [
    "def alphabet_position(text):\n",
    "    numbers = ''\n",
    "    for i in text:\n",
    "        if ord(i) <= 122 and ord(i) >= 97:\n",
    "            number = ord(i) - 96\n",
    "            numbers += str(number)\n",
    "    return numbers\n",
    "text = 'abcdefgz'\n",
    "alphabet_position(text)\n"
   ]
  },
  {
   "cell_type": "code",
   "execution_count": null,
   "metadata": {},
   "outputs": [],
   "source": []
  }
 ],
 "metadata": {
  "kernelspec": {
   "display_name": "Python 3",
   "language": "python",
   "name": "python3"
  },
  "language_info": {
   "codemirror_mode": {
    "name": "ipython",
    "version": 3
   },
   "file_extension": ".py",
   "mimetype": "text/x-python",
   "name": "python",
   "nbconvert_exporter": "python",
   "pygments_lexer": "ipython3",
   "version": "3.7.3"
  }
 },
 "nbformat": 4,
 "nbformat_minor": 2
}
