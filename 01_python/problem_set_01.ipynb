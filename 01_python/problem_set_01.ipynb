{
 "cells": [
  {
   "cell_type": "markdown",
   "metadata": {},
   "source": [
    "# Problem set (Python intro & Control of Flow"
   ]
  },
  {
   "cell_type": "markdown",
   "metadata": {},
   "source": [
    "## 구구단 출력\n",
    "\n",
    "출력 결과 예시\n",
    "```\n",
    "----- 2 단 -----\n",
    "2 * 1 = 2\n",
    "2 * 2 = 4\n",
    "2 * 3 = 6\n",
    "...\n",
    "\n",
    "----- 3단 -----\n",
    "3 * 1 = 3\n",
    "3 * 2 = 6\n",
    "3 * 3 = 9\n",
    "...\n",
    "\n",
    "----- 9단 -----\n",
    "...\n",
    "9 * 8 = 72\n",
    "9 * 9 = 81\n",
    "```"
   ]
  },
  {
   "cell_type": "code",
   "execution_count": null,
   "metadata": {},
   "outputs": [],
   "source": [
    "# GO!\n",
    "# 구구단\n",
    "\n",
    "for i in range(2,10):\n",
    "    print(f'\\n-----{i}단-----')\n",
    "    for j in range(1,10):\n",
    "        k = i*j\n",
    "        print(f'  {i} * {j} = {k}')\n",
    "\n",
    "\n"
   ]
  },
  {
   "cell_type": "markdown",
   "metadata": {},
   "source": [
    "## 소수 찾기\n",
    "\n",
    "> 2 부터 N 까지의 정수에서 소수를 찾아내기.\n",
    "\n",
    "출력 결과 예시(N 이 10 일 경우)\n",
    "```\n",
    "2\n",
    "3\n",
    "5\n",
    "7\n",
    "```\n",
    "\n",
    "### 추가 구현\n",
    "> 소수 판단 과정에서 소수가 아니라 판단되면, `break` 사용"
   ]
  },
  {
   "cell_type": "code",
   "execution_count": null,
   "metadata": {},
   "outputs": [],
   "source": [
    "# GO!\n",
    "\n",
    "count = 0\n",
    "number = int(input('정수를 입력하세요 :'))\n",
    "for i in range(2,number+1):   \n",
    "    for j in range(1,i+1):\n",
    "        if i%j ==0:\n",
    "            count += 1\n",
    "    if count == 2:\n",
    "        print(f'소수 :{i}')\n",
    "        if count > 2:\n",
    "            break\n",
    "        \n",
    "    count = 0\n",
    "                \n",
    "            "
   ]
  },
  {
   "cell_type": "code",
   "execution_count": null,
   "metadata": {
    "scrolled": false
   },
   "outputs": [],
   "source": [
    "\n",
    "N = int(input('정수를 입력하세요 : '))\n",
    "\n",
    "import time\n",
    "\n",
    "start = time.time()\n",
    "\n",
    "for i in range(2,N+1):\n",
    "   \n",
    "    for j in range(2,i):\n",
    "        if i%j == 0:\n",
    "            break\n",
    "            \n",
    "        else:\n",
    "            print(i)\n",
    "            \n",
    "end = time.time()\n",
    "\n",
    "print(end - start)\n",
    "          \n",
    "#   if is_prime == True:\n",
    "#        print(i)\n",
    "    \n",
    "    \n",
    "    \n",
    "    "
   ]
  },
  {
   "cell_type": "code",
   "execution_count": null,
   "metadata": {},
   "outputs": [],
   "source": [
    "N = int(input('정수를 입력하세요 : '))\n",
    "import time\n",
    "\n",
    "start = time.time()\n",
    "\n",
    "\n",
    "for i in range(2,N):\n",
    "    for j in range(2,int(N**0.5)+1):\n",
    "        if i%j == 0:\n",
    "            break\n",
    "            \n",
    "        else:\n",
    "            print(i)\n",
    "            \n",
    "end = time.time()\n",
    "\n",
    "print(end - start)\n"
   ]
  },
  {
   "cell_type": "code",
   "execution_count": null,
   "metadata": {},
   "outputs": [],
   "source": [
    "h"
   ]
  },
  {
   "cell_type": "markdown",
   "metadata": {},
   "source": [
    "## 팩토리얼 구현하기\n",
    "\n",
    "> n! = 1 * 2 * 3 ... n-1 * n\n",
    "\n",
    "출력 결과 예시\n",
    "```\n",
    "N 을 입력하세요: 5\n",
    "120\n",
    "```"
   ]
  },
  {
   "cell_type": "code",
   "execution_count": null,
   "metadata": {},
   "outputs": [],
   "source": [
    "# GO!\n",
    "\n",
    "N = int(input('숫자를 입력하세요 :'))\n",
    "fac = 1\n",
    "for i in range(1,N+1):\n",
    "    fac *= i\n",
    "print(fac)\n",
    "    \n",
    "    \n"
   ]
  },
  {
   "cell_type": "code",
   "execution_count": null,
   "metadata": {},
   "outputs": [],
   "source": [
    "# math\n",
    "import math\n",
    "\n",
    "result = math.factorial(5)\n",
    "print(result)"
   ]
  },
  {
   "cell_type": "markdown",
   "metadata": {},
   "source": [
    "## 중첩 조건문 활용하기\n",
    "\n",
    "> 아래와 같이 유저 목록이 담긴 리스트가 있습니다. \n",
    "```\n",
    "users = [\n",
    "    {'id': 'john', 'password': 'qwer1234'},\n",
    "    {'id': 'neo', 'password': '12341234'},\n",
    "    {'id': 'jason', 'password': 'kingjason'},\n",
    "]\n",
    "```\n",
    "1) 사용자의 이름을 입력받아 \n",
    "2) 등록된 사용자일 경우 \n",
    "3) 비밀번호를 입력 받습니다. \n",
    "- 이때 비밀번호가 12345678의 경우 '환영합니다!' 라는 메시지를 출력하고 비밀번호가 틀릴 경우 '패스워드가 올바르지 않습니다.' 라는 메시지를 출력합니다. \n",
    "- 등록된 사용자가 아닌 경우 '존재하지 않는 사용자입니다.' 라는 메시지를 출력합니다. \n",
    "\n",
    "출력 결과 예시\n",
    "\n",
    "```\n",
    "id 를 입력하세요: neo\n",
    "password 를 입력하세요: 12341234\n",
    "환영합니다!\n",
    "```\n",
    "\n",
    "```\n",
    "id 를 입력하세요: john\n",
    "password 를 입력하세요: 123123\n",
    "패스워드가 올바르지 않습니다.\n",
    "```\n",
    "\n",
    "```\n",
    "id 를 입력하세요: JASON\n",
    "존재하지 않는 사용자 입니다.\n",
    "```\n",
    "\n",
    "### 추가 구현\n",
    "> id 혹은 pw 가 틀렸을 경우 맞을 때 까지 계속 물어보게 구현하기"
   ]
  },
  {
   "cell_type": "code",
   "execution_count": null,
   "metadata": {},
   "outputs": [],
   "source": [
    "# users 안의 id 와 password 는 바꿔도 상관 없습니다.\n",
    "users = [\n",
    "    {'id': 'john', 'password': 'qwer1234'},\n",
    "    {'id': 'neo', 'password': '12341234'},\n",
    "    {'id': 'jason', 'password': 'kingjason'},\n",
    "]\n",
    "\n",
    "users[1].values()\n",
    "user_put[]\n",
    "user_put = input('ID를 입력하세요')\n",
    "\n",
    "id_input = input('id를 입력하세요 :')\n",
    "print(input('id를 입력하세요:'))\n",
    "\n",
    "for i in range(0,3):\n",
    "    if id_input != users[i].values():\n",
    "        continue\n",
    "    elif id_input == users[i].values():\n",
    "        \n",
    "        \n",
    "\n",
    "\n",
    "\n",
    "\n",
    "\n",
    "\n",
    "\n",
    "\n"
   ]
  },
  {
   "cell_type": "code",
   "execution_count": null,
   "metadata": {},
   "outputs": [],
   "source": [
    "users = [\n",
    "    {'id': 'john', 'password': 'qwer1234'},\n",
    "    {'id': 'neo', 'password': '12341234'},\n",
    "    {'id': 'jason', 'password': 'kingjason'},\n",
    "]\n",
    "\n",
    "users[1]['id']\n",
    "\n",
    "id_put = input('ID를 입력하세요 :')\n",
    "for i in range(0,2):\n",
    "    if id_put == users[i]['id']:\n",
    "        pass_put = input('password를 입력하세요 :')\n",
    "        if pass_put == users[i]['password']:\n",
    "                print('환영합니다.')\n",
    "                break\n",
    "        else:\n",
    "                print('Wrong.')\n",
    "    else:\n",
    "        print('틀린 대답입니다.')\n",
    "    id_put = input('ID를 입력하세요 :')\n",
    "    continue\n",
    "    #틀렸음\n",
    "    "
   ]
  },
  {
   "cell_type": "code",
   "execution_count": 1,
   "metadata": {},
   "outputs": [
    {
     "name": "stdout",
     "output_type": "stream",
     "text": [
      "id :no\n",
      "존재하지 않는 사용자입니다.\n",
      "id :no\n",
      "존재하지 않는 사용자입니다.\n",
      "id :neo\n",
      "password :12\n",
      "비밀번호가 올바르지 않습니다.\n",
      "password :123\n",
      "비밀번호가 올바르지 않습니다.\n",
      "password :12341234\n",
      "환영합니다!\n"
     ]
    }
   ],
   "source": [
    "users = [\n",
    "    {'id': 'john', 'password': 'qwer1234'},\n",
    "    {'id': 'neo', 'password': '12341234'},\n",
    "    {'id': 'jason', 'password': 'kingjason'},\n",
    "]\n",
    "#id 입력받기\n",
    "\n",
    "find_id = False\n",
    "while not find_id:\n",
    "    id_input = input('id :')\n",
    "    for user in users:   # user = ['id' : ??? 'pw' : ???]\n",
    "\n",
    "        if id_input == user['id']:\n",
    "            find_id = True\n",
    "            find_password = False\n",
    "            while not find_password:\n",
    "                pw_input = input('password :')\n",
    "                if pw_input == user['password']:\n",
    "                    find_password = True\n",
    "                    print('환영합니다!')\n",
    "                else:\n",
    "                    print('비밀번호가 올바르지 않습니다.')\n",
    "            break\n",
    "    else:\n",
    "        print('존재하지 않는 사용자입니다.')\n",
    "\n",
    "            \n",
    "\n",
    "#password 입력받기\n",
    "        "
   ]
  },
  {
   "cell_type": "code",
   "execution_count": null,
   "metadata": {},
   "outputs": [],
   "source": [
    "basket = {'apple': 4, 'orange': 3, 'computer': 28, 'tv': 2, 'banana': 5, 'tomato': 9}\n",
    "fruits = ['apple', 'orange', 'banana', 'pear', 'tomato']\n",
    "\n",
    "# 과일은 21개, 아닌 것은 30개\n",
    "total = [0, 0]\n",
    "for k, v in basket.items():\n",
    "    if k in fruits:\n",
    "        total[0] += v\n",
    "    if k not in fruits:\n",
    "        total[1] += v\n",
    "print('과일은 {}개, 아닌 것은 {}개'.format(total[0], total[1]))"
   ]
  },
  {
   "cell_type": "code",
   "execution_count": null,
   "metadata": {},
   "outputs": [],
   "source": [
    "basket = {'apple': 4, 'orange': 3, 'computer': 28, 'tv': 2, 'banana': 5, 'tomato': 9}\n",
    "fruits = ['apple', 'orange', 'banana', 'pear', 'tomato']\n",
    "total = [0,0]\n",
    "\n",
    "fruits_total = 0\n",
    "for fruit in fruits:\n",
    "#    if not basket.get(fruit) == None: ==> 0,None은 통과할 수 없다\n",
    "    if basket.get(fruit): # ==> 값이 있으면 if문 아래를 돌리겠다.\n",
    "#    basket[fruit]  ==> 없으면 에러\n",
    "        fruits_total += basket.get(fruit) # basket에서 꺼낸다\n",
    "not_fruits_total = sum(basket.values()) - fruits_total\n",
    "\n",
    "print(fruits_total, not_fruits_total)\n",
    "    \n",
    "print(fruit_total)\n",
    "# for k,v in basket.items(): #==> key,value가 튜플 형태로 나온다\n",
    "#     if k in fruits:\n",
    " \n",
    "\n",
    "\n",
    "    \n"
   ]
  },
  {
   "cell_type": "code",
   "execution_count": null,
   "metadata": {},
   "outputs": [],
   "source": []
  }
 ],
 "metadata": {
  "kernelspec": {
   "display_name": "Python 3",
   "language": "python",
   "name": "python3"
  },
  "language_info": {
   "codemirror_mode": {
    "name": "ipython",
    "version": 3
   },
   "file_extension": ".py",
   "mimetype": "text/x-python",
   "name": "python",
   "nbconvert_exporter": "python",
   "pygments_lexer": "ipython3",
   "version": "3.7.3"
  }
 },
 "nbformat": 4,
 "nbformat_minor": 2
}
